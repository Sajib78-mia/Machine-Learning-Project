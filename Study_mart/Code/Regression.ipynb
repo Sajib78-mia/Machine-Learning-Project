{
 "cells": [
  {
   "cell_type": "code",
   "execution_count": 1,
   "id": "ba7cb374-ae41-4181-a6d1-7f6e59413560",
   "metadata": {},
   "outputs": [],
   "source": [
    "import pandas as pd\n",
    "from matplotlib import pyplot as plt"
   ]
  },
  {
   "cell_type": "code",
   "execution_count": 2,
   "id": "fc1cacfe-76d4-40c3-b0a2-bcba50d0c695",
   "metadata": {},
   "outputs": [
    {
     "data": {
      "text/html": [
       "<div>\n",
       "<style scoped>\n",
       "    .dataframe tbody tr th:only-of-type {\n",
       "        vertical-align: middle;\n",
       "    }\n",
       "\n",
       "    .dataframe tbody tr th {\n",
       "        vertical-align: top;\n",
       "    }\n",
       "\n",
       "    .dataframe thead th {\n",
       "        text-align: right;\n",
       "    }\n",
       "</style>\n",
       "<table border=\"1\" class=\"dataframe\">\n",
       "  <thead>\n",
       "    <tr style=\"text-align: right;\">\n",
       "      <th></th>\n",
       "      <th>Date</th>\n",
       "      <th>Starting</th>\n",
       "      <th>Ending</th>\n",
       "    </tr>\n",
       "  </thead>\n",
       "  <tbody>\n",
       "    <tr>\n",
       "      <th>0</th>\n",
       "      <td>01.01.24</td>\n",
       "      <td>16800</td>\n",
       "      <td>16500</td>\n",
       "    </tr>\n",
       "    <tr>\n",
       "      <th>1</th>\n",
       "      <td>01.12.23</td>\n",
       "      <td>15900</td>\n",
       "      <td>16100</td>\n",
       "    </tr>\n",
       "    <tr>\n",
       "      <th>2</th>\n",
       "      <td>01.11.23</td>\n",
       "      <td>15800</td>\n",
       "      <td>15300</td>\n",
       "    </tr>\n",
       "    <tr>\n",
       "      <th>3</th>\n",
       "      <td>01.10.23</td>\n",
       "      <td>16100</td>\n",
       "      <td>16200</td>\n",
       "    </tr>\n",
       "    <tr>\n",
       "      <th>4</th>\n",
       "      <td>01.09.23</td>\n",
       "      <td>16300</td>\n",
       "      <td>15700</td>\n",
       "    </tr>\n",
       "    <tr>\n",
       "      <th>5</th>\n",
       "      <td>01.08.23</td>\n",
       "      <td>16800</td>\n",
       "      <td>16400</td>\n",
       "    </tr>\n",
       "    <tr>\n",
       "      <th>6</th>\n",
       "      <td>01.07.23</td>\n",
       "      <td>15900</td>\n",
       "      <td>16200</td>\n",
       "    </tr>\n",
       "    <tr>\n",
       "      <th>7</th>\n",
       "      <td>01.06.23</td>\n",
       "      <td>15800</td>\n",
       "      <td>15500</td>\n",
       "    </tr>\n",
       "    <tr>\n",
       "      <th>8</th>\n",
       "      <td>01.05.23</td>\n",
       "      <td>16150</td>\n",
       "      <td>16100</td>\n",
       "    </tr>\n",
       "    <tr>\n",
       "      <th>9</th>\n",
       "      <td>01.04.23</td>\n",
       "      <td>16300</td>\n",
       "      <td>15800</td>\n",
       "    </tr>\n",
       "    <tr>\n",
       "      <th>10</th>\n",
       "      <td>01.03.23</td>\n",
       "      <td>16200</td>\n",
       "      <td>16200</td>\n",
       "    </tr>\n",
       "    <tr>\n",
       "      <th>11</th>\n",
       "      <td>01.02.23</td>\n",
       "      <td>16300</td>\n",
       "      <td>15700</td>\n",
       "    </tr>\n",
       "  </tbody>\n",
       "</table>\n",
       "</div>"
      ],
      "text/plain": [
       "        Date  Starting  Ending\n",
       "0   01.01.24     16800   16500\n",
       "1   01.12.23     15900   16100\n",
       "2   01.11.23     15800   15300\n",
       "3   01.10.23     16100   16200\n",
       "4   01.09.23     16300   15700\n",
       "5   01.08.23     16800   16400\n",
       "6   01.07.23     15900   16200\n",
       "7   01.06.23     15800   15500\n",
       "8   01.05.23     16150   16100\n",
       "9   01.04.23     16300   15800\n",
       "10  01.03.23     16200   16200\n",
       "11  01.02.23     16300   15700"
      ]
     },
     "execution_count": 2,
     "metadata": {},
     "output_type": "execute_result"
    }
   ],
   "source": [
    "df=pd.read_csv(\"sajib.csv\")\n",
    "df"
   ]
  },
  {
   "cell_type": "code",
   "execution_count": 3,
   "id": "6f490f83-b60f-4a2e-a3f4-922aaff01035",
   "metadata": {},
   "outputs": [
    {
     "data": {
      "text/html": [
       "<div>\n",
       "<style scoped>\n",
       "    .dataframe tbody tr th:only-of-type {\n",
       "        vertical-align: middle;\n",
       "    }\n",
       "\n",
       "    .dataframe tbody tr th {\n",
       "        vertical-align: top;\n",
       "    }\n",
       "\n",
       "    .dataframe thead th {\n",
       "        text-align: right;\n",
       "    }\n",
       "</style>\n",
       "<table border=\"1\" class=\"dataframe\">\n",
       "  <thead>\n",
       "    <tr style=\"text-align: right;\">\n",
       "      <th></th>\n",
       "      <th>Date</th>\n",
       "      <th>Starting</th>\n",
       "      <th>Ending</th>\n",
       "    </tr>\n",
       "  </thead>\n",
       "  <tbody>\n",
       "    <tr>\n",
       "      <th>0</th>\n",
       "      <td>01.01.24</td>\n",
       "      <td>16800</td>\n",
       "      <td>16500</td>\n",
       "    </tr>\n",
       "    <tr>\n",
       "      <th>1</th>\n",
       "      <td>01.12.23</td>\n",
       "      <td>15900</td>\n",
       "      <td>16100</td>\n",
       "    </tr>\n",
       "    <tr>\n",
       "      <th>2</th>\n",
       "      <td>01.11.23</td>\n",
       "      <td>15800</td>\n",
       "      <td>15300</td>\n",
       "    </tr>\n",
       "    <tr>\n",
       "      <th>3</th>\n",
       "      <td>01.10.23</td>\n",
       "      <td>16100</td>\n",
       "      <td>16200</td>\n",
       "    </tr>\n",
       "    <tr>\n",
       "      <th>4</th>\n",
       "      <td>01.09.23</td>\n",
       "      <td>16300</td>\n",
       "      <td>15700</td>\n",
       "    </tr>\n",
       "  </tbody>\n",
       "</table>\n",
       "</div>"
      ],
      "text/plain": [
       "       Date  Starting  Ending\n",
       "0  01.01.24     16800   16500\n",
       "1  01.12.23     15900   16100\n",
       "2  01.11.23     15800   15300\n",
       "3  01.10.23     16100   16200\n",
       "4  01.09.23     16300   15700"
      ]
     },
     "execution_count": 3,
     "metadata": {},
     "output_type": "execute_result"
    }
   ],
   "source": [
    "df.head()"
   ]
  },
  {
   "cell_type": "code",
   "execution_count": 4,
   "id": "ec5d580a-2395-4eab-a827-55278c6ef9a7",
   "metadata": {},
   "outputs": [
    {
     "data": {
      "text/plain": [
       "Date        0\n",
       "Starting    0\n",
       "Ending      0\n",
       "dtype: int64"
      ]
     },
     "execution_count": 4,
     "metadata": {},
     "output_type": "execute_result"
    }
   ],
   "source": [
    "df.isnull().sum()"
   ]
  },
  {
   "cell_type": "code",
   "execution_count": 5,
   "id": "42c7e8d2-187e-487b-a371-cdccedbca454",
   "metadata": {},
   "outputs": [
    {
     "data": {
      "text/html": [
       "<div>\n",
       "<style scoped>\n",
       "    .dataframe tbody tr th:only-of-type {\n",
       "        vertical-align: middle;\n",
       "    }\n",
       "\n",
       "    .dataframe tbody tr th {\n",
       "        vertical-align: top;\n",
       "    }\n",
       "\n",
       "    .dataframe thead th {\n",
       "        text-align: right;\n",
       "    }\n",
       "</style>\n",
       "<table border=\"1\" class=\"dataframe\">\n",
       "  <thead>\n",
       "    <tr style=\"text-align: right;\">\n",
       "      <th></th>\n",
       "      <th>Starting</th>\n",
       "      <th>Ending</th>\n",
       "    </tr>\n",
       "  </thead>\n",
       "  <tbody>\n",
       "    <tr>\n",
       "      <th>0</th>\n",
       "      <td>16800</td>\n",
       "      <td>16500</td>\n",
       "    </tr>\n",
       "    <tr>\n",
       "      <th>1</th>\n",
       "      <td>15900</td>\n",
       "      <td>16100</td>\n",
       "    </tr>\n",
       "    <tr>\n",
       "      <th>2</th>\n",
       "      <td>15800</td>\n",
       "      <td>15300</td>\n",
       "    </tr>\n",
       "    <tr>\n",
       "      <th>3</th>\n",
       "      <td>16100</td>\n",
       "      <td>16200</td>\n",
       "    </tr>\n",
       "    <tr>\n",
       "      <th>4</th>\n",
       "      <td>16300</td>\n",
       "      <td>15700</td>\n",
       "    </tr>\n",
       "    <tr>\n",
       "      <th>5</th>\n",
       "      <td>16800</td>\n",
       "      <td>16400</td>\n",
       "    </tr>\n",
       "    <tr>\n",
       "      <th>6</th>\n",
       "      <td>15900</td>\n",
       "      <td>16200</td>\n",
       "    </tr>\n",
       "    <tr>\n",
       "      <th>7</th>\n",
       "      <td>15800</td>\n",
       "      <td>15500</td>\n",
       "    </tr>\n",
       "    <tr>\n",
       "      <th>8</th>\n",
       "      <td>16150</td>\n",
       "      <td>16100</td>\n",
       "    </tr>\n",
       "    <tr>\n",
       "      <th>9</th>\n",
       "      <td>16300</td>\n",
       "      <td>15800</td>\n",
       "    </tr>\n",
       "    <tr>\n",
       "      <th>10</th>\n",
       "      <td>16200</td>\n",
       "      <td>16200</td>\n",
       "    </tr>\n",
       "    <tr>\n",
       "      <th>11</th>\n",
       "      <td>16300</td>\n",
       "      <td>15700</td>\n",
       "    </tr>\n",
       "  </tbody>\n",
       "</table>\n",
       "</div>"
      ],
      "text/plain": [
       "    Starting  Ending\n",
       "0      16800   16500\n",
       "1      15900   16100\n",
       "2      15800   15300\n",
       "3      16100   16200\n",
       "4      16300   15700\n",
       "5      16800   16400\n",
       "6      15900   16200\n",
       "7      15800   15500\n",
       "8      16150   16100\n",
       "9      16300   15800\n",
       "10     16200   16200\n",
       "11     16300   15700"
      ]
     },
     "execution_count": 5,
     "metadata": {},
     "output_type": "execute_result"
    }
   ],
   "source": [
    "df1=df.drop('Date',axis=1)\n",
    "df1\n",
    "\n",
    "## Or\n",
    "## df1=df.drop(columns=['Dtae'])"
   ]
  },
  {
   "cell_type": "code",
   "execution_count": 6,
   "id": "faa54c86-9b74-47b2-bf28-e1eeb81a0f8d",
   "metadata": {},
   "outputs": [
    {
     "data": {
      "text/html": [
       "<div>\n",
       "<style scoped>\n",
       "    .dataframe tbody tr th:only-of-type {\n",
       "        vertical-align: middle;\n",
       "    }\n",
       "\n",
       "    .dataframe tbody tr th {\n",
       "        vertical-align: top;\n",
       "    }\n",
       "\n",
       "    .dataframe thead th {\n",
       "        text-align: right;\n",
       "    }\n",
       "</style>\n",
       "<table border=\"1\" class=\"dataframe\">\n",
       "  <thead>\n",
       "    <tr style=\"text-align: right;\">\n",
       "      <th></th>\n",
       "      <th>Starting</th>\n",
       "      <th>Ending</th>\n",
       "    </tr>\n",
       "  </thead>\n",
       "  <tbody>\n",
       "    <tr>\n",
       "      <th>0</th>\n",
       "      <td>16800</td>\n",
       "      <td>16500</td>\n",
       "    </tr>\n",
       "    <tr>\n",
       "      <th>1</th>\n",
       "      <td>15900</td>\n",
       "      <td>16100</td>\n",
       "    </tr>\n",
       "    <tr>\n",
       "      <th>2</th>\n",
       "      <td>15800</td>\n",
       "      <td>15300</td>\n",
       "    </tr>\n",
       "    <tr>\n",
       "      <th>3</th>\n",
       "      <td>16100</td>\n",
       "      <td>16200</td>\n",
       "    </tr>\n",
       "    <tr>\n",
       "      <th>4</th>\n",
       "      <td>16300</td>\n",
       "      <td>15700</td>\n",
       "    </tr>\n",
       "  </tbody>\n",
       "</table>\n",
       "</div>"
      ],
      "text/plain": [
       "   Starting  Ending\n",
       "0     16800   16500\n",
       "1     15900   16100\n",
       "2     15800   15300\n",
       "3     16100   16200\n",
       "4     16300   15700"
      ]
     },
     "execution_count": 6,
     "metadata": {},
     "output_type": "execute_result"
    }
   ],
   "source": [
    "df1.head()"
   ]
  },
  {
   "cell_type": "code",
   "execution_count": 7,
   "id": "617d2ed8-b12b-4922-b582-875f149b7612",
   "metadata": {},
   "outputs": [
    {
     "data": {
      "text/plain": [
       "Text(0.5, 1.0, 'Stock price')"
      ]
     },
     "execution_count": 7,
     "metadata": {},
     "output_type": "execute_result"
    },
    {
     "data": {
      "image/png": "[encoded data removed]",
      "text/plain": [
       "<Figure size 640x480 with 1 Axes>"
      ]
     },
     "metadata": {},
     "output_type": "display_data"
    }
   ],
   "source": [
    "plt.scatter(df1['Starting'],df1['Ending'])\n",
    "plt.xlabel('Starting(USD)')\n",
    "plt.ylabel('Ending(USD)')\n",
    "plt.title('Stock price')"
   ]
  },
  {
   "cell_type": "code",
   "execution_count": 8,
   "id": "a9dc5611-3aa3-4a1f-8ecd-3cc8fe7e38f8",
   "metadata": {},
   "outputs": [
    {
     "data": {
      "text/html": [
       "<div>\n",
       "<style scoped>\n",
       "    .dataframe tbody tr th:only-of-type {\n",
       "        vertical-align: middle;\n",
       "    }\n",
       "\n",
       "    .dataframe tbody tr th {\n",
       "        vertical-align: top;\n",
       "    }\n",
       "\n",
       "    .dataframe thead th {\n",
       "        text-align: right;\n",
       "    }\n",
       "</style>\n",
       "<table border=\"1\" class=\"dataframe\">\n",
       "  <thead>\n",
       "    <tr style=\"text-align: right;\">\n",
       "      <th></th>\n",
       "      <th>Starting</th>\n",
       "    </tr>\n",
       "  </thead>\n",
       "  <tbody>\n",
       "    <tr>\n",
       "      <th>0</th>\n",
       "      <td>16800</td>\n",
       "    </tr>\n",
       "    <tr>\n",
       "      <th>1</th>\n",
       "      <td>15900</td>\n",
       "    </tr>\n",
       "    <tr>\n",
       "      <th>2</th>\n",
       "      <td>15800</td>\n",
       "    </tr>\n",
       "    <tr>\n",
       "      <th>3</th>\n",
       "      <td>16100</td>\n",
       "    </tr>\n",
       "    <tr>\n",
       "      <th>4</th>\n",
       "      <td>16300</td>\n",
       "    </tr>\n",
       "    <tr>\n",
       "      <th>5</th>\n",
       "      <td>16800</td>\n",
       "    </tr>\n",
       "    <tr>\n",
       "      <th>6</th>\n",
       "      <td>15900</td>\n",
       "    </tr>\n",
       "    <tr>\n",
       "      <th>7</th>\n",
       "      <td>15800</td>\n",
       "    </tr>\n",
       "    <tr>\n",
       "      <th>8</th>\n",
       "      <td>16150</td>\n",
       "    </tr>\n",
       "    <tr>\n",
       "      <th>9</th>\n",
       "      <td>16300</td>\n",
       "    </tr>\n",
       "    <tr>\n",
       "      <th>10</th>\n",
       "      <td>16200</td>\n",
       "    </tr>\n",
       "    <tr>\n",
       "      <th>11</th>\n",
       "      <td>16300</td>\n",
       "    </tr>\n",
       "  </tbody>\n",
       "</table>\n",
       "</div>"
      ],
      "text/plain": [
       "    Starting\n",
       "0      16800\n",
       "1      15900\n",
       "2      15800\n",
       "3      16100\n",
       "4      16300\n",
       "5      16800\n",
       "6      15900\n",
       "7      15800\n",
       "8      16150\n",
       "9      16300\n",
       "10     16200\n",
       "11     16300"
      ]
     },
     "execution_count": 8,
     "metadata": {},
     "output_type": "execute_result"
    }
   ],
   "source": [
    "x=df1.drop('Ending',axis=1)\n",
    "x\n"
   ]
  },
  {
   "cell_type": "code",
   "execution_count": 9,
   "id": "b05f21c5-0562-4cdb-8a55-43e10ddad273",
   "metadata": {},
   "outputs": [
    {
     "data": {
      "text/html": [
       "<div>\n",
       "<style scoped>\n",
       "    .dataframe tbody tr th:only-of-type {\n",
       "        vertical-align: middle;\n",
       "    }\n",
       "\n",
       "    .dataframe tbody tr th {\n",
       "        vertical-align: top;\n",
       "    }\n",
       "\n",
       "    .dataframe thead th {\n",
       "        text-align: right;\n",
       "    }\n",
       "</style>\n",
       "<table border=\"1\" class=\"dataframe\">\n",
       "  <thead>\n",
       "    <tr style=\"text-align: right;\">\n",
       "      <th></th>\n",
       "      <th>Ending</th>\n",
       "    </tr>\n",
       "  </thead>\n",
       "  <tbody>\n",
       "    <tr>\n",
       "      <th>0</th>\n",
       "      <td>16500</td>\n",
       "    </tr>\n",
       "    <tr>\n",
       "      <th>1</th>\n",
       "      <td>16100</td>\n",
       "    </tr>\n",
       "    <tr>\n",
       "      <th>2</th>\n",
       "      <td>15300</td>\n",
       "    </tr>\n",
       "    <tr>\n",
       "      <th>3</th>\n",
       "      <td>16200</td>\n",
       "    </tr>\n",
       "    <tr>\n",
       "      <th>4</th>\n",
       "      <td>15700</td>\n",
       "    </tr>\n",
       "    <tr>\n",
       "      <th>5</th>\n",
       "      <td>16400</td>\n",
       "    </tr>\n",
       "    <tr>\n",
       "      <th>6</th>\n",
       "      <td>16200</td>\n",
       "    </tr>\n",
       "    <tr>\n",
       "      <th>7</th>\n",
       "      <td>15500</td>\n",
       "    </tr>\n",
       "    <tr>\n",
       "      <th>8</th>\n",
       "      <td>16100</td>\n",
       "    </tr>\n",
       "    <tr>\n",
       "      <th>9</th>\n",
       "      <td>15800</td>\n",
       "    </tr>\n",
       "    <tr>\n",
       "      <th>10</th>\n",
       "      <td>16200</td>\n",
       "    </tr>\n",
       "    <tr>\n",
       "      <th>11</th>\n",
       "      <td>15700</td>\n",
       "    </tr>\n",
       "  </tbody>\n",
       "</table>\n",
       "</div>"
      ],
      "text/plain": [
       "    Ending\n",
       "0    16500\n",
       "1    16100\n",
       "2    15300\n",
       "3    16200\n",
       "4    15700\n",
       "5    16400\n",
       "6    16200\n",
       "7    15500\n",
       "8    16100\n",
       "9    15800\n",
       "10   16200\n",
       "11   15700"
      ]
     },
     "execution_count": 9,
     "metadata": {},
     "output_type": "execute_result"
    }
   ],
   "source": [
    "y=df[['Ending']]\n",
    "y"
   ]
  },
  {
   "cell_type": "code",
   "execution_count": 10,
   "id": "66c969f5-ba4a-4433-941f-dfe82e57f530",
   "metadata": {},
   "outputs": [],
   "source": [
    "from sklearn.linear_model import LinearRegression"
   ]
  },
  {
   "cell_type": "code",
   "execution_count": 11,
   "id": "31b41b43-eab6-473b-8649-da42597db788",
   "metadata": {},
   "outputs": [],
   "source": [
    "reg=LinearRegression()"
   ]
  },
  {
   "cell_type": "code",
   "execution_count": 12,
   "id": "c9a8d99a-f5a6-4751-bf3d-31d3a2a10a3e",
   "metadata": {},
   "outputs": [
    {
     "data": {
      "text/plain": [
       "Starting    16195.833333\n",
       "dtype: float64"
      ]
     },
     "execution_count": 12,
     "metadata": {},
     "output_type": "execute_result"
    }
   ],
   "source": [
    "x.mean()"
   ]
  },
  {
   "cell_type": "code",
   "execution_count": 13,
   "id": "a45f0981-6502-4dad-ad55-9dbfb7bda414",
   "metadata": {},
   "outputs": [
    {
     "data": {
      "text/plain": [
       "Ending    15975.0\n",
       "dtype: float64"
      ]
     },
     "execution_count": 13,
     "metadata": {},
     "output_type": "execute_result"
    }
   ],
   "source": [
    "y.mean()"
   ]
  },
  {
   "cell_type": "code",
   "execution_count": 14,
   "id": "20758c6d-f438-4c85-934c-da19290b738e",
   "metadata": {},
   "outputs": [
    {
     "data": {
      "text/plain": [
       "Text(0.5, 1.0, 'Stock price')"
      ]
     },
     "execution_count": 14,
     "metadata": {},
     "output_type": "execute_result"
    },
    {
     "data": {
      "image/png": "[encoded data removed]",
      "text/plain": [
       "<Figure size 640x480 with 1 Axes>"
      ]
     },
     "metadata": {},
     "output_type": "display_data"
    }
   ],
   "source": [
    "plt.scatter(x.mean(),y.mean(),color='red')\n",
    "plt.scatter(df1['Starting'],df1['Ending'])\n",
    "plt.xlabel('Starting(USD)')\n",
    "plt.ylabel('Ending(USD)')\n",
    "plt.title('Stock price')"
   ]
  },
  {
   "cell_type": "code",
   "execution_count": 15,
   "id": "78aaabbb-ebef-4964-b937-a21879433cec",
   "metadata": {},
   "outputs": [
    {
     "data": {
      "text/html": [
       "<style>#sk-container-id-1 {color: black;background-color: white;}#sk-container-id-1 pre{padding: 0;}#sk-container-id-1 div.sk-toggleable {background-color: white;}#sk-container-id-1 label.sk-toggleable__label {cursor: pointer;display: block;width: 100%;margin-bottom: 0;padding: 0.3em;box-sizing: border-box;text-align: center;}#sk-container-id-1 label.sk-toggleable__label-arrow:before {content: \"▸\";float: left;margin-right: 0.25em;color: #696969;}#sk-container-id-1 label.sk-toggleable__label-arrow:hover:before {color: black;}#sk-container-id-1 div.sk-estimator:hover label.sk-toggleable__label-arrow:before {color: black;}#sk-container-id-1 div.sk-toggleable__content {max-height: 0;max-width: 0;overflow: hidden;text-align: left;background-color: #f0f8ff;}#sk-container-id-1 div.sk-toggleable__content pre {margin: 0.2em;color: black;border-radius: 0.25em;background-color: #f0f8ff;}#sk-container-id-1 input.sk-toggleable__control:checked~div.sk-toggleable__content {max-height: 200px;max-width: 100%;overflow: auto;}#sk-container-id-1 input.sk-toggleable__control:checked~label.sk-toggleable__label-arrow:before {content: \"▾\";}#sk-container-id-1 div.sk-estimator input.sk-toggleable__control:checked~label.sk-toggleable__label {background-color: #d4ebff;}#sk-container-id-1 div.sk-label input.sk-toggleable__control:checked~label.sk-toggleable__label {background-color: #d4ebff;}#sk-container-id-1 input.sk-hidden--visually {border: 0;clip: rect(1px 1px 1px 1px);clip: rect(1px, 1px, 1px, 1px);height: 1px;margin: -1px;overflow: hidden;padding: 0;position: absolute;width: 1px;}#sk-container-id-1 div.sk-estimator {font-family: monospace;background-color: #f0f8ff;border: 1px dotted black;border-radius: 0.25em;box-sizing: border-box;margin-bottom: 0.5em;}#sk-container-id-1 div.sk-estimator:hover {background-color: #d4ebff;}#sk-container-id-1 div.sk-parallel-item::after {content: \"\";width: 100%;border-bottom: 1px solid gray;flex-grow: 1;}#sk-container-id-1 div.sk-label:hover label.sk-toggleable__label {background-color: #d4ebff;}#sk-container-id-1 div.sk-serial::before {content: \"\";position: absolute;border-left: 1px solid gray;box-sizing: border-box;top: 0;bottom: 0;left: 50%;z-index: 0;}#sk-container-id-1 div.sk-serial {display: flex;flex-direction: column;align-items: center;background-color: white;padding-right: 0.2em;padding-left: 0.2em;position: relative;}#sk-container-id-1 div.sk-item {position: relative;z-index: 1;}#sk-container-id-1 div.sk-parallel {display: flex;align-items: stretch;justify-content: center;background-color: white;position: relative;}#sk-container-id-1 div.sk-item::before, #sk-container-id-1 div.sk-parallel-item::before {content: \"\";position: absolute;border-left: 1px solid gray;box-sizing: border-box;top: 0;bottom: 0;left: 50%;z-index: -1;}#sk-container-id-1 div.sk-parallel-item {display: flex;flex-direction: column;z-index: 1;position: relative;background-color: white;}#sk-container-id-1 div.sk-parallel-item:first-child::after {align-self: flex-end;width: 50%;}#sk-container-id-1 div.sk-parallel-item:last-child::after {align-self: flex-start;width: 50%;}#sk-container-id-1 div.sk-parallel-item:only-child::after {width: 0;}#sk-container-id-1 div.sk-dashed-wrapped {border: 1px dashed gray;margin: 0 0.4em 0.5em 0.4em;box-sizing: border-box;padding-bottom: 0.4em;background-color: white;}#sk-container-id-1 div.sk-label label {font-family: monospace;font-weight: bold;display: inline-block;line-height: 1.2em;}#sk-container-id-1 div.sk-label-container {text-align: center;}#sk-container-id-1 div.sk-container {/* jupyter's `normalize.less` sets `[hidden] { display: none; }` but bootstrap.min.css set `[hidden] { display: none !important; }` so we also need the `!important` here to be able to override the default hidden behavior on the sphinx rendered scikit-learn.org. See: https://github.com/scikit-learn/scikit-learn/issues/21755 */display: inline-block !important;position: relative;}#sk-container-id-1 div.sk-text-repr-fallback {display: none;}</style><div id=\"sk-container-id-1\" class=\"sk-top-container\"><div class=\"sk-text-repr-fallback\"><pre>LinearRegression()</pre><b>In a Jupyter environment, please rerun this cell to show the HTML representation or trust the notebook. <br />On GitHub, the HTML representation is unable to render, please try loading this page with nbviewer.org.</b></div><div class=\"sk-container\" hidden><div class=\"sk-item\"><div class=\"sk-estimator sk-toggleable\"><input class=\"sk-toggleable__control sk-hidden--visually\" id=\"sk-estimator-id-1\" type=\"checkbox\" checked><label for=\"sk-estimator-id-1\" class=\"sk-toggleable__label sk-toggleable__label-arrow\">LinearRegression</label><div class=\"sk-toggleable__content\"><pre>LinearRegression()</pre></div></div></div></div></div>"
      ],
      "text/plain": [
       "LinearRegression()"
      ]
     },
     "execution_count": 15,
     "metadata": {},
     "output_type": "execute_result"
    }
   ],
   "source": [
    "reg.fit(x,y) ##train the model"
   ]
  },
  {
   "cell_type": "code",
   "execution_count": 16,
   "id": "5ea8d604-3335-40a5-84dc-8382d72ea19d",
   "metadata": {},
   "outputs": [
    {
     "data": {
      "text/plain": [
       "array([[0.65258293]])"
      ]
     },
     "execution_count": 16,
     "metadata": {},
     "output_type": "execute_result"
    }
   ],
   "source": [
    "m=reg.coef_\n",
    "m"
   ]
  },
  {
   "cell_type": "code",
   "execution_count": 17,
   "id": "a707254b-dfe4-4f17-81e2-c1648bc2d8eb",
   "metadata": {},
   "outputs": [
    {
     "data": {
      "text/plain": [
       "array([5405.87555702])"
      ]
     },
     "execution_count": 17,
     "metadata": {},
     "output_type": "execute_result"
    }
   ],
   "source": [
    "c=reg.intercept_\n",
    "c"
   ]
  },
  {
   "cell_type": "code",
   "execution_count": null,
   "id": "b2314f69-6239-4c58-be33-4de8ff5b90c7",
   "metadata": {},
   "outputs": [],
   "source": [
    "## y=mx+c\n"
   ]
  },
  {
   "cell_type": "code",
   "execution_count": 18,
   "id": "2e5dbde0-8dfc-4c4f-9ff0-a9a316e520f3",
   "metadata": {},
   "outputs": [
    {
     "data": {
      "text/plain": [
       "array([[16304.0105628]])"
      ]
     },
     "execution_count": 18,
     "metadata": {},
     "output_type": "execute_result"
    }
   ],
   "source": [
    "m*16700+c"
   ]
  },
  {
   "cell_type": "code",
   "execution_count": 19,
   "id": "83948872-d356-449e-be24-f71fa802b2dd",
   "metadata": {},
   "outputs": [
    {
     "name": "stderr",
     "output_type": "stream",
     "text": [
      "D:\\plant_pathology\\anaconda\\Lib\\site-packages\\sklearn\\base.py:439: UserWarning: X does not have valid feature names, but LinearRegression was fitted with feature names\n",
      "  warnings.warn(\n"
     ]
    },
    {
     "data": {
      "text/plain": [
       "array([[16304.0105628]])"
      ]
     },
     "execution_count": 19,
     "metadata": {},
     "output_type": "execute_result"
    }
   ],
   "source": [
    "reg.predict([[16700]])"
   ]
  },
  {
   "cell_type": "code",
   "execution_count": 27,
   "id": "f36c6e00-eec6-4edc-af48-724d34e0fcba",
   "metadata": {},
   "outputs": [
    {
     "data": {
      "text/html": [
       "<div>\n",
       "<style scoped>\n",
       "    .dataframe tbody tr th:only-of-type {\n",
       "        vertical-align: middle;\n",
       "    }\n",
       "\n",
       "    .dataframe tbody tr th {\n",
       "        vertical-align: top;\n",
       "    }\n",
       "\n",
       "    .dataframe thead th {\n",
       "        text-align: right;\n",
       "    }\n",
       "</style>\n",
       "<table border=\"1\" class=\"dataframe\">\n",
       "  <thead>\n",
       "    <tr style=\"text-align: right;\">\n",
       "      <th></th>\n",
       "      <th>Starting</th>\n",
       "      <th>Ending</th>\n",
       "      <th>predicted_y</th>\n",
       "      <th>lose</th>\n",
       "      <th>predicted</th>\n",
       "    </tr>\n",
       "  </thead>\n",
       "  <tbody>\n",
       "    <tr>\n",
       "      <th>0</th>\n",
       "      <td>16800</td>\n",
       "      <td>16500</td>\n",
       "      <td>16369.268856</td>\n",
       "      <td>130.731144</td>\n",
       "      <td>16369.268856</td>\n",
       "    </tr>\n",
       "    <tr>\n",
       "      <th>1</th>\n",
       "      <td>15900</td>\n",
       "      <td>16100</td>\n",
       "      <td>15781.944215</td>\n",
       "      <td>318.055785</td>\n",
       "      <td>15781.944215</td>\n",
       "    </tr>\n",
       "    <tr>\n",
       "      <th>2</th>\n",
       "      <td>15800</td>\n",
       "      <td>15300</td>\n",
       "      <td>15716.685922</td>\n",
       "      <td>-416.685922</td>\n",
       "      <td>15716.685922</td>\n",
       "    </tr>\n",
       "    <tr>\n",
       "      <th>3</th>\n",
       "      <td>16100</td>\n",
       "      <td>16200</td>\n",
       "      <td>15912.460802</td>\n",
       "      <td>287.539198</td>\n",
       "      <td>15912.460802</td>\n",
       "    </tr>\n",
       "    <tr>\n",
       "      <th>4</th>\n",
       "      <td>16300</td>\n",
       "      <td>15700</td>\n",
       "      <td>16042.977389</td>\n",
       "      <td>-342.977389</td>\n",
       "      <td>16042.977389</td>\n",
       "    </tr>\n",
       "    <tr>\n",
       "      <th>5</th>\n",
       "      <td>16800</td>\n",
       "      <td>16400</td>\n",
       "      <td>16369.268856</td>\n",
       "      <td>30.731144</td>\n",
       "      <td>16369.268856</td>\n",
       "    </tr>\n",
       "    <tr>\n",
       "      <th>6</th>\n",
       "      <td>15900</td>\n",
       "      <td>16200</td>\n",
       "      <td>15781.944215</td>\n",
       "      <td>418.055785</td>\n",
       "      <td>15781.944215</td>\n",
       "    </tr>\n",
       "    <tr>\n",
       "      <th>7</th>\n",
       "      <td>15800</td>\n",
       "      <td>15500</td>\n",
       "      <td>15716.685922</td>\n",
       "      <td>-216.685922</td>\n",
       "      <td>15716.685922</td>\n",
       "    </tr>\n",
       "    <tr>\n",
       "      <th>8</th>\n",
       "      <td>16150</td>\n",
       "      <td>16100</td>\n",
       "      <td>15945.089949</td>\n",
       "      <td>154.910051</td>\n",
       "      <td>15945.089949</td>\n",
       "    </tr>\n",
       "    <tr>\n",
       "      <th>9</th>\n",
       "      <td>16300</td>\n",
       "      <td>15800</td>\n",
       "      <td>16042.977389</td>\n",
       "      <td>-242.977389</td>\n",
       "      <td>16042.977389</td>\n",
       "    </tr>\n",
       "    <tr>\n",
       "      <th>10</th>\n",
       "      <td>16200</td>\n",
       "      <td>16200</td>\n",
       "      <td>15977.719096</td>\n",
       "      <td>222.280904</td>\n",
       "      <td>15977.719096</td>\n",
       "    </tr>\n",
       "    <tr>\n",
       "      <th>11</th>\n",
       "      <td>16300</td>\n",
       "      <td>15700</td>\n",
       "      <td>16042.977389</td>\n",
       "      <td>-342.977389</td>\n",
       "      <td>16042.977389</td>\n",
       "    </tr>\n",
       "  </tbody>\n",
       "</table>\n",
       "</div>"
      ],
      "text/plain": [
       "    Starting  Ending   predicted_y        lose     predicted\n",
       "0      16800   16500  16369.268856  130.731144  16369.268856\n",
       "1      15900   16100  15781.944215  318.055785  15781.944215\n",
       "2      15800   15300  15716.685922 -416.685922  15716.685922\n",
       "3      16100   16200  15912.460802  287.539198  15912.460802\n",
       "4      16300   15700  16042.977389 -342.977389  16042.977389\n",
       "5      16800   16400  16369.268856   30.731144  16369.268856\n",
       "6      15900   16200  15781.944215  418.055785  15781.944215\n",
       "7      15800   15500  15716.685922 -216.685922  15716.685922\n",
       "8      16150   16100  15945.089949  154.910051  15945.089949\n",
       "9      16300   15800  16042.977389 -242.977389  16042.977389\n",
       "10     16200   16200  15977.719096  222.280904  15977.719096\n",
       "11     16300   15700  16042.977389 -342.977389  16042.977389"
      ]
     },
     "execution_count": 27,
     "metadata": {},
     "output_type": "execute_result"
    }
   ],
   "source": [
    "df1['predicted']=reg.predict(x)\n",
    "df1"
   ]
  },
  {
   "cell_type": "code",
   "execution_count": 40,
   "id": "46ffe917-25e8-4943-ab5a-d1cea41e1334",
   "metadata": {},
   "outputs": [
    {
     "data": {
      "text/plain": [
       "Text(0.5, 1.0, 'Stock price')"
      ]
     },
     "execution_count": 40,
     "metadata": {},
     "output_type": "execute_result"
    },
    {
     "data": {
      "image/png": "[encoded data removed]",
      "text/plain": [
       "<Figure size 640x480 with 1 Axes>"
      ]
     },
     "metadata": {},
     "output_type": "display_data"
    }
   ],
   "source": [
    "plt.plot(x,reg.predict(x))\n",
    "plt.scatter(x.mean(),y.mean(),color='red')\n",
    "plt.scatter(df1['Starting'],df1['Ending'])\n",
    "plt.scatter(df1['Starting'],df1['predicted'])\n",
    "plt.xlabel('Starting(USD)')\n",
    "plt.ylabel('Ending(USD)')\n",
    "plt.title('Stock price')"
   ]
  },
  {
   "cell_type": "code",
   "execution_count": 28,
   "id": "3646d516-cc6d-4af0-8d3a-eeed26a18e1b",
   "metadata": {},
   "outputs": [
    {
     "data": {
      "text/html": [
       "<div>\n",
       "<style scoped>\n",
       "    .dataframe tbody tr th:only-of-type {\n",
       "        vertical-align: middle;\n",
       "    }\n",
       "\n",
       "    .dataframe tbody tr th {\n",
       "        vertical-align: top;\n",
       "    }\n",
       "\n",
       "    .dataframe thead th {\n",
       "        text-align: right;\n",
       "    }\n",
       "</style>\n",
       "<table border=\"1\" class=\"dataframe\">\n",
       "  <thead>\n",
       "    <tr style=\"text-align: right;\">\n",
       "      <th></th>\n",
       "      <th>Starting</th>\n",
       "      <th>Ending</th>\n",
       "      <th>predicted_y</th>\n",
       "      <th>lose</th>\n",
       "      <th>predicted</th>\n",
       "    </tr>\n",
       "  </thead>\n",
       "  <tbody>\n",
       "    <tr>\n",
       "      <th>0</th>\n",
       "      <td>16800</td>\n",
       "      <td>16500</td>\n",
       "      <td>16369.268856</td>\n",
       "      <td>130.731144</td>\n",
       "      <td>16369.268856</td>\n",
       "    </tr>\n",
       "    <tr>\n",
       "      <th>1</th>\n",
       "      <td>15900</td>\n",
       "      <td>16100</td>\n",
       "      <td>15781.944215</td>\n",
       "      <td>318.055785</td>\n",
       "      <td>15781.944215</td>\n",
       "    </tr>\n",
       "    <tr>\n",
       "      <th>2</th>\n",
       "      <td>15800</td>\n",
       "      <td>15300</td>\n",
       "      <td>15716.685922</td>\n",
       "      <td>-416.685922</td>\n",
       "      <td>15716.685922</td>\n",
       "    </tr>\n",
       "    <tr>\n",
       "      <th>3</th>\n",
       "      <td>16100</td>\n",
       "      <td>16200</td>\n",
       "      <td>15912.460802</td>\n",
       "      <td>287.539198</td>\n",
       "      <td>15912.460802</td>\n",
       "    </tr>\n",
       "    <tr>\n",
       "      <th>4</th>\n",
       "      <td>16300</td>\n",
       "      <td>15700</td>\n",
       "      <td>16042.977389</td>\n",
       "      <td>-342.977389</td>\n",
       "      <td>16042.977389</td>\n",
       "    </tr>\n",
       "    <tr>\n",
       "      <th>5</th>\n",
       "      <td>16800</td>\n",
       "      <td>16400</td>\n",
       "      <td>16369.268856</td>\n",
       "      <td>30.731144</td>\n",
       "      <td>16369.268856</td>\n",
       "    </tr>\n",
       "    <tr>\n",
       "      <th>6</th>\n",
       "      <td>15900</td>\n",
       "      <td>16200</td>\n",
       "      <td>15781.944215</td>\n",
       "      <td>418.055785</td>\n",
       "      <td>15781.944215</td>\n",
       "    </tr>\n",
       "    <tr>\n",
       "      <th>7</th>\n",
       "      <td>15800</td>\n",
       "      <td>15500</td>\n",
       "      <td>15716.685922</td>\n",
       "      <td>-216.685922</td>\n",
       "      <td>15716.685922</td>\n",
       "    </tr>\n",
       "    <tr>\n",
       "      <th>8</th>\n",
       "      <td>16150</td>\n",
       "      <td>16100</td>\n",
       "      <td>15945.089949</td>\n",
       "      <td>154.910051</td>\n",
       "      <td>15945.089949</td>\n",
       "    </tr>\n",
       "    <tr>\n",
       "      <th>9</th>\n",
       "      <td>16300</td>\n",
       "      <td>15800</td>\n",
       "      <td>16042.977389</td>\n",
       "      <td>-242.977389</td>\n",
       "      <td>16042.977389</td>\n",
       "    </tr>\n",
       "    <tr>\n",
       "      <th>10</th>\n",
       "      <td>16200</td>\n",
       "      <td>16200</td>\n",
       "      <td>15977.719096</td>\n",
       "      <td>222.280904</td>\n",
       "      <td>15977.719096</td>\n",
       "    </tr>\n",
       "    <tr>\n",
       "      <th>11</th>\n",
       "      <td>16300</td>\n",
       "      <td>15700</td>\n",
       "      <td>16042.977389</td>\n",
       "      <td>-342.977389</td>\n",
       "      <td>16042.977389</td>\n",
       "    </tr>\n",
       "  </tbody>\n",
       "</table>\n",
       "</div>"
      ],
      "text/plain": [
       "    Starting  Ending   predicted_y        lose     predicted\n",
       "0      16800   16500  16369.268856  130.731144  16369.268856\n",
       "1      15900   16100  15781.944215  318.055785  15781.944215\n",
       "2      15800   15300  15716.685922 -416.685922  15716.685922\n",
       "3      16100   16200  15912.460802  287.539198  15912.460802\n",
       "4      16300   15700  16042.977389 -342.977389  16042.977389\n",
       "5      16800   16400  16369.268856   30.731144  16369.268856\n",
       "6      15900   16200  15781.944215  418.055785  15781.944215\n",
       "7      15800   15500  15716.685922 -216.685922  15716.685922\n",
       "8      16150   16100  15945.089949  154.910051  15945.089949\n",
       "9      16300   15800  16042.977389 -242.977389  16042.977389\n",
       "10     16200   16200  15977.719096  222.280904  15977.719096\n",
       "11     16300   15700  16042.977389 -342.977389  16042.977389"
      ]
     },
     "execution_count": 28,
     "metadata": {},
     "output_type": "execute_result"
    }
   ],
   "source": [
    "df1[\"lose\"]=df1[\"Ending\"]-df1[\"predicted\"]\n",
    "df1"
   ]
  },
  {
   "cell_type": "code",
   "execution_count": 29,
   "id": "25e3e5cd-4fec-4445-9271-0ff175427599",
   "metadata": {},
   "outputs": [],
   "source": [
    "from sklearn.metrics import mean_squared_error"
   ]
  },
  {
   "cell_type": "code",
   "execution_count": 30,
   "id": "98cbf104-927e-48fa-9305-dbcf62b095cd",
   "metadata": {},
   "outputs": [],
   "source": [
    "from sklearn.metrics import mean_absolute_error"
   ]
  },
  {
   "cell_type": "code",
   "execution_count": 46,
   "id": "3c12bb16-e881-498f-80dc-2a6386364c28",
   "metadata": {},
   "outputs": [
    {
     "data": {
      "text/plain": [
       "80411.23397700385"
      ]
     },
     "execution_count": 46,
     "metadata": {},
     "output_type": "execute_result"
    }
   ],
   "source": [
    "mse= mean_squared_error(df1['Ending'],df1['predicted'])\n",
    "mse"
   ]
  },
  {
   "cell_type": "code",
   "execution_count": 35,
   "id": "0875a0e1-9fa0-4de3-aa8a-29b72246a275",
   "metadata": {},
   "outputs": [
    {
     "data": {
      "text/plain": [
       "260.3840017604666"
      ]
     },
     "execution_count": 35,
     "metadata": {},
     "output_type": "execute_result"
    }
   ],
   "source": [
    "mae=mean_absolute_error(df1['Ending'],df1['predicted'])\n",
    "mae"
   ]
  },
  {
   "cell_type": "code",
   "execution_count": 41,
   "id": "a3d38a2f-9293-406e-9e6f-16beea285060",
   "metadata": {},
   "outputs": [
    {
     "data": {
      "text/plain": [
       "0.3577804940272571"
      ]
     },
     "execution_count": 41,
     "metadata": {},
     "output_type": "execute_result"
    }
   ],
   "source": [
    "reg.score(x,y)"
   ]
  },
  {
   "cell_type": "code",
   "execution_count": 42,
   "id": "33d55a74-d0d5-449e-b0f3-90e4671891b0",
   "metadata": {},
   "outputs": [],
   "source": [
    "from sklearn.metrics import r2_score"
   ]
  },
  {
   "cell_type": "code",
   "execution_count": 45,
   "id": "5472b1f7-fcdb-47b2-b650-fb6178e3f22e",
   "metadata": {},
   "outputs": [
    {
     "data": {
      "text/plain": [
       "0.3577804940272571"
      ]
     },
     "execution_count": 45,
     "metadata": {},
     "output_type": "execute_result"
    }
   ],
   "source": [
    "r2_score(y,reg.predict(x))"
   ]
  },
  {
   "cell_type": "code",
   "execution_count": null,
   "id": "d306a0b7-df78-468c-8813-cfff1225531c",
   "metadata": {},
   "outputs": [],
   "source": []
  }
 ],
 "metadata": {
  "kernelspec": {
   "display_name": "Python 3 (ipykernel)",
   "language": "python",
   "name": "python3"
  },
  "language_info": {
   "codemirror_mode": {
    "name": "ipython",
    "version": 3
   },
   "file_extension": ".py",
   "mimetype": "text/x-python",
   "name": "python",
   "nbconvert_exporter": "python",
   "pygments_lexer": "ipython3",
   "version": "3.11.7"
  }
 },
 "nbformat": 4,
 "nbformat_minor": 5
}
