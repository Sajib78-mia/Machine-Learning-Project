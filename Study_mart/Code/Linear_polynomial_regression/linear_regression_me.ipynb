{
 "cells": [
  {
   "cell_type": "markdown",
   "id": "f6d54d40-86ab-45c7-9fca-97ea1f16f237",
   "metadata": {},
   "source": [
    "## importing the libraries"
   ]
  },
  {
   "cell_type": "code",
   "execution_count": 89,
   "id": "1e73b2d5-2382-4af4-b570-2cc96ffd29b6",
   "metadata": {},
   "outputs": [],
   "source": [
    "import pandas as pd\n",
    "import numpy as np\n",
    "import matplotlib.pyplot as plt"
   ]
  },
  {
   "cell_type": "markdown",
   "id": "758132ed-31a8-4d74-a04c-07d2f2958d82",
   "metadata": {},
   "source": [
    "## importing the dataset"
   ]
  },
  {
   "cell_type": "code",
   "execution_count": 90,
   "id": "55f91091-2e88-4339-b803-92ac3b1a35fd",
   "metadata": {},
   "outputs": [],
   "source": [
    "df1 = pd.read_csv('linear_data.csv')\n",
    "\n",
    "X = df1[['x']]\n",
    "y = df1[['y']]"
   ]
  },
  {
   "cell_type": "markdown",
   "id": "8c0cd109-2e1a-46a6-8298-9ff53db6aa9a",
   "metadata": {},
   "source": [
    "# Splitting the dataset into the training set and the test set"
   ]
  },
  {
   "cell_type": "code",
   "execution_count": 91,
   "id": "d23ab5a2-15f6-4c71-91ce-979c1730a47d",
   "metadata": {},
   "outputs": [],
   "source": [
    "\n",
    "from sklearn.model_selection import train_test_split\n",
    "from pandas.core.common import random_state\n",
    "X_train, X_test, y_train, y_test = train_test_split(X, y, test_size = 0.20, random_state = 0)"
   ]
  },
  {
   "cell_type": "markdown",
   "id": "92948350-9df7-4749-8b10-f173fe9b1970",
   "metadata": {},
   "source": [
    "## Training the simple linear regression model on the training set¶"
   ]
  },
  {
   "cell_type": "code",
   "execution_count": 92,
   "id": "82f4dae6-f5da-4be2-b7c8-479714e619e4",
   "metadata": {},
   "outputs": [
    {
     "data": {
      "text/html": [
       "<style>#sk-container-id-7 {color: black;background-color: white;}#sk-container-id-7 pre{padding: 0;}#sk-container-id-7 div.sk-toggleable {background-color: white;}#sk-container-id-7 label.sk-toggleable__label {cursor: pointer;display: block;width: 100%;margin-bottom: 0;padding: 0.3em;box-sizing: border-box;text-align: center;}#sk-container-id-7 label.sk-toggleable__label-arrow:before {content: \"▸\";float: left;margin-right: 0.25em;color: #696969;}#sk-container-id-7 label.sk-toggleable__label-arrow:hover:before {color: black;}#sk-container-id-7 div.sk-estimator:hover label.sk-toggleable__label-arrow:before {color: black;}#sk-container-id-7 div.sk-toggleable__content {max-height: 0;max-width: 0;overflow: hidden;text-align: left;background-color: #f0f8ff;}#sk-container-id-7 div.sk-toggleable__content pre {margin: 0.2em;color: black;border-radius: 0.25em;background-color: #f0f8ff;}#sk-container-id-7 input.sk-toggleable__control:checked~div.sk-toggleable__content {max-height: 200px;max-width: 100%;overflow: auto;}#sk-container-id-7 input.sk-toggleable__control:checked~label.sk-toggleable__label-arrow:before {content: \"▾\";}#sk-container-id-7 div.sk-estimator input.sk-toggleable__control:checked~label.sk-toggleable__label {background-color: #d4ebff;}#sk-container-id-7 div.sk-label input.sk-toggleable__control:checked~label.sk-toggleable__label {background-color: #d4ebff;}#sk-container-id-7 input.sk-hidden--visually {border: 0;clip: rect(1px 1px 1px 1px);clip: rect(1px, 1px, 1px, 1px);height: 1px;margin: -1px;overflow: hidden;padding: 0;position: absolute;width: 1px;}#sk-container-id-7 div.sk-estimator {font-family: monospace;background-color: #f0f8ff;border: 1px dotted black;border-radius: 0.25em;box-sizing: border-box;margin-bottom: 0.5em;}#sk-container-id-7 div.sk-estimator:hover {background-color: #d4ebff;}#sk-container-id-7 div.sk-parallel-item::after {content: \"\";width: 100%;border-bottom: 1px solid gray;flex-grow: 1;}#sk-container-id-7 div.sk-label:hover label.sk-toggleable__label {background-color: #d4ebff;}#sk-container-id-7 div.sk-serial::before {content: \"\";position: absolute;border-left: 1px solid gray;box-sizing: border-box;top: 0;bottom: 0;left: 50%;z-index: 0;}#sk-container-id-7 div.sk-serial {display: flex;flex-direction: column;align-items: center;background-color: white;padding-right: 0.2em;padding-left: 0.2em;position: relative;}#sk-container-id-7 div.sk-item {position: relative;z-index: 1;}#sk-container-id-7 div.sk-parallel {display: flex;align-items: stretch;justify-content: center;background-color: white;position: relative;}#sk-container-id-7 div.sk-item::before, #sk-container-id-7 div.sk-parallel-item::before {content: \"\";position: absolute;border-left: 1px solid gray;box-sizing: border-box;top: 0;bottom: 0;left: 50%;z-index: -1;}#sk-container-id-7 div.sk-parallel-item {display: flex;flex-direction: column;z-index: 1;position: relative;background-color: white;}#sk-container-id-7 div.sk-parallel-item:first-child::after {align-self: flex-end;width: 50%;}#sk-container-id-7 div.sk-parallel-item:last-child::after {align-self: flex-start;width: 50%;}#sk-container-id-7 div.sk-parallel-item:only-child::after {width: 0;}#sk-container-id-7 div.sk-dashed-wrapped {border: 1px dashed gray;margin: 0 0.4em 0.5em 0.4em;box-sizing: border-box;padding-bottom: 0.4em;background-color: white;}#sk-container-id-7 div.sk-label label {font-family: monospace;font-weight: bold;display: inline-block;line-height: 1.2em;}#sk-container-id-7 div.sk-label-container {text-align: center;}#sk-container-id-7 div.sk-container {/* jupyter's `normalize.less` sets `[hidden] { display: none; }` but bootstrap.min.css set `[hidden] { display: none !important; }` so we also need the `!important` here to be able to override the default hidden behavior on the sphinx rendered scikit-learn.org. See: https://github.com/scikit-learn/scikit-learn/issues/21755 */display: inline-block !important;position: relative;}#sk-container-id-7 div.sk-text-repr-fallback {display: none;}</style><div id=\"sk-container-id-7\" class=\"sk-top-container\"><div class=\"sk-text-repr-fallback\"><pre>LinearRegression()</pre><b>In a Jupyter environment, please rerun this cell to show the HTML representation or trust the notebook. <br />On GitHub, the HTML representation is unable to render, please try loading this page with nbviewer.org.</b></div><div class=\"sk-container\" hidden><div class=\"sk-item\"><div class=\"sk-estimator sk-toggleable\"><input class=\"sk-toggleable__control sk-hidden--visually\" id=\"sk-estimator-id-7\" type=\"checkbox\" checked><label for=\"sk-estimator-id-7\" class=\"sk-toggleable__label sk-toggleable__label-arrow\">LinearRegression</label><div class=\"sk-toggleable__content\"><pre>LinearRegression()</pre></div></div></div></div></div>"
      ],
      "text/plain": [
       "LinearRegression()"
      ]
     },
     "execution_count": 92,
     "metadata": {},
     "output_type": "execute_result"
    }
   ],
   "source": [
    "from sklearn.linear_model import LinearRegression\n",
    "regressor = LinearRegression()\n",
    "regressor.fit(X_train, y_train)"
   ]
  },
  {
   "cell_type": "markdown",
   "id": "cb76b410-fc39-470d-875b-8cdcf9e53217",
   "metadata": {},
   "source": [
    "## Predicting the test set results"
   ]
  },
  {
   "cell_type": "code",
   "execution_count": 93,
   "id": "fdda47b3-f239-4643-ac62-5b9e70aa09b7",
   "metadata": {},
   "outputs": [
    {
     "name": "stdout",
     "output_type": "stream",
     "text": [
      "            x\n",
      "90   1.803607\n",
      "254  5.090180\n",
      "283  5.671343\n",
      "445  8.917836\n",
      "461  9.238477\n",
      "..        ...\n",
      "372  7.454910\n",
      "56   1.122244\n",
      "440  8.817635\n",
      "60   1.202405\n",
      "208  4.168337\n",
      "\n",
      "[100 rows x 1 columns]\n"
     ]
    }
   ],
   "source": [
    "print(X_test)"
   ]
  },
  {
   "cell_type": "code",
   "execution_count": 94,
   "id": "7d945192-bd29-41c1-a33e-885303d7362c",
   "metadata": {},
   "outputs": [
    {
     "name": "stdout",
     "output_type": "stream",
     "text": [
      "             y\n",
      "90    8.468803\n",
      "254  15.980495\n",
      "283  17.079568\n",
      "445  23.310374\n",
      "461  23.155325\n",
      "..         ...\n",
      "372  20.052215\n",
      "56    7.272075\n",
      "440  23.093881\n",
      "60    7.176897\n",
      "208  13.593092\n",
      "\n",
      "[100 rows x 1 columns]\n"
     ]
    }
   ],
   "source": [
    "print(y_test)"
   ]
  },
  {
   "cell_type": "code",
   "execution_count": 95,
   "id": "30a1f0fe-79ce-4e4f-94b5-404b2dc0f678",
   "metadata": {},
   "outputs": [
    {
     "data": {
      "text/plain": [
       "array([[ 8.66097613],\n",
       "       [15.20893867],\n",
       "       [16.36681009],\n",
       "       [22.83491943],\n",
       "       [23.47374504],\n",
       "       [ 5.66648106],\n",
       "       [17.68438792],\n",
       "       [24.59168987],\n",
       "       [11.41591159],\n",
       "       [11.17635198],\n",
       "       [14.68989286],\n",
       "       [15.04923226],\n",
       "       [20.63895638],\n",
       "       [16.6063697 ],\n",
       "       [11.8950308 ],\n",
       "       [18.20343373],\n",
       "       [23.75323125],\n",
       "       [19.24152535],\n",
       "       [11.21627858],\n",
       "       [ 6.54486628],\n",
       "       [13.25253523],\n",
       "       [19.68071796],\n",
       "       [14.64996626],\n",
       "       [ 9.37965494],\n",
       "       [ 6.86427909],\n",
       "       [22.55543323],\n",
       "       [ 5.90604067],\n",
       "       [19.72064456],\n",
       "       [ 8.90053573],\n",
       "       [14.37048005],\n",
       "       [22.15616722],\n",
       "       [ 9.77892095],\n",
       "       [10.01848056],\n",
       "       [12.69356281],\n",
       "       [20.00013077],\n",
       "       [24.71146967],\n",
       "       [17.48475492],\n",
       "       [23.07447904],\n",
       "       [19.16167215],\n",
       "       [14.57011305],\n",
       "       [17.92394753],\n",
       "       [ 6.90420569],\n",
       "       [21.15800219],\n",
       "       [13.89136084],\n",
       "       [ 8.10200371],\n",
       "       [ 5.10750865],\n",
       "       [13.57194803],\n",
       "       [18.04372733],\n",
       "       [21.75690121],\n",
       "       [ 9.14009534],\n",
       "       [19.56093816],\n",
       "       [11.8551042 ],\n",
       "       [18.76240614],\n",
       "       [10.81701257],\n",
       "       [10.33789336],\n",
       "       [ 5.54670126],\n",
       "       [18.12358053],\n",
       "       [11.974884  ],\n",
       "       [14.01114064],\n",
       "       [18.72247954],\n",
       "       [ 8.18185692],\n",
       "       [16.08732389],\n",
       "       [20.51917658],\n",
       "       [22.03638741],\n",
       "       [17.08548891],\n",
       "       [12.89319582],\n",
       "       [ 5.46684806],\n",
       "       [23.79315785],\n",
       "       [15.88769088],\n",
       "       [ 8.06207711],\n",
       "       [10.73715937],\n",
       "       [ 7.66281111],\n",
       "       [18.64262634],\n",
       "       [24.39205686],\n",
       "       [12.0547372 ],\n",
       "       [19.52101156],\n",
       "       [15.60820468],\n",
       "       [ 9.06024214],\n",
       "       [24.67154307],\n",
       "       [16.8459293 ],\n",
       "       [17.04556231],\n",
       "       [14.45033325],\n",
       "       [24.03271746],\n",
       "       [13.81150764],\n",
       "       [18.24336033],\n",
       "       [18.08365393],\n",
       "       [21.87668101],\n",
       "       [11.33605838],\n",
       "       [18.96203915],\n",
       "       [ 7.2236185 ],\n",
       "       [13.85143424],\n",
       "       [21.11807559],\n",
       "       [20.19976377],\n",
       "       [13.05290222],\n",
       "       [12.2144436 ],\n",
       "       [19.92027757],\n",
       "       [ 7.3034717 ],\n",
       "       [22.63528643],\n",
       "       [ 7.4631781 ],\n",
       "       [13.37231503],\n",
       "       [ 9.33972834],\n",
       "       [18.48291994],\n",
       "       [ 7.90237071],\n",
       "       [23.99279086],\n",
       "       [ 5.30714165],\n",
       "       [21.5173416 ],\n",
       "       [ 9.57928795],\n",
       "       [14.49025985],\n",
       "       [17.00563571],\n",
       "       [11.25620518],\n",
       "       [15.92761748],\n",
       "       [ 5.34706826],\n",
       "       [10.53752637],\n",
       "       [ 5.38699486],\n",
       "       [23.55359825],\n",
       "       [22.31587362],\n",
       "       [20.04005737],\n",
       "       [16.40673669],\n",
       "       [13.45216823],\n",
       "       [12.57378301],\n",
       "       [22.23602042],\n",
       "       [ 7.02398549],\n",
       "       [10.41774656],\n",
       "       [19.64079136],\n",
       "       [21.5572682 ],\n",
       "       [14.61003965],\n",
       "       [ 7.4232515 ],\n",
       "       [21.277782  ],\n",
       "       [20.67888298],\n",
       "       [21.477415  ],\n",
       "       [24.43198347],\n",
       "       [14.21077365],\n",
       "       [16.9257825 ],\n",
       "       [ 7.2635451 ],\n",
       "       [16.7660761 ],\n",
       "       [24.63161647],\n",
       "       [23.35396524],\n",
       "       [23.31403864],\n",
       "       [23.15433224],\n",
       "       [12.49392981],\n",
       "       [12.81334262],\n",
       "       [ 7.14376529],\n",
       "       [ 8.02215051],\n",
       "       [ 6.10567367],\n",
       "       [24.55176327],\n",
       "       [ 5.22728845],\n",
       "       [17.76424112],\n",
       "       [18.28328693],\n",
       "       [14.84959926],\n",
       "       [ 5.26721505]])"
      ]
     },
     "execution_count": 95,
     "metadata": {},
     "output_type": "execute_result"
    }
   ],
   "source": [
    "y_pred_test = regressor.predict(X_test)\n",
    "y_pred"
   ]
  },
  {
   "cell_type": "markdown",
   "id": "9b16389c-6270-41e6-815b-89c5c78e61de",
   "metadata": {},
   "source": [
    "## Predicting new data"
   ]
  },
  {
   "cell_type": "code",
   "execution_count": 96,
   "id": "c042d507-d0e4-4948-b1a6-33bffab7893b",
   "metadata": {},
   "outputs": [
    {
     "name": "stderr",
     "output_type": "stream",
     "text": [
      "D:\\plant_pathology\\anaconda\\Lib\\site-packages\\sklearn\\base.py:439: UserWarning: X does not have valid feature names, but LinearRegression was fitted with feature names\n",
      "  warnings.warn(\n"
     ]
    },
    {
     "data": {
      "text/plain": [
       "array([[24.97110416]])"
      ]
     },
     "execution_count": 96,
     "metadata": {},
     "output_type": "execute_result"
    }
   ],
   "source": [
    "newdata_predict = regressor.predict(([[10]]))\n",
    "newdata_predict"
   ]
  },
  {
   "cell_type": "markdown",
   "id": "9e7b26fe-5fbb-40ed-875a-e38c884aae51",
   "metadata": {},
   "source": [
    "## Visualizing the training set results"
   ]
  },
  {
   "cell_type": "code",
   "execution_count": 97,
   "id": "7543c126-9e4f-40c5-b7eb-120711cdf14e",
   "metadata": {},
   "outputs": [
    {
     "data": {
      "image/png": "[encoded data removed]",
      "text/plain": [
       "<Figure size 640x480 with 1 Axes>"
      ]
     },
     "metadata": {},
     "output_type": "display_data"
    }
   ],
   "source": [
    "plt.scatter(X_train, y_train, color = 'red')\n",
    "plt.plot(X_train, regressor.predict(X_train), color = 'blue')\n",
    "plt.title('linear regression for training set')\n",
    "plt.xlabel('X')\n",
    "plt.ylabel('Y')\n",
    "plt.show()"
   ]
  },
  {
   "cell_type": "markdown",
   "id": "84626849-4324-42f9-8c43-cb3d5664642b",
   "metadata": {},
   "source": [
    "## Visualizing the test set results"
   ]
  },
  {
   "cell_type": "code",
   "execution_count": 98,
   "id": "820ccd56-281d-481c-a06c-3bc848abe119",
   "metadata": {},
   "outputs": [
    {
     "data": {
      "image/png": "[encoded data removed]",
      "text/plain": [
       "<Figure size 640x480 with 1 Axes>"
      ]
     },
     "metadata": {},
     "output_type": "display_data"
    }
   ],
   "source": [
    "plt.scatter(X_test, y_test, color = 'red')\n",
    "plt.plot(X_train, regressor.predict(X_train), color = 'blue')\n",
    "plt.title('linear regression for testing set')\n",
    "plt.xlabel('X')\n",
    "plt.ylabel('Y')\n",
    "plt.show()"
   ]
  },
  {
   "cell_type": "markdown",
   "id": "47ee07de-76ee-42cd-a7f1-9d656605d4d4",
   "metadata": {},
   "source": [
    "## Building the equation for the simple linear regression"
   ]
  },
  {
   "cell_type": "code",
   "execution_count": 99,
   "id": "3e300232-df83-4612-8415-ee5c44054cb2",
   "metadata": {},
   "outputs": [],
   "source": [
    "intercept = regressor.intercept_\n",
    "coefficient = regressor.coef_"
   ]
  },
  {
   "cell_type": "code",
   "execution_count": 100,
   "id": "e201ce32-6620-4d05-b5ca-fcf50849f790",
   "metadata": {},
   "outputs": [
    {
     "name": "stdout",
     "output_type": "stream",
     "text": [
      "Intercept =  [5.06804527]\n",
      "Coefficient =  [[1.99030589]]\n"
     ]
    }
   ],
   "source": [
    "print('Intercept = ', intercept)\n",
    "print('Coefficient = ', coefficient)"
   ]
  },
  {
   "cell_type": "markdown",
   "id": "dfdd40c8-e48a-4a57-b535-85342a875a21",
   "metadata": {},
   "source": [
    "## Statistical Significance of the Model¶"
   ]
  },
  {
   "cell_type": "code",
   "execution_count": 101,
   "id": "14785cb5-511c-4fae-a2d3-7f6cb365c43a",
   "metadata": {},
   "outputs": [
    {
     "data": {
      "text/plain": [
       "0.992767514464677"
      ]
     },
     "execution_count": 101,
     "metadata": {},
     "output_type": "execute_result"
    }
   ],
   "source": [
    "regressor.score(X_train, y_train)"
   ]
  },
  {
   "cell_type": "code",
   "execution_count": 102,
   "id": "d81d2ed1-5e07-4223-84dd-6369927df448",
   "metadata": {},
   "outputs": [
    {
     "data": {
      "text/plain": [
       "0.9934120421900338"
      ]
     },
     "execution_count": 102,
     "metadata": {},
     "output_type": "execute_result"
    }
   ],
   "source": [
    "regressor.score(X_test, y_test)"
   ]
  },
  {
   "cell_type": "code",
   "execution_count": 105,
   "id": "56f8b46a-4ec8-4d2f-8e6f-3817674ac8c0",
   "metadata": {},
   "outputs": [
    {
     "data": {
      "text/html": [
       "<table class=\"simpletable\">\n",
       "<caption>OLS Regression Results</caption>\n",
       "<tr>\n",
       "  <th>Dep. Variable:</th>            <td>y</td>        <th>  R-squared:         </th> <td>   0.993</td> \n",
       "</tr>\n",
       "<tr>\n",
       "  <th>Model:</th>                   <td>OLS</td>       <th>  Adj. R-squared:    </th> <td>   0.993</td> \n",
       "</tr>\n",
       "<tr>\n",
       "  <th>Method:</th>             <td>Least Squares</td>  <th>  F-statistic:       </th> <td>5.463e+04</td>\n",
       "</tr>\n",
       "<tr>\n",
       "  <th>Date:</th>             <td>Sat, 27 Jul 2024</td> <th>  Prob (F-statistic):</th>  <td>  0.00</td>  \n",
       "</tr>\n",
       "<tr>\n",
       "  <th>Time:</th>                 <td>12:27:59</td>     <th>  Log-Likelihood:    </th> <td> -287.67</td> \n",
       "</tr>\n",
       "<tr>\n",
       "  <th>No. Observations:</th>      <td>   400</td>      <th>  AIC:               </th> <td>   579.3</td> \n",
       "</tr>\n",
       "<tr>\n",
       "  <th>Df Residuals:</th>          <td>   398</td>      <th>  BIC:               </th> <td>   587.3</td> \n",
       "</tr>\n",
       "<tr>\n",
       "  <th>Df Model:</th>              <td>     1</td>      <th>                     </th>     <td> </td>    \n",
       "</tr>\n",
       "<tr>\n",
       "  <th>Covariance Type:</th>      <td>nonrobust</td>    <th>                     </th>     <td> </td>    \n",
       "</tr>\n",
       "</table>\n",
       "<table class=\"simpletable\">\n",
       "<tr>\n",
       "    <td></td>       <th>coef</th>     <th>std err</th>      <th>t</th>      <th>P>|t|</th>  <th>[0.025</th>    <th>0.975]</th>  \n",
       "</tr>\n",
       "<tr>\n",
       "  <th>const</th> <td>    5.0680</td> <td>    0.049</td> <td>  103.172</td> <td> 0.000</td> <td>    4.971</td> <td>    5.165</td>\n",
       "</tr>\n",
       "<tr>\n",
       "  <th>x</th>     <td>    1.9903</td> <td>    0.009</td> <td>  233.734</td> <td> 0.000</td> <td>    1.974</td> <td>    2.007</td>\n",
       "</tr>\n",
       "</table>\n",
       "<table class=\"simpletable\">\n",
       "<tr>\n",
       "  <th>Omnibus:</th>       <td> 0.765</td> <th>  Durbin-Watson:     </th> <td>   2.108</td>\n",
       "</tr>\n",
       "<tr>\n",
       "  <th>Prob(Omnibus):</th> <td> 0.682</td> <th>  Jarque-Bera (JB):  </th> <td>   0.615</td>\n",
       "</tr>\n",
       "<tr>\n",
       "  <th>Skew:</th>          <td>-0.089</td> <th>  Prob(JB):          </th> <td>   0.735</td>\n",
       "</tr>\n",
       "<tr>\n",
       "  <th>Kurtosis:</th>      <td> 3.073</td> <th>  Cond. No.          </th> <td>    11.6</td>\n",
       "</tr>\n",
       "</table><br/><br/>Notes:<br/>[1] Standard Errors assume that the covariance matrix of the errors is correctly specified."
      ],
      "text/latex": [
       "\\begin{center}\n",
       "\\begin{tabular}{lclc}\n",
       "\\toprule\n",
       "\\textbf{Dep. Variable:}    &        y         & \\textbf{  R-squared:         } &     0.993   \\\\\n",
       "\\textbf{Model:}            &       OLS        & \\textbf{  Adj. R-squared:    } &     0.993   \\\\\n",
       "\\textbf{Method:}           &  Least Squares   & \\textbf{  F-statistic:       } & 5.463e+04   \\\\\n",
       "\\textbf{Date:}             & Sat, 27 Jul 2024 & \\textbf{  Prob (F-statistic):} &     0.00    \\\\\n",
       "\\textbf{Time:}             &     12:27:59     & \\textbf{  Log-Likelihood:    } &   -287.67   \\\\\n",
       "\\textbf{No. Observations:} &         400      & \\textbf{  AIC:               } &     579.3   \\\\\n",
       "\\textbf{Df Residuals:}     &         398      & \\textbf{  BIC:               } &     587.3   \\\\\n",
       "\\textbf{Df Model:}         &           1      & \\textbf{                     } &             \\\\\n",
       "\\textbf{Covariance Type:}  &    nonrobust     & \\textbf{                     } &             \\\\\n",
       "\\bottomrule\n",
       "\\end{tabular}\n",
       "\\begin{tabular}{lcccccc}\n",
       "               & \\textbf{coef} & \\textbf{std err} & \\textbf{t} & \\textbf{P$> |$t$|$} & \\textbf{[0.025} & \\textbf{0.975]}  \\\\\n",
       "\\midrule\n",
       "\\textbf{const} &       5.0680  &        0.049     &   103.172  &         0.000        &        4.971    &        5.165     \\\\\n",
       "\\textbf{x}     &       1.9903  &        0.009     &   233.734  &         0.000        &        1.974    &        2.007     \\\\\n",
       "\\bottomrule\n",
       "\\end{tabular}\n",
       "\\begin{tabular}{lclc}\n",
       "\\textbf{Omnibus:}       &  0.765 & \\textbf{  Durbin-Watson:     } &    2.108  \\\\\n",
       "\\textbf{Prob(Omnibus):} &  0.682 & \\textbf{  Jarque-Bera (JB):  } &    0.615  \\\\\n",
       "\\textbf{Skew:}          & -0.089 & \\textbf{  Prob(JB):          } &    0.735  \\\\\n",
       "\\textbf{Kurtosis:}      &  3.073 & \\textbf{  Cond. No.          } &     11.6  \\\\\n",
       "\\bottomrule\n",
       "\\end{tabular}\n",
       "%\\caption{OLS Regression Results}\n",
       "\\end{center}\n",
       "\n",
       "Notes: \\newline\n",
       " [1] Standard Errors assume that the covariance matrix of the errors is correctly specified."
      ],
      "text/plain": [
       "<class 'statsmodels.iolib.summary.Summary'>\n",
       "\"\"\"\n",
       "                            OLS Regression Results                            \n",
       "==============================================================================\n",
       "Dep. Variable:                      y   R-squared:                       0.993\n",
       "Model:                            OLS   Adj. R-squared:                  0.993\n",
       "Method:                 Least Squares   F-statistic:                 5.463e+04\n",
       "Date:                Sat, 27 Jul 2024   Prob (F-statistic):               0.00\n",
       "Time:                        12:27:59   Log-Likelihood:                -287.67\n",
       "No. Observations:                 400   AIC:                             579.3\n",
       "Df Residuals:                     398   BIC:                             587.3\n",
       "Df Model:                           1                                         \n",
       "Covariance Type:            nonrobust                                         \n",
       "==============================================================================\n",
       "                 coef    std err          t      P>|t|      [0.025      0.975]\n",
       "------------------------------------------------------------------------------\n",
       "const          5.0680      0.049    103.172      0.000       4.971       5.165\n",
       "x              1.9903      0.009    233.734      0.000       1.974       2.007\n",
       "==============================================================================\n",
       "Omnibus:                        0.765   Durbin-Watson:                   2.108\n",
       "Prob(Omnibus):                  0.682   Jarque-Bera (JB):                0.615\n",
       "Skew:                          -0.089   Prob(JB):                        0.735\n",
       "Kurtosis:                       3.073   Cond. No.                         11.6\n",
       "==============================================================================\n",
       "\n",
       "Notes:\n",
       "[1] Standard Errors assume that the covariance matrix of the errors is correctly specified.\n",
       "\"\"\""
      ]
     },
     "execution_count": 105,
     "metadata": {},
     "output_type": "execute_result"
    }
   ],
   "source": [
    "import statsmodels.api as sm\n",
    "X_train_sm = sm.add_constant(X_train)\n",
    "lr = sm.OLS(y_train, X_train_sm).fit()\n",
    "lr.summary()"
   ]
  }
 ],
 "metadata": {
  "kernelspec": {
   "display_name": "Python 3 (ipykernel)",
   "language": "python",
   "name": "python3"
  },
  "language_info": {
   "codemirror_mode": {
    "name": "ipython",
    "version": 3
   },
   "file_extension": ".py",
   "mimetype": "text/x-python",
   "name": "python",
   "nbconvert_exporter": "python",
   "pygments_lexer": "ipython3",
   "version": "3.11.7"
  }
 },
 "nbformat": 4,
 "nbformat_minor": 5
}
