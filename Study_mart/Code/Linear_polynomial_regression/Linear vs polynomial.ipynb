{
 "cells": [
  {
   "cell_type": "markdown",
   "id": "7eed6e23-48af-4691-94a0-1170264b5ea2",
   "metadata": {},
   "source": [
    "## importing libraries"
   ]
  },
  {
   "cell_type": "code",
   "execution_count": 110,
   "id": "1591026d-ae05-4d05-a0e1-e348992909cc",
   "metadata": {},
   "outputs": [],
   "source": [
    "import pandas as pd\n",
    "import numpy as np\n",
    "import matplotlib.pyplot as plt"
   ]
  },
  {
   "cell_type": "markdown",
   "id": "8fa4f742-2b16-40d7-b86d-682e4f7a26d3",
   "metadata": {},
   "source": [
    "## Import linear dataset"
   ]
  },
  {
   "cell_type": "code",
   "execution_count": 111,
   "id": "42d9d967-7ebb-4e47-9baa-30448784dee7",
   "metadata": {},
   "outputs": [
    {
     "data": {
      "text/html": [
       "<div>\n",
       "<style scoped>\n",
       "    .dataframe tbody tr th:only-of-type {\n",
       "        vertical-align: middle;\n",
       "    }\n",
       "\n",
       "    .dataframe tbody tr th {\n",
       "        vertical-align: top;\n",
       "    }\n",
       "\n",
       "    .dataframe thead th {\n",
       "        text-align: right;\n",
       "    }\n",
       "</style>\n",
       "<table border=\"1\" class=\"dataframe\">\n",
       "  <thead>\n",
       "    <tr style=\"text-align: right;\">\n",
       "      <th></th>\n",
       "      <th>x</th>\n",
       "      <th>y</th>\n",
       "    </tr>\n",
       "  </thead>\n",
       "  <tbody>\n",
       "    <tr>\n",
       "      <th>0</th>\n",
       "      <td>0.00000</td>\n",
       "      <td>4.447692</td>\n",
       "    </tr>\n",
       "    <tr>\n",
       "      <th>1</th>\n",
       "      <td>0.02004</td>\n",
       "      <td>5.024612</td>\n",
       "    </tr>\n",
       "    <tr>\n",
       "      <th>2</th>\n",
       "      <td>0.04008</td>\n",
       "      <td>5.869593</td>\n",
       "    </tr>\n",
       "    <tr>\n",
       "      <th>3</th>\n",
       "      <td>0.06012</td>\n",
       "      <td>4.722490</td>\n",
       "    </tr>\n",
       "    <tr>\n",
       "      <th>4</th>\n",
       "      <td>0.08016</td>\n",
       "      <td>4.877101</td>\n",
       "    </tr>\n",
       "  </tbody>\n",
       "</table>\n",
       "</div>"
      ],
      "text/plain": [
       "         x         y\n",
       "0  0.00000  4.447692\n",
       "1  0.02004  5.024612\n",
       "2  0.04008  5.869593\n",
       "3  0.06012  4.722490\n",
       "4  0.08016  4.877101"
      ]
     },
     "execution_count": 111,
     "metadata": {},
     "output_type": "execute_result"
    }
   ],
   "source": [
    "df1=pd.read_csv('linear_data.csv')\n",
    "df1.head()"
   ]
  },
  {
   "cell_type": "code",
   "execution_count": 112,
   "id": "86530f6d-0ba1-4a86-9073-b5faf254d416",
   "metadata": {},
   "outputs": [],
   "source": [
    "X_linear=df1[['x']]\n",
    "y_linear=df1[['y']]"
   ]
  },
  {
   "cell_type": "markdown",
   "id": "0c391f68-049a-4f72-a27e-ab9a90d8b77c",
   "metadata": {},
   "source": [
    "## import non-linear dataset"
   ]
  },
  {
   "cell_type": "code",
   "execution_count": 113,
   "id": "d0195521-447e-4fb4-9127-4c96e6d706a8",
   "metadata": {},
   "outputs": [
    {
     "data": {
      "text/html": [
       "<div>\n",
       "<style scoped>\n",
       "    .dataframe tbody tr th:only-of-type {\n",
       "        vertical-align: middle;\n",
       "    }\n",
       "\n",
       "    .dataframe tbody tr th {\n",
       "        vertical-align: top;\n",
       "    }\n",
       "\n",
       "    .dataframe thead th {\n",
       "        text-align: right;\n",
       "    }\n",
       "</style>\n",
       "<table border=\"1\" class=\"dataframe\">\n",
       "  <thead>\n",
       "    <tr style=\"text-align: right;\">\n",
       "      <th></th>\n",
       "      <th>x</th>\n",
       "      <th>y</th>\n",
       "    </tr>\n",
       "  </thead>\n",
       "  <tbody>\n",
       "    <tr>\n",
       "      <th>0</th>\n",
       "      <td>0.00000</td>\n",
       "      <td>-0.155043</td>\n",
       "    </tr>\n",
       "    <tr>\n",
       "      <th>1</th>\n",
       "      <td>0.02004</td>\n",
       "      <td>0.081809</td>\n",
       "    </tr>\n",
       "    <tr>\n",
       "      <th>2</th>\n",
       "      <td>0.04008</td>\n",
       "      <td>-0.014298</td>\n",
       "    </tr>\n",
       "    <tr>\n",
       "      <th>3</th>\n",
       "      <td>0.06012</td>\n",
       "      <td>0.143978</td>\n",
       "    </tr>\n",
       "    <tr>\n",
       "      <th>4</th>\n",
       "      <td>0.08016</td>\n",
       "      <td>0.019553</td>\n",
       "    </tr>\n",
       "  </tbody>\n",
       "</table>\n",
       "</div>"
      ],
      "text/plain": [
       "         x         y\n",
       "0  0.00000 -0.155043\n",
       "1  0.02004  0.081809\n",
       "2  0.04008 -0.014298\n",
       "3  0.06012  0.143978\n",
       "4  0.08016  0.019553"
      ]
     },
     "execution_count": 113,
     "metadata": {},
     "output_type": "execute_result"
    }
   ],
   "source": [
    "df2 = pd.read_csv('nonlinear_data.csv')\n",
    "df2.head()"
   ]
  },
  {
   "cell_type": "code",
   "execution_count": 114,
   "id": "0fcc8526-be6a-47be-9061-eb476674a606",
   "metadata": {},
   "outputs": [],
   "source": [
    "X_nonlinear=df2[['x']]\n",
    "y_nonlinear=df2[['y']]"
   ]
  },
  {
   "cell_type": "markdown",
   "id": "30234353-d786-4429-9385-a396c866fb5d",
   "metadata": {},
   "source": [
    "## visual representation"
   ]
  },
  {
   "cell_type": "code",
   "execution_count": 115,
   "id": "087b726c-f3b6-40f1-9eab-98c9f6e5dc17",
   "metadata": {},
   "outputs": [
    {
     "data": {
      "text/plain": [
       "<matplotlib.legend.Legend at 0x22cf23562d0>"
      ]
     },
     "execution_count": 115,
     "metadata": {},
     "output_type": "execute_result"
    },
    {
     "data": {
      "image/png": "[encoded data removed]",
      "text/plain": [
       "<Figure size 1000x500 with 2 Axes>"
      ]
     },
     "metadata": {},
     "output_type": "display_data"
    }
   ],
   "source": [
    "## linear\n",
    "plt.figure(figsize=(10,5))\n",
    "plt.subplot(1,2,1)\n",
    "plt.scatter(X_linear, y_linear, c='red', label='Data with linear relaionship')\n",
    "plt.xlabel('X')\n",
    "plt.ylabel('Y')\n",
    "plt.title('Linear relationship')\n",
    "plt.legend()\n",
    "\n",
    "## Non-linear\n",
    "\n",
    "plt.subplot(1,2,2)\n",
    "plt.scatter(X_nonlinear, y_nonlinear, c='green', label='Data with non-linear relaionship')\n",
    "plt.xlabel('X')\n",
    "plt.ylabel('Y')\n",
    "plt.title('Non-linear relationship')\n",
    "plt.legend()"
   ]
  },
  {
   "cell_type": "code",
   "execution_count": 116,
   "id": "c3eb5a8b-d772-4a6e-9f25-f733313e7eda",
   "metadata": {},
   "outputs": [
    {
     "data": {
      "text/html": [
       "<div>\n",
       "<style scoped>\n",
       "    .dataframe tbody tr th:only-of-type {\n",
       "        vertical-align: middle;\n",
       "    }\n",
       "\n",
       "    .dataframe tbody tr th {\n",
       "        vertical-align: top;\n",
       "    }\n",
       "\n",
       "    .dataframe thead th {\n",
       "        text-align: right;\n",
       "    }\n",
       "</style>\n",
       "<table border=\"1\" class=\"dataframe\">\n",
       "  <thead>\n",
       "    <tr style=\"text-align: right;\">\n",
       "      <th></th>\n",
       "      <th>x</th>\n",
       "      <th>y</th>\n",
       "    </tr>\n",
       "  </thead>\n",
       "  <tbody>\n",
       "    <tr>\n",
       "      <th>x</th>\n",
       "      <td>1.00000</td>\n",
       "      <td>0.99644</td>\n",
       "    </tr>\n",
       "    <tr>\n",
       "      <th>y</th>\n",
       "      <td>0.99644</td>\n",
       "      <td>1.00000</td>\n",
       "    </tr>\n",
       "  </tbody>\n",
       "</table>\n",
       "</div>"
      ],
      "text/plain": [
       "         x        y\n",
       "x  1.00000  0.99644\n",
       "y  0.99644  1.00000"
      ]
     },
     "execution_count": 116,
     "metadata": {},
     "output_type": "execute_result"
    }
   ],
   "source": [
    "df1.corr() #linear"
   ]
  },
  {
   "cell_type": "code",
   "execution_count": 117,
   "id": "d861bbb0-0b89-4676-bf97-a349505cb368",
   "metadata": {},
   "outputs": [
    {
     "data": {
      "text/html": [
       "<div>\n",
       "<style scoped>\n",
       "    .dataframe tbody tr th:only-of-type {\n",
       "        vertical-align: middle;\n",
       "    }\n",
       "\n",
       "    .dataframe tbody tr th {\n",
       "        vertical-align: top;\n",
       "    }\n",
       "\n",
       "    .dataframe thead th {\n",
       "        text-align: right;\n",
       "    }\n",
       "</style>\n",
       "<table border=\"1\" class=\"dataframe\">\n",
       "  <thead>\n",
       "    <tr style=\"text-align: right;\">\n",
       "      <th></th>\n",
       "      <th>x</th>\n",
       "      <th>y</th>\n",
       "    </tr>\n",
       "  </thead>\n",
       "  <tbody>\n",
       "    <tr>\n",
       "      <th>x</th>\n",
       "      <td>1.000000</td>\n",
       "      <td>-0.065736</td>\n",
       "    </tr>\n",
       "    <tr>\n",
       "      <th>y</th>\n",
       "      <td>-0.065736</td>\n",
       "      <td>1.000000</td>\n",
       "    </tr>\n",
       "  </tbody>\n",
       "</table>\n",
       "</div>"
      ],
      "text/plain": [
       "          x         y\n",
       "x  1.000000 -0.065736\n",
       "y -0.065736  1.000000"
      ]
     },
     "execution_count": 117,
     "metadata": {},
     "output_type": "execute_result"
    }
   ],
   "source": [
    "df2.corr() #non linear"
   ]
  },
  {
   "cell_type": "markdown",
   "id": "9fb2cd7f-630b-4600-8eda-297515e129b8",
   "metadata": {},
   "source": [
    "## linear regression model"
   ]
  },
  {
   "cell_type": "code",
   "execution_count": 118,
   "id": "c9c28b93-8df0-4146-9133-d9ed1167fa9a",
   "metadata": {},
   "outputs": [],
   "source": [
    "from sklearn.linear_model import LinearRegression"
   ]
  },
  {
   "cell_type": "code",
   "execution_count": 119,
   "id": "0a200d22-dde4-4f93-b8de-8cb68f011d56",
   "metadata": {},
   "outputs": [],
   "source": [
    "reg1 = LinearRegression()"
   ]
  },
  {
   "cell_type": "code",
   "execution_count": 120,
   "id": "d21bbf28-b37c-4078-a6c9-1097fdb0989c",
   "metadata": {},
   "outputs": [
    {
     "data": {
      "text/html": [
       "<style>#sk-container-id-13 {color: black;background-color: white;}#sk-container-id-13 pre{padding: 0;}#sk-container-id-13 div.sk-toggleable {background-color: white;}#sk-container-id-13 label.sk-toggleable__label {cursor: pointer;display: block;width: 100%;margin-bottom: 0;padding: 0.3em;box-sizing: border-box;text-align: center;}#sk-container-id-13 label.sk-toggleable__label-arrow:before {content: \"▸\";float: left;margin-right: 0.25em;color: #696969;}#sk-container-id-13 label.sk-toggleable__label-arrow:hover:before {color: black;}#sk-container-id-13 div.sk-estimator:hover label.sk-toggleable__label-arrow:before {color: black;}#sk-container-id-13 div.sk-toggleable__content {max-height: 0;max-width: 0;overflow: hidden;text-align: left;background-color: #f0f8ff;}#sk-container-id-13 div.sk-toggleable__content pre {margin: 0.2em;color: black;border-radius: 0.25em;background-color: #f0f8ff;}#sk-container-id-13 input.sk-toggleable__control:checked~div.sk-toggleable__content {max-height: 200px;max-width: 100%;overflow: auto;}#sk-container-id-13 input.sk-toggleable__control:checked~label.sk-toggleable__label-arrow:before {content: \"▾\";}#sk-container-id-13 div.sk-estimator input.sk-toggleable__control:checked~label.sk-toggleable__label {background-color: #d4ebff;}#sk-container-id-13 div.sk-label input.sk-toggleable__control:checked~label.sk-toggleable__label {background-color: #d4ebff;}#sk-container-id-13 input.sk-hidden--visually {border: 0;clip: rect(1px 1px 1px 1px);clip: rect(1px, 1px, 1px, 1px);height: 1px;margin: -1px;overflow: hidden;padding: 0;position: absolute;width: 1px;}#sk-container-id-13 div.sk-estimator {font-family: monospace;background-color: #f0f8ff;border: 1px dotted black;border-radius: 0.25em;box-sizing: border-box;margin-bottom: 0.5em;}#sk-container-id-13 div.sk-estimator:hover {background-color: #d4ebff;}#sk-container-id-13 div.sk-parallel-item::after {content: \"\";width: 100%;border-bottom: 1px solid gray;flex-grow: 1;}#sk-container-id-13 div.sk-label:hover label.sk-toggleable__label {background-color: #d4ebff;}#sk-container-id-13 div.sk-serial::before {content: \"\";position: absolute;border-left: 1px solid gray;box-sizing: border-box;top: 0;bottom: 0;left: 50%;z-index: 0;}#sk-container-id-13 div.sk-serial {display: flex;flex-direction: column;align-items: center;background-color: white;padding-right: 0.2em;padding-left: 0.2em;position: relative;}#sk-container-id-13 div.sk-item {position: relative;z-index: 1;}#sk-container-id-13 div.sk-parallel {display: flex;align-items: stretch;justify-content: center;background-color: white;position: relative;}#sk-container-id-13 div.sk-item::before, #sk-container-id-13 div.sk-parallel-item::before {content: \"\";position: absolute;border-left: 1px solid gray;box-sizing: border-box;top: 0;bottom: 0;left: 50%;z-index: -1;}#sk-container-id-13 div.sk-parallel-item {display: flex;flex-direction: column;z-index: 1;position: relative;background-color: white;}#sk-container-id-13 div.sk-parallel-item:first-child::after {align-self: flex-end;width: 50%;}#sk-container-id-13 div.sk-parallel-item:last-child::after {align-self: flex-start;width: 50%;}#sk-container-id-13 div.sk-parallel-item:only-child::after {width: 0;}#sk-container-id-13 div.sk-dashed-wrapped {border: 1px dashed gray;margin: 0 0.4em 0.5em 0.4em;box-sizing: border-box;padding-bottom: 0.4em;background-color: white;}#sk-container-id-13 div.sk-label label {font-family: monospace;font-weight: bold;display: inline-block;line-height: 1.2em;}#sk-container-id-13 div.sk-label-container {text-align: center;}#sk-container-id-13 div.sk-container {/* jupyter's `normalize.less` sets `[hidden] { display: none; }` but bootstrap.min.css set `[hidden] { display: none !important; }` so we also need the `!important` here to be able to override the default hidden behavior on the sphinx rendered scikit-learn.org. See: https://github.com/scikit-learn/scikit-learn/issues/21755 */display: inline-block !important;position: relative;}#sk-container-id-13 div.sk-text-repr-fallback {display: none;}</style><div id=\"sk-container-id-13\" class=\"sk-top-container\"><div class=\"sk-text-repr-fallback\"><pre>LinearRegression()</pre><b>In a Jupyter environment, please rerun this cell to show the HTML representation or trust the notebook. <br />On GitHub, the HTML representation is unable to render, please try loading this page with nbviewer.org.</b></div><div class=\"sk-container\" hidden><div class=\"sk-item\"><div class=\"sk-estimator sk-toggleable\"><input class=\"sk-toggleable__control sk-hidden--visually\" id=\"sk-estimator-id-13\" type=\"checkbox\" checked><label for=\"sk-estimator-id-13\" class=\"sk-toggleable__label sk-toggleable__label-arrow\">LinearRegression</label><div class=\"sk-toggleable__content\"><pre>LinearRegression()</pre></div></div></div></div></div>"
      ],
      "text/plain": [
       "LinearRegression()"
      ]
     },
     "execution_count": 120,
     "metadata": {},
     "output_type": "execute_result"
    }
   ],
   "source": [
    "reg1.fit(X_linear, y_linear)"
   ]
  },
  {
   "cell_type": "code",
   "execution_count": 121,
   "id": "9f3e1c3b-580d-435b-a19c-02469b5d47d5",
   "metadata": {},
   "outputs": [
    {
     "data": {
      "text/plain": [
       "array([[ 5.05186209],\n",
       "       [ 5.0918173 ],\n",
       "       [ 5.13177251],\n",
       "       [ 5.17172772],\n",
       "       [ 5.21168292],\n",
       "       [ 5.25163813],\n",
       "       [ 5.29159334],\n",
       "       [ 5.33154855],\n",
       "       [ 5.37150376],\n",
       "       [ 5.41145896],\n",
       "       [ 5.45141417],\n",
       "       [ 5.49136938],\n",
       "       [ 5.53132459],\n",
       "       [ 5.5712798 ],\n",
       "       [ 5.611235  ],\n",
       "       [ 5.65119021],\n",
       "       [ 5.69114542],\n",
       "       [ 5.73110063],\n",
       "       [ 5.77105584],\n",
       "       [ 5.81101104],\n",
       "       [ 5.85096625],\n",
       "       [ 5.89092146],\n",
       "       [ 5.93087667],\n",
       "       [ 5.97083188],\n",
       "       [ 6.01078708],\n",
       "       [ 6.05074229],\n",
       "       [ 6.0906975 ],\n",
       "       [ 6.13065271],\n",
       "       [ 6.17060792],\n",
       "       [ 6.21056312],\n",
       "       [ 6.25051833],\n",
       "       [ 6.29047354],\n",
       "       [ 6.33042875],\n",
       "       [ 6.37038396],\n",
       "       [ 6.41033916],\n",
       "       [ 6.45029437],\n",
       "       [ 6.49024958],\n",
       "       [ 6.53020479],\n",
       "       [ 6.57016   ],\n",
       "       [ 6.6101152 ],\n",
       "       [ 6.65007041],\n",
       "       [ 6.69002562],\n",
       "       [ 6.72998083],\n",
       "       [ 6.76993604],\n",
       "       [ 6.80989124],\n",
       "       [ 6.84984645],\n",
       "       [ 6.88980166],\n",
       "       [ 6.92975687],\n",
       "       [ 6.96971208],\n",
       "       [ 7.00966728],\n",
       "       [ 7.04962249],\n",
       "       [ 7.0895777 ],\n",
       "       [ 7.12953291],\n",
       "       [ 7.16948812],\n",
       "       [ 7.20944332],\n",
       "       [ 7.24939853],\n",
       "       [ 7.28935374],\n",
       "       [ 7.32930895],\n",
       "       [ 7.36926416],\n",
       "       [ 7.40921936],\n",
       "       [ 7.44917457],\n",
       "       [ 7.48912978],\n",
       "       [ 7.52908499],\n",
       "       [ 7.5690402 ],\n",
       "       [ 7.6089954 ],\n",
       "       [ 7.64895061],\n",
       "       [ 7.68890582],\n",
       "       [ 7.72886103],\n",
       "       [ 7.76881624],\n",
       "       [ 7.80877144],\n",
       "       [ 7.84872665],\n",
       "       [ 7.88868186],\n",
       "       [ 7.92863707],\n",
       "       [ 7.96859228],\n",
       "       [ 8.00854748],\n",
       "       [ 8.04850269],\n",
       "       [ 8.0884579 ],\n",
       "       [ 8.12841311],\n",
       "       [ 8.16836832],\n",
       "       [ 8.20832352],\n",
       "       [ 8.24827873],\n",
       "       [ 8.28823394],\n",
       "       [ 8.32818915],\n",
       "       [ 8.36814436],\n",
       "       [ 8.40809956],\n",
       "       [ 8.44805477],\n",
       "       [ 8.48800998],\n",
       "       [ 8.52796519],\n",
       "       [ 8.5679204 ],\n",
       "       [ 8.6078756 ],\n",
       "       [ 8.64783081],\n",
       "       [ 8.68778602],\n",
       "       [ 8.72774123],\n",
       "       [ 8.76769644],\n",
       "       [ 8.80765164],\n",
       "       [ 8.84760685],\n",
       "       [ 8.88756206],\n",
       "       [ 8.92751727],\n",
       "       [ 8.96747248],\n",
       "       [ 9.00742768],\n",
       "       [ 9.04738289],\n",
       "       [ 9.0873381 ],\n",
       "       [ 9.12729331],\n",
       "       [ 9.16724852],\n",
       "       [ 9.20720372],\n",
       "       [ 9.24715893],\n",
       "       [ 9.28711414],\n",
       "       [ 9.32706935],\n",
       "       [ 9.36702456],\n",
       "       [ 9.40697976],\n",
       "       [ 9.44693497],\n",
       "       [ 9.48689018],\n",
       "       [ 9.52684539],\n",
       "       [ 9.5668006 ],\n",
       "       [ 9.60675581],\n",
       "       [ 9.64671101],\n",
       "       [ 9.68666622],\n",
       "       [ 9.72662143],\n",
       "       [ 9.76657664],\n",
       "       [ 9.80653185],\n",
       "       [ 9.84648705],\n",
       "       [ 9.88644226],\n",
       "       [ 9.92639747],\n",
       "       [ 9.96635268],\n",
       "       [10.00630789],\n",
       "       [10.04626309],\n",
       "       [10.0862183 ],\n",
       "       [10.12617351],\n",
       "       [10.16612872],\n",
       "       [10.20608393],\n",
       "       [10.24603913],\n",
       "       [10.28599434],\n",
       "       [10.32594955],\n",
       "       [10.36590476],\n",
       "       [10.40585997],\n",
       "       [10.44581517],\n",
       "       [10.48577038],\n",
       "       [10.52572559],\n",
       "       [10.5656808 ],\n",
       "       [10.60563601],\n",
       "       [10.64559121],\n",
       "       [10.68554642],\n",
       "       [10.72550163],\n",
       "       [10.76545684],\n",
       "       [10.80541205],\n",
       "       [10.84536725],\n",
       "       [10.88532246],\n",
       "       [10.92527767],\n",
       "       [10.96523288],\n",
       "       [11.00518809],\n",
       "       [11.04514329],\n",
       "       [11.0850985 ],\n",
       "       [11.12505371],\n",
       "       [11.16500892],\n",
       "       [11.20496413],\n",
       "       [11.24491933],\n",
       "       [11.28487454],\n",
       "       [11.32482975],\n",
       "       [11.36478496],\n",
       "       [11.40474017],\n",
       "       [11.44469537],\n",
       "       [11.48465058],\n",
       "       [11.52460579],\n",
       "       [11.564561  ],\n",
       "       [11.60451621],\n",
       "       [11.64447141],\n",
       "       [11.68442662],\n",
       "       [11.72438183],\n",
       "       [11.76433704],\n",
       "       [11.80429225],\n",
       "       [11.84424745],\n",
       "       [11.88420266],\n",
       "       [11.92415787],\n",
       "       [11.96411308],\n",
       "       [12.00406829],\n",
       "       [12.04402349],\n",
       "       [12.0839787 ],\n",
       "       [12.12393391],\n",
       "       [12.16388912],\n",
       "       [12.20384433],\n",
       "       [12.24379953],\n",
       "       [12.28375474],\n",
       "       [12.32370995],\n",
       "       [12.36366516],\n",
       "       [12.40362037],\n",
       "       [12.44357557],\n",
       "       [12.48353078],\n",
       "       [12.52348599],\n",
       "       [12.5634412 ],\n",
       "       [12.60339641],\n",
       "       [12.64335161],\n",
       "       [12.68330682],\n",
       "       [12.72326203],\n",
       "       [12.76321724],\n",
       "       [12.80317245],\n",
       "       [12.84312765],\n",
       "       [12.88308286],\n",
       "       [12.92303807],\n",
       "       [12.96299328],\n",
       "       [13.00294849],\n",
       "       [13.04290369],\n",
       "       [13.0828589 ],\n",
       "       [13.12281411],\n",
       "       [13.16276932],\n",
       "       [13.20272453],\n",
       "       [13.24267973],\n",
       "       [13.28263494],\n",
       "       [13.32259015],\n",
       "       [13.36254536],\n",
       "       [13.40250057],\n",
       "       [13.44245577],\n",
       "       [13.48241098],\n",
       "       [13.52236619],\n",
       "       [13.5623214 ],\n",
       "       [13.60227661],\n",
       "       [13.64223181],\n",
       "       [13.68218702],\n",
       "       [13.72214223],\n",
       "       [13.76209744],\n",
       "       [13.80205265],\n",
       "       [13.84200785],\n",
       "       [13.88196306],\n",
       "       [13.92191827],\n",
       "       [13.96187348],\n",
       "       [14.00182869],\n",
       "       [14.04178389],\n",
       "       [14.0817391 ],\n",
       "       [14.12169431],\n",
       "       [14.16164952],\n",
       "       [14.20160473],\n",
       "       [14.24155993],\n",
       "       [14.28151514],\n",
       "       [14.32147035],\n",
       "       [14.36142556],\n",
       "       [14.40138077],\n",
       "       [14.44133597],\n",
       "       [14.48129118],\n",
       "       [14.52124639],\n",
       "       [14.5612016 ],\n",
       "       [14.60115681],\n",
       "       [14.64111201],\n",
       "       [14.68106722],\n",
       "       [14.72102243],\n",
       "       [14.76097764],\n",
       "       [14.80093285],\n",
       "       [14.84088805],\n",
       "       [14.88084326],\n",
       "       [14.92079847],\n",
       "       [14.96075368],\n",
       "       [15.00070889],\n",
       "       [15.04066409],\n",
       "       [15.0806193 ],\n",
       "       [15.12057451],\n",
       "       [15.16052972],\n",
       "       [15.20048493],\n",
       "       [15.24044013],\n",
       "       [15.28039534],\n",
       "       [15.32035055],\n",
       "       [15.36030576],\n",
       "       [15.40026097],\n",
       "       [15.44021617],\n",
       "       [15.48017138],\n",
       "       [15.52012659],\n",
       "       [15.5600818 ],\n",
       "       [15.60003701],\n",
       "       [15.63999221],\n",
       "       [15.67994742],\n",
       "       [15.71990263],\n",
       "       [15.75985784],\n",
       "       [15.79981305],\n",
       "       [15.83976825],\n",
       "       [15.87972346],\n",
       "       [15.91967867],\n",
       "       [15.95963388],\n",
       "       [15.99958909],\n",
       "       [16.03954429],\n",
       "       [16.0794995 ],\n",
       "       [16.11945471],\n",
       "       [16.15940992],\n",
       "       [16.19936513],\n",
       "       [16.23932033],\n",
       "       [16.27927554],\n",
       "       [16.31923075],\n",
       "       [16.35918596],\n",
       "       [16.39914117],\n",
       "       [16.43909637],\n",
       "       [16.47905158],\n",
       "       [16.51900679],\n",
       "       [16.558962  ],\n",
       "       [16.59891721],\n",
       "       [16.63887241],\n",
       "       [16.67882762],\n",
       "       [16.71878283],\n",
       "       [16.75873804],\n",
       "       [16.79869325],\n",
       "       [16.83864845],\n",
       "       [16.87860366],\n",
       "       [16.91855887],\n",
       "       [16.95851408],\n",
       "       [16.99846929],\n",
       "       [17.03842449],\n",
       "       [17.0783797 ],\n",
       "       [17.11833491],\n",
       "       [17.15829012],\n",
       "       [17.19824533],\n",
       "       [17.23820053],\n",
       "       [17.27815574],\n",
       "       [17.31811095],\n",
       "       [17.35806616],\n",
       "       [17.39802137],\n",
       "       [17.43797657],\n",
       "       [17.47793178],\n",
       "       [17.51788699],\n",
       "       [17.5578422 ],\n",
       "       [17.59779741],\n",
       "       [17.63775261],\n",
       "       [17.67770782],\n",
       "       [17.71766303],\n",
       "       [17.75761824],\n",
       "       [17.79757345],\n",
       "       [17.83752865],\n",
       "       [17.87748386],\n",
       "       [17.91743907],\n",
       "       [17.95739428],\n",
       "       [17.99734949],\n",
       "       [18.03730469],\n",
       "       [18.0772599 ],\n",
       "       [18.11721511],\n",
       "       [18.15717032],\n",
       "       [18.19712553],\n",
       "       [18.23708073],\n",
       "       [18.27703594],\n",
       "       [18.31699115],\n",
       "       [18.35694636],\n",
       "       [18.39690157],\n",
       "       [18.43685677],\n",
       "       [18.47681198],\n",
       "       [18.51676719],\n",
       "       [18.5567224 ],\n",
       "       [18.59667761],\n",
       "       [18.63663281],\n",
       "       [18.67658802],\n",
       "       [18.71654323],\n",
       "       [18.75649844],\n",
       "       [18.79645365],\n",
       "       [18.83640885],\n",
       "       [18.87636406],\n",
       "       [18.91631927],\n",
       "       [18.95627448],\n",
       "       [18.99622969],\n",
       "       [19.03618489],\n",
       "       [19.0761401 ],\n",
       "       [19.11609531],\n",
       "       [19.15605052],\n",
       "       [19.19600573],\n",
       "       [19.23596093],\n",
       "       [19.27591614],\n",
       "       [19.31587135],\n",
       "       [19.35582656],\n",
       "       [19.39578177],\n",
       "       [19.43573697],\n",
       "       [19.47569218],\n",
       "       [19.51564739],\n",
       "       [19.5556026 ],\n",
       "       [19.59555781],\n",
       "       [19.63551301],\n",
       "       [19.67546822],\n",
       "       [19.71542343],\n",
       "       [19.75537864],\n",
       "       [19.79533385],\n",
       "       [19.83528905],\n",
       "       [19.87524426],\n",
       "       [19.91519947],\n",
       "       [19.95515468],\n",
       "       [19.99510989],\n",
       "       [20.03506509],\n",
       "       [20.0750203 ],\n",
       "       [20.11497551],\n",
       "       [20.15493072],\n",
       "       [20.19488593],\n",
       "       [20.23484113],\n",
       "       [20.27479634],\n",
       "       [20.31475155],\n",
       "       [20.35470676],\n",
       "       [20.39466197],\n",
       "       [20.43461717],\n",
       "       [20.47457238],\n",
       "       [20.51452759],\n",
       "       [20.5544828 ],\n",
       "       [20.59443801],\n",
       "       [20.63439321],\n",
       "       [20.67434842],\n",
       "       [20.71430363],\n",
       "       [20.75425884],\n",
       "       [20.79421405],\n",
       "       [20.83416925],\n",
       "       [20.87412446],\n",
       "       [20.91407967],\n",
       "       [20.95403488],\n",
       "       [20.99399009],\n",
       "       [21.03394529],\n",
       "       [21.0739005 ],\n",
       "       [21.11385571],\n",
       "       [21.15381092],\n",
       "       [21.19376613],\n",
       "       [21.23372133],\n",
       "       [21.27367654],\n",
       "       [21.31363175],\n",
       "       [21.35358696],\n",
       "       [21.39354217],\n",
       "       [21.43349737],\n",
       "       [21.47345258],\n",
       "       [21.51340779],\n",
       "       [21.553363  ],\n",
       "       [21.59331821],\n",
       "       [21.63327341],\n",
       "       [21.67322862],\n",
       "       [21.71318383],\n",
       "       [21.75313904],\n",
       "       [21.79309425],\n",
       "       [21.83304945],\n",
       "       [21.87300466],\n",
       "       [21.91295987],\n",
       "       [21.95291508],\n",
       "       [21.99287029],\n",
       "       [22.03282549],\n",
       "       [22.0727807 ],\n",
       "       [22.11273591],\n",
       "       [22.15269112],\n",
       "       [22.19264633],\n",
       "       [22.23260153],\n",
       "       [22.27255674],\n",
       "       [22.31251195],\n",
       "       [22.35246716],\n",
       "       [22.39242237],\n",
       "       [22.43237757],\n",
       "       [22.47233278],\n",
       "       [22.51228799],\n",
       "       [22.5522432 ],\n",
       "       [22.59219841],\n",
       "       [22.63215361],\n",
       "       [22.67210882],\n",
       "       [22.71206403],\n",
       "       [22.75201924],\n",
       "       [22.79197445],\n",
       "       [22.83192965],\n",
       "       [22.87188486],\n",
       "       [22.91184007],\n",
       "       [22.95179528],\n",
       "       [22.99175049],\n",
       "       [23.03170569],\n",
       "       [23.0716609 ],\n",
       "       [23.11161611],\n",
       "       [23.15157132],\n",
       "       [23.19152653],\n",
       "       [23.23148173],\n",
       "       [23.27143694],\n",
       "       [23.31139215],\n",
       "       [23.35134736],\n",
       "       [23.39130257],\n",
       "       [23.43125777],\n",
       "       [23.47121298],\n",
       "       [23.51116819],\n",
       "       [23.5511234 ],\n",
       "       [23.59107861],\n",
       "       [23.63103381],\n",
       "       [23.67098902],\n",
       "       [23.71094423],\n",
       "       [23.75089944],\n",
       "       [23.79085465],\n",
       "       [23.83080985],\n",
       "       [23.87076506],\n",
       "       [23.91072027],\n",
       "       [23.95067548],\n",
       "       [23.99063069],\n",
       "       [24.03058589],\n",
       "       [24.0705411 ],\n",
       "       [24.11049631],\n",
       "       [24.15045152],\n",
       "       [24.19040673],\n",
       "       [24.23036193],\n",
       "       [24.27031714],\n",
       "       [24.31027235],\n",
       "       [24.35022756],\n",
       "       [24.39018277],\n",
       "       [24.43013797],\n",
       "       [24.47009318],\n",
       "       [24.51004839],\n",
       "       [24.5500036 ],\n",
       "       [24.58995881],\n",
       "       [24.62991401],\n",
       "       [24.66986922],\n",
       "       [24.70982443],\n",
       "       [24.74977964],\n",
       "       [24.78973485],\n",
       "       [24.82969005],\n",
       "       [24.86964526],\n",
       "       [24.90960047],\n",
       "       [24.94955568],\n",
       "       [24.98951089]])"
      ]
     },
     "execution_count": 121,
     "metadata": {},
     "output_type": "execute_result"
    }
   ],
   "source": [
    "y_pred= reg1.predict(X_linear)\n",
    "y_pred"
   ]
  },
  {
   "cell_type": "code",
   "execution_count": 122,
   "id": "8feb321f-a652-4525-ac2b-5fecc29d9909",
   "metadata": {},
   "outputs": [
    {
     "data": {
      "text/plain": [
       "0.9928923730526016"
      ]
     },
     "execution_count": 122,
     "metadata": {},
     "output_type": "execute_result"
    }
   ],
   "source": [
    "reg1.score(X_linear , y_linear)"
   ]
  },
  {
   "cell_type": "code",
   "execution_count": 123,
   "id": "60db47e6-6678-49fb-888d-5a7e99d73131",
   "metadata": {},
   "outputs": [
    {
     "data": {
      "text/plain": [
       "<matplotlib.legend.Legend at 0x22cf230d3d0>"
      ]
     },
     "execution_count": 123,
     "metadata": {},
     "output_type": "execute_result"
    },
    {
     "data": {
      "image/png": "[encoded data removed]",
      "text/plain": [
       "<Figure size 640x480 with 1 Axes>"
      ]
     },
     "metadata": {},
     "output_type": "display_data"
    }
   ],
   "source": [
    "plt.scatter(X_linear, y_linear, color='red', label='Data with Linear Relationship')\n",
    "plt.plot(X_linear, reg1.predict(X_linear), color='blue', label='Best fit line')\n",
    "plt.xlabel('X')\n",
    "plt.ylabel('Y')\n",
    "plt.title('Linear Relationship')\n",
    "plt.legend()"
   ]
  },
  {
   "cell_type": "markdown",
   "id": "eb5a22ec-127d-45b2-88f8-755233ced5b8",
   "metadata": {},
   "source": [
    "## Non Linear"
   ]
  },
  {
   "cell_type": "code",
   "execution_count": 124,
   "id": "81a942fb-21f7-4939-9608-04d810c4dcad",
   "metadata": {},
   "outputs": [
    {
     "data": {
      "text/html": [
       "<style>#sk-container-id-14 {color: black;background-color: white;}#sk-container-id-14 pre{padding: 0;}#sk-container-id-14 div.sk-toggleable {background-color: white;}#sk-container-id-14 label.sk-toggleable__label {cursor: pointer;display: block;width: 100%;margin-bottom: 0;padding: 0.3em;box-sizing: border-box;text-align: center;}#sk-container-id-14 label.sk-toggleable__label-arrow:before {content: \"▸\";float: left;margin-right: 0.25em;color: #696969;}#sk-container-id-14 label.sk-toggleable__label-arrow:hover:before {color: black;}#sk-container-id-14 div.sk-estimator:hover label.sk-toggleable__label-arrow:before {color: black;}#sk-container-id-14 div.sk-toggleable__content {max-height: 0;max-width: 0;overflow: hidden;text-align: left;background-color: #f0f8ff;}#sk-container-id-14 div.sk-toggleable__content pre {margin: 0.2em;color: black;border-radius: 0.25em;background-color: #f0f8ff;}#sk-container-id-14 input.sk-toggleable__control:checked~div.sk-toggleable__content {max-height: 200px;max-width: 100%;overflow: auto;}#sk-container-id-14 input.sk-toggleable__control:checked~label.sk-toggleable__label-arrow:before {content: \"▾\";}#sk-container-id-14 div.sk-estimator input.sk-toggleable__control:checked~label.sk-toggleable__label {background-color: #d4ebff;}#sk-container-id-14 div.sk-label input.sk-toggleable__control:checked~label.sk-toggleable__label {background-color: #d4ebff;}#sk-container-id-14 input.sk-hidden--visually {border: 0;clip: rect(1px 1px 1px 1px);clip: rect(1px, 1px, 1px, 1px);height: 1px;margin: -1px;overflow: hidden;padding: 0;position: absolute;width: 1px;}#sk-container-id-14 div.sk-estimator {font-family: monospace;background-color: #f0f8ff;border: 1px dotted black;border-radius: 0.25em;box-sizing: border-box;margin-bottom: 0.5em;}#sk-container-id-14 div.sk-estimator:hover {background-color: #d4ebff;}#sk-container-id-14 div.sk-parallel-item::after {content: \"\";width: 100%;border-bottom: 1px solid gray;flex-grow: 1;}#sk-container-id-14 div.sk-label:hover label.sk-toggleable__label {background-color: #d4ebff;}#sk-container-id-14 div.sk-serial::before {content: \"\";position: absolute;border-left: 1px solid gray;box-sizing: border-box;top: 0;bottom: 0;left: 50%;z-index: 0;}#sk-container-id-14 div.sk-serial {display: flex;flex-direction: column;align-items: center;background-color: white;padding-right: 0.2em;padding-left: 0.2em;position: relative;}#sk-container-id-14 div.sk-item {position: relative;z-index: 1;}#sk-container-id-14 div.sk-parallel {display: flex;align-items: stretch;justify-content: center;background-color: white;position: relative;}#sk-container-id-14 div.sk-item::before, #sk-container-id-14 div.sk-parallel-item::before {content: \"\";position: absolute;border-left: 1px solid gray;box-sizing: border-box;top: 0;bottom: 0;left: 50%;z-index: -1;}#sk-container-id-14 div.sk-parallel-item {display: flex;flex-direction: column;z-index: 1;position: relative;background-color: white;}#sk-container-id-14 div.sk-parallel-item:first-child::after {align-self: flex-end;width: 50%;}#sk-container-id-14 div.sk-parallel-item:last-child::after {align-self: flex-start;width: 50%;}#sk-container-id-14 div.sk-parallel-item:only-child::after {width: 0;}#sk-container-id-14 div.sk-dashed-wrapped {border: 1px dashed gray;margin: 0 0.4em 0.5em 0.4em;box-sizing: border-box;padding-bottom: 0.4em;background-color: white;}#sk-container-id-14 div.sk-label label {font-family: monospace;font-weight: bold;display: inline-block;line-height: 1.2em;}#sk-container-id-14 div.sk-label-container {text-align: center;}#sk-container-id-14 div.sk-container {/* jupyter's `normalize.less` sets `[hidden] { display: none; }` but bootstrap.min.css set `[hidden] { display: none !important; }` so we also need the `!important` here to be able to override the default hidden behavior on the sphinx rendered scikit-learn.org. See: https://github.com/scikit-learn/scikit-learn/issues/21755 */display: inline-block !important;position: relative;}#sk-container-id-14 div.sk-text-repr-fallback {display: none;}</style><div id=\"sk-container-id-14\" class=\"sk-top-container\"><div class=\"sk-text-repr-fallback\"><pre>LinearRegression()</pre><b>In a Jupyter environment, please rerun this cell to show the HTML representation or trust the notebook. <br />On GitHub, the HTML representation is unable to render, please try loading this page with nbviewer.org.</b></div><div class=\"sk-container\" hidden><div class=\"sk-item\"><div class=\"sk-estimator sk-toggleable\"><input class=\"sk-toggleable__control sk-hidden--visually\" id=\"sk-estimator-id-14\" type=\"checkbox\" checked><label for=\"sk-estimator-id-14\" class=\"sk-toggleable__label sk-toggleable__label-arrow\">LinearRegression</label><div class=\"sk-toggleable__content\"><pre>LinearRegression()</pre></div></div></div></div></div>"
      ],
      "text/plain": [
       "LinearRegression()"
      ]
     },
     "execution_count": 124,
     "metadata": {},
     "output_type": "execute_result"
    }
   ],
   "source": [
    "reg2 = LinearRegression()\n",
    "reg2.fit(X_nonlinear , y_nonlinear)"
   ]
  },
  {
   "cell_type": "code",
   "execution_count": 125,
   "id": "cf1d82c0-6a03-4cc5-a474-f8724e7bf47d",
   "metadata": {},
   "outputs": [
    {
     "data": {
      "text/plain": [
       "0.004321199719043767"
      ]
     },
     "execution_count": 125,
     "metadata": {},
     "output_type": "execute_result"
    }
   ],
   "source": [
    "reg2.score(X_nonlinear, y_nonlinear)"
   ]
  },
  {
   "cell_type": "code",
   "execution_count": 126,
   "id": "fac4a036-0a57-4602-b9a3-80ed148e6fa3",
   "metadata": {},
   "outputs": [
    {
     "data": {
      "text/plain": [
       "<matplotlib.legend.Legend at 0x22cf2704a50>"
      ]
     },
     "execution_count": 126,
     "metadata": {},
     "output_type": "execute_result"
    },
    {
     "data": {
      "image/png": "[encoded data removed]",
      "text/plain": [
       "<Figure size 640x480 with 1 Axes>"
      ]
     },
     "metadata": {},
     "output_type": "display_data"
    }
   ],
   "source": [
    "plt.scatter(X_nonlinear, y_nonlinear, color='green', label='Data with Non-linear Relationship')\n",
    "plt.plot(X_nonlinear, reg2.predict(X_nonlinear), color='red', label='Best fit line')\n",
    "plt.xlabel('X')\n",
    "plt.ylabel('Y')\n",
    "plt.title('Non-linear Relationship')\n",
    "plt.legend()"
   ]
  },
  {
   "cell_type": "markdown",
   "id": "5f47c6d3-4d75-4a5f-8eb8-41f564857c5f",
   "metadata": {},
   "source": [
    "## Polynomial Regression"
   ]
  },
  {
   "cell_type": "code",
   "execution_count": 127,
   "id": "5bdeb5be-2be2-40d5-a5c2-073cf78477f3",
   "metadata": {},
   "outputs": [],
   "source": [
    "from sklearn.preprocessing import PolynomialFeatures"
   ]
  },
  {
   "cell_type": "code",
   "execution_count": 128,
   "id": "75b08705-f7b0-4f02-a24f-17dedbbd23bd",
   "metadata": {},
   "outputs": [
    {
     "data": {
      "text/html": [
       "<style>#sk-container-id-15 {color: black;background-color: white;}#sk-container-id-15 pre{padding: 0;}#sk-container-id-15 div.sk-toggleable {background-color: white;}#sk-container-id-15 label.sk-toggleable__label {cursor: pointer;display: block;width: 100%;margin-bottom: 0;padding: 0.3em;box-sizing: border-box;text-align: center;}#sk-container-id-15 label.sk-toggleable__label-arrow:before {content: \"▸\";float: left;margin-right: 0.25em;color: #696969;}#sk-container-id-15 label.sk-toggleable__label-arrow:hover:before {color: black;}#sk-container-id-15 div.sk-estimator:hover label.sk-toggleable__label-arrow:before {color: black;}#sk-container-id-15 div.sk-toggleable__content {max-height: 0;max-width: 0;overflow: hidden;text-align: left;background-color: #f0f8ff;}#sk-container-id-15 div.sk-toggleable__content pre {margin: 0.2em;color: black;border-radius: 0.25em;background-color: #f0f8ff;}#sk-container-id-15 input.sk-toggleable__control:checked~div.sk-toggleable__content {max-height: 200px;max-width: 100%;overflow: auto;}#sk-container-id-15 input.sk-toggleable__control:checked~label.sk-toggleable__label-arrow:before {content: \"▾\";}#sk-container-id-15 div.sk-estimator input.sk-toggleable__control:checked~label.sk-toggleable__label {background-color: #d4ebff;}#sk-container-id-15 div.sk-label input.sk-toggleable__control:checked~label.sk-toggleable__label {background-color: #d4ebff;}#sk-container-id-15 input.sk-hidden--visually {border: 0;clip: rect(1px 1px 1px 1px);clip: rect(1px, 1px, 1px, 1px);height: 1px;margin: -1px;overflow: hidden;padding: 0;position: absolute;width: 1px;}#sk-container-id-15 div.sk-estimator {font-family: monospace;background-color: #f0f8ff;border: 1px dotted black;border-radius: 0.25em;box-sizing: border-box;margin-bottom: 0.5em;}#sk-container-id-15 div.sk-estimator:hover {background-color: #d4ebff;}#sk-container-id-15 div.sk-parallel-item::after {content: \"\";width: 100%;border-bottom: 1px solid gray;flex-grow: 1;}#sk-container-id-15 div.sk-label:hover label.sk-toggleable__label {background-color: #d4ebff;}#sk-container-id-15 div.sk-serial::before {content: \"\";position: absolute;border-left: 1px solid gray;box-sizing: border-box;top: 0;bottom: 0;left: 50%;z-index: 0;}#sk-container-id-15 div.sk-serial {display: flex;flex-direction: column;align-items: center;background-color: white;padding-right: 0.2em;padding-left: 0.2em;position: relative;}#sk-container-id-15 div.sk-item {position: relative;z-index: 1;}#sk-container-id-15 div.sk-parallel {display: flex;align-items: stretch;justify-content: center;background-color: white;position: relative;}#sk-container-id-15 div.sk-item::before, #sk-container-id-15 div.sk-parallel-item::before {content: \"\";position: absolute;border-left: 1px solid gray;box-sizing: border-box;top: 0;bottom: 0;left: 50%;z-index: -1;}#sk-container-id-15 div.sk-parallel-item {display: flex;flex-direction: column;z-index: 1;position: relative;background-color: white;}#sk-container-id-15 div.sk-parallel-item:first-child::after {align-self: flex-end;width: 50%;}#sk-container-id-15 div.sk-parallel-item:last-child::after {align-self: flex-start;width: 50%;}#sk-container-id-15 div.sk-parallel-item:only-child::after {width: 0;}#sk-container-id-15 div.sk-dashed-wrapped {border: 1px dashed gray;margin: 0 0.4em 0.5em 0.4em;box-sizing: border-box;padding-bottom: 0.4em;background-color: white;}#sk-container-id-15 div.sk-label label {font-family: monospace;font-weight: bold;display: inline-block;line-height: 1.2em;}#sk-container-id-15 div.sk-label-container {text-align: center;}#sk-container-id-15 div.sk-container {/* jupyter's `normalize.less` sets `[hidden] { display: none; }` but bootstrap.min.css set `[hidden] { display: none !important; }` so we also need the `!important` here to be able to override the default hidden behavior on the sphinx rendered scikit-learn.org. See: https://github.com/scikit-learn/scikit-learn/issues/21755 */display: inline-block !important;position: relative;}#sk-container-id-15 div.sk-text-repr-fallback {display: none;}</style><div id=\"sk-container-id-15\" class=\"sk-top-container\"><div class=\"sk-text-repr-fallback\"><pre>LinearRegression()</pre><b>In a Jupyter environment, please rerun this cell to show the HTML representation or trust the notebook. <br />On GitHub, the HTML representation is unable to render, please try loading this page with nbviewer.org.</b></div><div class=\"sk-container\" hidden><div class=\"sk-item\"><div class=\"sk-estimator sk-toggleable\"><input class=\"sk-toggleable__control sk-hidden--visually\" id=\"sk-estimator-id-15\" type=\"checkbox\" checked><label for=\"sk-estimator-id-15\" class=\"sk-toggleable__label sk-toggleable__label-arrow\">LinearRegression</label><div class=\"sk-toggleable__content\"><pre>LinearRegression()</pre></div></div></div></div></div>"
      ],
      "text/plain": [
       "LinearRegression()"
      ]
     },
     "execution_count": 128,
     "metadata": {},
     "output_type": "execute_result"
    }
   ],
   "source": [
    "poly = PolynomialFeatures(degree=6) \n",
    "X_poly = poly.fit_transform(X_nonlinear)\n",
    "reg_poly = LinearRegression()\n",
    "reg_poly.fit(X_poly, y_nonlinear)"
   ]
  },
  {
   "cell_type": "code",
   "execution_count": 129,
   "id": "28f4469a-49b5-4fa9-ba31-c017fd50b23a",
   "metadata": {},
   "outputs": [
    {
     "data": {
      "text/plain": [
       "0.9930624844497352"
      ]
     },
     "execution_count": 129,
     "metadata": {},
     "output_type": "execute_result"
    }
   ],
   "source": [
    "reg_poly.score(X_poly, y_nonlinear)"
   ]
  },
  {
   "cell_type": "code",
   "execution_count": 136,
   "id": "25d55d9d-e94c-40ce-89d5-c36ee3c3fcff",
   "metadata": {},
   "outputs": [
    {
     "data": {
      "text/plain": [
       "<matplotlib.legend.Legend at 0x22cf2482110>"
      ]
     },
     "execution_count": 136,
     "metadata": {},
     "output_type": "execute_result"
    },
    {
     "data": {
      "image/png": "[encoded data removed]",
      "text/plain": [
       "<Figure size 640x480 with 1 Axes>"
      ]
     },
     "metadata": {},
     "output_type": "display_data"
    }
   ],
   "source": [
    "plt.scatter(X_nonlinear, y_nonlinear, color='green', label='Data with Non-linear Relationship')\n",
    "plt.plot(X_nonlinear, 2 * np.sin(X_nonlinear), color='red', label='True Non-linear Relationship')\n",
    "plt.xlabel('X')\n",
    "plt.ylabel('Y')\n",
    "plt.title('Non-linear Relationship')\n",
    "plt.legend()"
   ]
  },
  {
   "cell_type": "code",
   "execution_count": 139,
   "id": "f82e7929-d25b-4124-8185-1ea06b6cd7d2",
   "metadata": {},
   "outputs": [],
   "source": [
    "from sklearn.model_selection import train_test_split\n",
    "xtrain, xtest, ytrain, ytest = train_test_split(X_poly,y_nonlinear, test_size=.30, random_state=1 )"
   ]
  },
  {
   "cell_type": "code",
   "execution_count": 141,
   "id": "2ef5cb59-bed1-4338-af57-488fb56b5d0c",
   "metadata": {},
   "outputs": [
    {
     "data": {
      "text/html": [
       "<style>#sk-container-id-16 {color: black;background-color: white;}#sk-container-id-16 pre{padding: 0;}#sk-container-id-16 div.sk-toggleable {background-color: white;}#sk-container-id-16 label.sk-toggleable__label {cursor: pointer;display: block;width: 100%;margin-bottom: 0;padding: 0.3em;box-sizing: border-box;text-align: center;}#sk-container-id-16 label.sk-toggleable__label-arrow:before {content: \"▸\";float: left;margin-right: 0.25em;color: #696969;}#sk-container-id-16 label.sk-toggleable__label-arrow:hover:before {color: black;}#sk-container-id-16 div.sk-estimator:hover label.sk-toggleable__label-arrow:before {color: black;}#sk-container-id-16 div.sk-toggleable__content {max-height: 0;max-width: 0;overflow: hidden;text-align: left;background-color: #f0f8ff;}#sk-container-id-16 div.sk-toggleable__content pre {margin: 0.2em;color: black;border-radius: 0.25em;background-color: #f0f8ff;}#sk-container-id-16 input.sk-toggleable__control:checked~div.sk-toggleable__content {max-height: 200px;max-width: 100%;overflow: auto;}#sk-container-id-16 input.sk-toggleable__control:checked~label.sk-toggleable__label-arrow:before {content: \"▾\";}#sk-container-id-16 div.sk-estimator input.sk-toggleable__control:checked~label.sk-toggleable__label {background-color: #d4ebff;}#sk-container-id-16 div.sk-label input.sk-toggleable__control:checked~label.sk-toggleable__label {background-color: #d4ebff;}#sk-container-id-16 input.sk-hidden--visually {border: 0;clip: rect(1px 1px 1px 1px);clip: rect(1px, 1px, 1px, 1px);height: 1px;margin: -1px;overflow: hidden;padding: 0;position: absolute;width: 1px;}#sk-container-id-16 div.sk-estimator {font-family: monospace;background-color: #f0f8ff;border: 1px dotted black;border-radius: 0.25em;box-sizing: border-box;margin-bottom: 0.5em;}#sk-container-id-16 div.sk-estimator:hover {background-color: #d4ebff;}#sk-container-id-16 div.sk-parallel-item::after {content: \"\";width: 100%;border-bottom: 1px solid gray;flex-grow: 1;}#sk-container-id-16 div.sk-label:hover label.sk-toggleable__label {background-color: #d4ebff;}#sk-container-id-16 div.sk-serial::before {content: \"\";position: absolute;border-left: 1px solid gray;box-sizing: border-box;top: 0;bottom: 0;left: 50%;z-index: 0;}#sk-container-id-16 div.sk-serial {display: flex;flex-direction: column;align-items: center;background-color: white;padding-right: 0.2em;padding-left: 0.2em;position: relative;}#sk-container-id-16 div.sk-item {position: relative;z-index: 1;}#sk-container-id-16 div.sk-parallel {display: flex;align-items: stretch;justify-content: center;background-color: white;position: relative;}#sk-container-id-16 div.sk-item::before, #sk-container-id-16 div.sk-parallel-item::before {content: \"\";position: absolute;border-left: 1px solid gray;box-sizing: border-box;top: 0;bottom: 0;left: 50%;z-index: -1;}#sk-container-id-16 div.sk-parallel-item {display: flex;flex-direction: column;z-index: 1;position: relative;background-color: white;}#sk-container-id-16 div.sk-parallel-item:first-child::after {align-self: flex-end;width: 50%;}#sk-container-id-16 div.sk-parallel-item:last-child::after {align-self: flex-start;width: 50%;}#sk-container-id-16 div.sk-parallel-item:only-child::after {width: 0;}#sk-container-id-16 div.sk-dashed-wrapped {border: 1px dashed gray;margin: 0 0.4em 0.5em 0.4em;box-sizing: border-box;padding-bottom: 0.4em;background-color: white;}#sk-container-id-16 div.sk-label label {font-family: monospace;font-weight: bold;display: inline-block;line-height: 1.2em;}#sk-container-id-16 div.sk-label-container {text-align: center;}#sk-container-id-16 div.sk-container {/* jupyter's `normalize.less` sets `[hidden] { display: none; }` but bootstrap.min.css set `[hidden] { display: none !important; }` so we also need the `!important` here to be able to override the default hidden behavior on the sphinx rendered scikit-learn.org. See: https://github.com/scikit-learn/scikit-learn/issues/21755 */display: inline-block !important;position: relative;}#sk-container-id-16 div.sk-text-repr-fallback {display: none;}</style><div id=\"sk-container-id-16\" class=\"sk-top-container\"><div class=\"sk-text-repr-fallback\"><pre>LinearRegression()</pre><b>In a Jupyter environment, please rerun this cell to show the HTML representation or trust the notebook. <br />On GitHub, the HTML representation is unable to render, please try loading this page with nbviewer.org.</b></div><div class=\"sk-container\" hidden><div class=\"sk-item\"><div class=\"sk-estimator sk-toggleable\"><input class=\"sk-toggleable__control sk-hidden--visually\" id=\"sk-estimator-id-16\" type=\"checkbox\" checked><label for=\"sk-estimator-id-16\" class=\"sk-toggleable__label sk-toggleable__label-arrow\">LinearRegression</label><div class=\"sk-toggleable__content\"><pre>LinearRegression()</pre></div></div></div></div></div>"
      ],
      "text/plain": [
       "LinearRegression()"
      ]
     },
     "execution_count": 141,
     "metadata": {},
     "output_type": "execute_result"
    }
   ],
   "source": [
    "reg = LinearRegression()\n",
    "reg.fit(xtrain, ytrain)"
   ]
  },
  {
   "cell_type": "code",
   "execution_count": 142,
   "id": "db4fce0d-a062-4fa0-b671-42f937b158ac",
   "metadata": {},
   "outputs": [
    {
     "data": {
      "text/plain": [
       "0.9905664282633072"
      ]
     },
     "execution_count": 142,
     "metadata": {},
     "output_type": "execute_result"
    }
   ],
   "source": [
    "reg.score(xtest, ytest)"
   ]
  },
  {
   "cell_type": "code",
   "execution_count": null,
   "id": "0e8fd312-b15c-4504-b16c-8ca7f42ec55c",
   "metadata": {},
   "outputs": [],
   "source": [
    "reg.score(xtest, ytest)"
   ]
  }
 ],
 "metadata": {
  "kernelspec": {
   "display_name": "Python 3 (ipykernel)",
   "language": "python",
   "name": "python3"
  },
  "language_info": {
   "codemirror_mode": {
    "name": "ipython",
    "version": 3
   },
   "file_extension": ".py",
   "mimetype": "text/x-python",
   "name": "python",
   "nbconvert_exporter": "python",
   "pygments_lexer": "ipython3",
   "version": "3.11.7"
  }
 },
 "nbformat": 4,
 "nbformat_minor": 5
}
