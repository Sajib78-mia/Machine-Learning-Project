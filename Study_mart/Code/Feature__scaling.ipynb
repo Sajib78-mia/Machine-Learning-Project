{
 "cells": [
  {
   "cell_type": "markdown",
   "id": "019d4ec8-dfb1-4f01-a454-135eda852940",
   "metadata": {},
   "source": [
    "## Raw code(Min, Max Normalization)"
   ]
  },
  {
   "cell_type": "code",
   "execution_count": 132,
   "id": "c70d64ea-b3f3-4000-9f69-37da979ff7c6",
   "metadata": {},
   "outputs": [],
   "source": [
    "def min_max_scaling(data):\n",
    "    min_value= min(data)\n",
    "    max_value= max(data)\n",
    "    scaled_data= [(x - min_value)/(max_value - min_value) for x in data]\n",
    "    return scaled_data"
   ]
  },
  {
   "cell_type": "code",
   "execution_count": 133,
   "id": "adafb9be-4d4c-447d-b331-2e33fb85a659",
   "metadata": {},
   "outputs": [
    {
     "name": "stdout",
     "output_type": "stream",
     "text": [
      "orginal data: [1, 20, 30, 4, 5]\n",
      "Scaled_data(raw): [0.0, 0.6551724137931034, 1.0, 0.10344827586206896, 0.13793103448275862]\n"
     ]
    }
   ],
   "source": [
    "data=[1,20,30,4,5]\n",
    "Scaled_data= min_max_scaling(data)\n",
    "print(\"orginal data:\",data)\n",
    "print(\"Scaled_data(raw):\",Scaled_data)"
   ]
  },
  {
   "cell_type": "markdown",
   "id": "9b000055-53ac-460d-9485-40eba6ccb07b",
   "metadata": {},
   "source": [
    "## Using sklearn"
   ]
  },
  {
   "cell_type": "code",
   "execution_count": 134,
   "id": "e0168206-42f5-4312-8bca-4d5341fa4910",
   "metadata": {},
   "outputs": [],
   "source": [
    "import pandas as pd\n",
    "from sklearn.preprocessing import MinMaxScaler"
   ]
  },
  {
   "cell_type": "code",
   "execution_count": 135,
   "id": "c55c590d-7d51-4ac8-984f-2bbe6cc85798",
   "metadata": {},
   "outputs": [],
   "source": [
    "data={\"feature1\":[1,20,23,6,7,12],\n",
    "      \"feature2\":[2,5,22,14,19,5]}"
   ]
  },
  {
   "cell_type": "code",
   "execution_count": 136,
   "id": "34093359-9a0b-45e8-952f-4458d08a3488",
   "metadata": {},
   "outputs": [
    {
     "data": {
      "text/html": [
       "<div>\n",
       "<style scoped>\n",
       "    .dataframe tbody tr th:only-of-type {\n",
       "        vertical-align: middle;\n",
       "    }\n",
       "\n",
       "    .dataframe tbody tr th {\n",
       "        vertical-align: top;\n",
       "    }\n",
       "\n",
       "    .dataframe thead th {\n",
       "        text-align: right;\n",
       "    }\n",
       "</style>\n",
       "<table border=\"1\" class=\"dataframe\">\n",
       "  <thead>\n",
       "    <tr style=\"text-align: right;\">\n",
       "      <th></th>\n",
       "      <th>feature1</th>\n",
       "      <th>feature2</th>\n",
       "    </tr>\n",
       "  </thead>\n",
       "  <tbody>\n",
       "    <tr>\n",
       "      <th>0</th>\n",
       "      <td>1</td>\n",
       "      <td>2</td>\n",
       "    </tr>\n",
       "    <tr>\n",
       "      <th>1</th>\n",
       "      <td>20</td>\n",
       "      <td>5</td>\n",
       "    </tr>\n",
       "    <tr>\n",
       "      <th>2</th>\n",
       "      <td>23</td>\n",
       "      <td>22</td>\n",
       "    </tr>\n",
       "    <tr>\n",
       "      <th>3</th>\n",
       "      <td>6</td>\n",
       "      <td>14</td>\n",
       "    </tr>\n",
       "    <tr>\n",
       "      <th>4</th>\n",
       "      <td>7</td>\n",
       "      <td>19</td>\n",
       "    </tr>\n",
       "    <tr>\n",
       "      <th>5</th>\n",
       "      <td>12</td>\n",
       "      <td>5</td>\n",
       "    </tr>\n",
       "  </tbody>\n",
       "</table>\n",
       "</div>"
      ],
      "text/plain": [
       "   feature1  feature2\n",
       "0         1         2\n",
       "1        20         5\n",
       "2        23        22\n",
       "3         6        14\n",
       "4         7        19\n",
       "5        12         5"
      ]
     },
     "execution_count": 136,
     "metadata": {},
     "output_type": "execute_result"
    }
   ],
   "source": [
    "df=pd.DataFrame(data)\n",
    "df"
   ]
  },
  {
   "cell_type": "code",
   "execution_count": 137,
   "id": "fbd6a4b7-3237-441f-9b09-b57b7d297147",
   "metadata": {},
   "outputs": [
    {
     "name": "stdout",
     "output_type": "stream",
     "text": [
      "scaled_data: [[0.         0.        ]\n",
      " [0.86363636 0.15      ]\n",
      " [1.         1.        ]\n",
      " [0.22727273 0.6       ]\n",
      " [0.27272727 0.85      ]\n",
      " [0.5        0.15      ]]\n"
     ]
    }
   ],
   "source": [
    "scaler=MinMaxScaler()\n",
    "scaled_data= scaler.fit_transform(df)\n",
    "print(\"scaled_data:\", scaled_data)"
   ]
  },
  {
   "cell_type": "markdown",
   "id": "b8c0f57b-c641-4214-bf7f-ba9fca9e757d",
   "metadata": {},
   "source": [
    "## Standard scaling"
   ]
  },
  {
   "cell_type": "code",
   "execution_count": 138,
   "id": "7237ac6a-8bd3-40f9-9cbc-1d2f73dd42ec",
   "metadata": {},
   "outputs": [],
   "source": [
    "import pandas as pd"
   ]
  },
  {
   "cell_type": "code",
   "execution_count": 139,
   "id": "0fd25b41-8b25-40ad-97eb-896fdd8aab2d",
   "metadata": {},
   "outputs": [],
   "source": [
    "data={\"feature1\":[1,20,23,6,7,12],\n",
    "      \"feature2\":[2,5,22,14,19,5]}"
   ]
  },
  {
   "cell_type": "code",
   "execution_count": 140,
   "id": "8fc79e0a-6ea7-4b20-bb11-86e815ff878b",
   "metadata": {},
   "outputs": [
    {
     "data": {
      "text/html": [
       "<div>\n",
       "<style scoped>\n",
       "    .dataframe tbody tr th:only-of-type {\n",
       "        vertical-align: middle;\n",
       "    }\n",
       "\n",
       "    .dataframe tbody tr th {\n",
       "        vertical-align: top;\n",
       "    }\n",
       "\n",
       "    .dataframe thead th {\n",
       "        text-align: right;\n",
       "    }\n",
       "</style>\n",
       "<table border=\"1\" class=\"dataframe\">\n",
       "  <thead>\n",
       "    <tr style=\"text-align: right;\">\n",
       "      <th></th>\n",
       "      <th>feature1</th>\n",
       "      <th>feature2</th>\n",
       "    </tr>\n",
       "  </thead>\n",
       "  <tbody>\n",
       "    <tr>\n",
       "      <th>0</th>\n",
       "      <td>1</td>\n",
       "      <td>2</td>\n",
       "    </tr>\n",
       "    <tr>\n",
       "      <th>1</th>\n",
       "      <td>20</td>\n",
       "      <td>5</td>\n",
       "    </tr>\n",
       "    <tr>\n",
       "      <th>2</th>\n",
       "      <td>23</td>\n",
       "      <td>22</td>\n",
       "    </tr>\n",
       "    <tr>\n",
       "      <th>3</th>\n",
       "      <td>6</td>\n",
       "      <td>14</td>\n",
       "    </tr>\n",
       "    <tr>\n",
       "      <th>4</th>\n",
       "      <td>7</td>\n",
       "      <td>19</td>\n",
       "    </tr>\n",
       "    <tr>\n",
       "      <th>5</th>\n",
       "      <td>12</td>\n",
       "      <td>5</td>\n",
       "    </tr>\n",
       "  </tbody>\n",
       "</table>\n",
       "</div>"
      ],
      "text/plain": [
       "   feature1  feature2\n",
       "0         1         2\n",
       "1        20         5\n",
       "2        23        22\n",
       "3         6        14\n",
       "4         7        19\n",
       "5        12         5"
      ]
     },
     "execution_count": 140,
     "metadata": {},
     "output_type": "execute_result"
    }
   ],
   "source": [
    "df=pd.DataFrame(data)\n",
    "df"
   ]
  },
  {
   "cell_type": "code",
   "execution_count": 141,
   "id": "83286d05-7d7a-4889-8f8b-b15b1283b35d",
   "metadata": {},
   "outputs": [],
   "source": [
    "def standarized_data(data):\n",
    "    mean= data.mean()\n",
    "    std_dev= data.std(ddof=0)\n",
    "    standarized_data_raw= (data - mean)/ std_dev\n",
    "    return standarized_data_raw"
   ]
  },
  {
   "cell_type": "code",
   "execution_count": 142,
   "id": "e9f7ef5e-ade3-48e5-b027-9e8b4f245b32",
   "metadata": {},
   "outputs": [],
   "source": [
    "#standarized_df_raw= df.apply(standarized_data)\n",
    "standarized_df_raw= standarized_data(df)"
   ]
  },
  {
   "cell_type": "code",
   "execution_count": 143,
   "id": "797b011e-c192-45ab-b668-361c590cfccb",
   "metadata": {},
   "outputs": [
    {
     "name": "stdout",
     "output_type": "stream",
     "text": [
      "orginal dataframe:\n",
      "   feature1  feature2\n",
      "0         1         2\n",
      "1        20         5\n",
      "2        23        22\n",
      "3         6        14\n",
      "4         7        19\n",
      "5        12         5\n",
      "standarized data:\n",
      "   feature1  feature2\n",
      "0 -1.345306 -1.205665\n",
      "1  1.089058 -0.811084\n",
      "2  1.473431  1.424877\n",
      "3 -0.704684  0.372660\n",
      "4 -0.576560  1.030296\n",
      "5  0.064062 -0.811084\n"
     ]
    }
   ],
   "source": [
    "print(\"orginal dataframe:\")\n",
    "print(df)\n",
    "print(\"standarized data:\")\n",
    "print(standarized_df_raw )"
   ]
  },
  {
   "cell_type": "code",
   "execution_count": 144,
   "id": "0b60fd2b-e7e5-4e49-92ae-170b3418cb01",
   "metadata": {},
   "outputs": [
    {
     "data": {
      "text/html": [
       "<div>\n",
       "<style scoped>\n",
       "    .dataframe tbody tr th:only-of-type {\n",
       "        vertical-align: middle;\n",
       "    }\n",
       "\n",
       "    .dataframe tbody tr th {\n",
       "        vertical-align: top;\n",
       "    }\n",
       "\n",
       "    .dataframe thead th {\n",
       "        text-align: right;\n",
       "    }\n",
       "</style>\n",
       "<table border=\"1\" class=\"dataframe\">\n",
       "  <thead>\n",
       "    <tr style=\"text-align: right;\">\n",
       "      <th></th>\n",
       "      <th>feature1</th>\n",
       "      <th>feature2</th>\n",
       "    </tr>\n",
       "  </thead>\n",
       "  <tbody>\n",
       "    <tr>\n",
       "      <th>0</th>\n",
       "      <td>-1.345306</td>\n",
       "      <td>-1.205665</td>\n",
       "    </tr>\n",
       "    <tr>\n",
       "      <th>1</th>\n",
       "      <td>1.089058</td>\n",
       "      <td>-0.811084</td>\n",
       "    </tr>\n",
       "    <tr>\n",
       "      <th>2</th>\n",
       "      <td>1.473431</td>\n",
       "      <td>1.424877</td>\n",
       "    </tr>\n",
       "    <tr>\n",
       "      <th>3</th>\n",
       "      <td>-0.704684</td>\n",
       "      <td>0.372660</td>\n",
       "    </tr>\n",
       "    <tr>\n",
       "      <th>4</th>\n",
       "      <td>-0.576560</td>\n",
       "      <td>1.030296</td>\n",
       "    </tr>\n",
       "  </tbody>\n",
       "</table>\n",
       "</div>"
      ],
      "text/plain": [
       "   feature1  feature2\n",
       "0 -1.345306 -1.205665\n",
       "1  1.089058 -0.811084\n",
       "2  1.473431  1.424877\n",
       "3 -0.704684  0.372660\n",
       "4 -0.576560  1.030296"
      ]
     },
     "execution_count": 144,
     "metadata": {},
     "output_type": "execute_result"
    }
   ],
   "source": [
    "standarized_df_raw.head()"
   ]
  },
  {
   "cell_type": "code",
   "execution_count": 145,
   "id": "2f1ff52e-6073-4ba0-b183-ad262f56b700",
   "metadata": {},
   "outputs": [
    {
     "data": {
      "text/plain": [
       "1.0"
      ]
     },
     "execution_count": 145,
     "metadata": {},
     "output_type": "execute_result"
    }
   ],
   "source": [
    "standarized_df_raw[\"feature1\"].mean()+1"
   ]
  },
  {
   "cell_type": "code",
   "execution_count": 146,
   "id": "888db422-92e3-4196-84ac-3086cefc06ab",
   "metadata": {},
   "outputs": [
    {
     "data": {
      "text/plain": [
       "1.0954451150103321"
      ]
     },
     "execution_count": 146,
     "metadata": {},
     "output_type": "execute_result"
    }
   ],
   "source": [
    "standarized_df_raw[\"feature1\"].std()"
   ]
  },
  {
   "cell_type": "markdown",
   "id": "005bb3a4-bcc9-4d6d-8408-f610ecc18d4b",
   "metadata": {},
   "source": [
    "## sklearn"
   ]
  },
  {
   "cell_type": "code",
   "execution_count": 147,
   "id": "738ec90f-4ec5-480a-b583-bad327d8925f",
   "metadata": {},
   "outputs": [],
   "source": [
    "from sklearn.preprocessing import StandardScaler"
   ]
  },
  {
   "cell_type": "code",
   "execution_count": 148,
   "id": "248a4ad5-524f-41ad-88fe-734c7942ee58",
   "metadata": {},
   "outputs": [
    {
     "data": {
      "text/html": [
       "<div>\n",
       "<style scoped>\n",
       "    .dataframe tbody tr th:only-of-type {\n",
       "        vertical-align: middle;\n",
       "    }\n",
       "\n",
       "    .dataframe tbody tr th {\n",
       "        vertical-align: top;\n",
       "    }\n",
       "\n",
       "    .dataframe thead th {\n",
       "        text-align: right;\n",
       "    }\n",
       "</style>\n",
       "<table border=\"1\" class=\"dataframe\">\n",
       "  <thead>\n",
       "    <tr style=\"text-align: right;\">\n",
       "      <th></th>\n",
       "      <th>feature1</th>\n",
       "      <th>feature2</th>\n",
       "    </tr>\n",
       "  </thead>\n",
       "  <tbody>\n",
       "    <tr>\n",
       "      <th>0</th>\n",
       "      <td>-1.345306</td>\n",
       "      <td>-1.205665</td>\n",
       "    </tr>\n",
       "    <tr>\n",
       "      <th>1</th>\n",
       "      <td>1.089058</td>\n",
       "      <td>-0.811084</td>\n",
       "    </tr>\n",
       "    <tr>\n",
       "      <th>2</th>\n",
       "      <td>1.473431</td>\n",
       "      <td>1.424877</td>\n",
       "    </tr>\n",
       "    <tr>\n",
       "      <th>3</th>\n",
       "      <td>-0.704684</td>\n",
       "      <td>0.372660</td>\n",
       "    </tr>\n",
       "    <tr>\n",
       "      <th>4</th>\n",
       "      <td>-0.576560</td>\n",
       "      <td>1.030296</td>\n",
       "    </tr>\n",
       "    <tr>\n",
       "      <th>5</th>\n",
       "      <td>0.064062</td>\n",
       "      <td>-0.811084</td>\n",
       "    </tr>\n",
       "  </tbody>\n",
       "</table>\n",
       "</div>"
      ],
      "text/plain": [
       "   feature1  feature2\n",
       "0 -1.345306 -1.205665\n",
       "1  1.089058 -0.811084\n",
       "2  1.473431  1.424877\n",
       "3 -0.704684  0.372660\n",
       "4 -0.576560  1.030296\n",
       "5  0.064062 -0.811084"
      ]
     },
     "execution_count": 148,
     "metadata": {},
     "output_type": "execute_result"
    }
   ],
   "source": [
    "scaler= StandardScaler()\n",
    "standarized_data= scaler.fit_transform(df)\n",
    "standarized_data=pd.DataFrame(standarized_data,columns=df.columns)\n",
    "standarized_data"
   ]
  },
  {
   "cell_type": "code",
   "execution_count": 149,
   "id": "50fdf645-ff02-4caf-8fe9-70480703283b",
   "metadata": {},
   "outputs": [
    {
     "name": "stdout",
     "output_type": "stream",
     "text": [
      "orginal data:\n",
      "   feature1  feature2\n",
      "0         1         2\n",
      "1        20         5\n",
      "2        23        22\n",
      "3         6        14\n",
      "4         7        19\n",
      "5        12         5\n",
      "standarized data:\n",
      "   feature1  feature2\n",
      "0 -1.345306 -1.205665\n",
      "1  1.089058 -0.811084\n",
      "2  1.473431  1.424877\n",
      "3 -0.704684  0.372660\n",
      "4 -0.576560  1.030296\n",
      "5  0.064062 -0.811084\n",
      "standarized_data:\n",
      "   feature1  feature2\n",
      "0 -1.345306 -1.205665\n",
      "1  1.089058 -0.811084\n",
      "2  1.473431  1.424877\n",
      "3 -0.704684  0.372660\n",
      "4 -0.576560  1.030296\n",
      "5  0.064062 -0.811084\n"
     ]
    }
   ],
   "source": [
    "print(\"orginal data:\")\n",
    "print(df)\n",
    "print(\"standarized data:\")\n",
    "print(standarized_df_raw )\n",
    "print(\"standarized_data:\")\n",
    "print(standarized_data)"
   ]
  },
  {
   "cell_type": "markdown",
   "id": "848ecc16-28eb-48a2-bd4c-0f5d8529b171",
   "metadata": {},
   "source": [
    "## fit,transform and fit_tranform"
   ]
  },
  {
   "cell_type": "code",
   "execution_count": 150,
   "id": "3eca5e48-0a4f-479d-8c70-4f177289da59",
   "metadata": {},
   "outputs": [
    {
     "ename": "FileNotFoundError",
     "evalue": "No such file or directory: 'minmax.png'",
     "output_type": "error",
     "traceback": [
      "\u001b[1;31m---------------------------------------------------------------------------\u001b[0m",
      "\u001b[1;31mTypeError\u001b[0m                                 Traceback (most recent call last)",
      "File \u001b[1;32mD:\\plant_pathology\\anaconda\\Lib\\site-packages\\IPython\\core\\display.py:1045\u001b[0m, in \u001b[0;36mImage._data_and_metadata\u001b[1;34m(self, always_both)\u001b[0m\n\u001b[0;32m   1044\u001b[0m \u001b[38;5;28;01mtry\u001b[39;00m:\n\u001b[1;32m-> 1045\u001b[0m     b64_data \u001b[38;5;241m=\u001b[39m b2a_base64(\u001b[38;5;28mself\u001b[39m\u001b[38;5;241m.\u001b[39mdata, newline\u001b[38;5;241m=\u001b[39m\u001b[38;5;28;01mFalse\u001b[39;00m)\u001b[38;5;241m.\u001b[39mdecode(\u001b[38;5;124m\"\u001b[39m\u001b[38;5;124mascii\u001b[39m\u001b[38;5;124m\"\u001b[39m)\n\u001b[0;32m   1046\u001b[0m \u001b[38;5;28;01mexcept\u001b[39;00m \u001b[38;5;167;01mTypeError\u001b[39;00m \u001b[38;5;28;01mas\u001b[39;00m e:\n",
      "\u001b[1;31mTypeError\u001b[0m: a bytes-like object is required, not 'str'",
      "\nThe above exception was the direct cause of the following exception:\n",
      "\u001b[1;31mFileNotFoundError\u001b[0m                         Traceback (most recent call last)",
      "File \u001b[1;32mD:\\plant_pathology\\anaconda\\Lib\\site-packages\\IPython\\core\\formatters.py:974\u001b[0m, in \u001b[0;36mMimeBundleFormatter.__call__\u001b[1;34m(self, obj, include, exclude)\u001b[0m\n\u001b[0;32m    971\u001b[0m     method \u001b[38;5;241m=\u001b[39m get_real_method(obj, \u001b[38;5;28mself\u001b[39m\u001b[38;5;241m.\u001b[39mprint_method)\n\u001b[0;32m    973\u001b[0m     \u001b[38;5;28;01mif\u001b[39;00m method \u001b[38;5;129;01mis\u001b[39;00m \u001b[38;5;129;01mnot\u001b[39;00m \u001b[38;5;28;01mNone\u001b[39;00m:\n\u001b[1;32m--> 974\u001b[0m         \u001b[38;5;28;01mreturn\u001b[39;00m method(include\u001b[38;5;241m=\u001b[39minclude, exclude\u001b[38;5;241m=\u001b[39mexclude)\n\u001b[0;32m    975\u001b[0m     \u001b[38;5;28;01mreturn\u001b[39;00m \u001b[38;5;28;01mNone\u001b[39;00m\n\u001b[0;32m    976\u001b[0m \u001b[38;5;28;01melse\u001b[39;00m:\n",
      "File \u001b[1;32mD:\\plant_pathology\\anaconda\\Lib\\site-packages\\IPython\\core\\display.py:1035\u001b[0m, in \u001b[0;36mImage._repr_mimebundle_\u001b[1;34m(self, include, exclude)\u001b[0m\n\u001b[0;32m   1033\u001b[0m \u001b[38;5;28;01mif\u001b[39;00m \u001b[38;5;28mself\u001b[39m\u001b[38;5;241m.\u001b[39membed:\n\u001b[0;32m   1034\u001b[0m     mimetype \u001b[38;5;241m=\u001b[39m \u001b[38;5;28mself\u001b[39m\u001b[38;5;241m.\u001b[39m_mimetype\n\u001b[1;32m-> 1035\u001b[0m     data, metadata \u001b[38;5;241m=\u001b[39m \u001b[38;5;28mself\u001b[39m\u001b[38;5;241m.\u001b[39m_data_and_metadata(always_both\u001b[38;5;241m=\u001b[39m\u001b[38;5;28;01mTrue\u001b[39;00m)\n\u001b[0;32m   1036\u001b[0m     \u001b[38;5;28;01mif\u001b[39;00m metadata:\n\u001b[0;32m   1037\u001b[0m         metadata \u001b[38;5;241m=\u001b[39m {mimetype: metadata}\n",
      "File \u001b[1;32mD:\\plant_pathology\\anaconda\\Lib\\site-packages\\IPython\\core\\display.py:1047\u001b[0m, in \u001b[0;36mImage._data_and_metadata\u001b[1;34m(self, always_both)\u001b[0m\n\u001b[0;32m   1045\u001b[0m     b64_data \u001b[38;5;241m=\u001b[39m b2a_base64(\u001b[38;5;28mself\u001b[39m\u001b[38;5;241m.\u001b[39mdata, newline\u001b[38;5;241m=\u001b[39m\u001b[38;5;28;01mFalse\u001b[39;00m)\u001b[38;5;241m.\u001b[39mdecode(\u001b[38;5;124m\"\u001b[39m\u001b[38;5;124mascii\u001b[39m\u001b[38;5;124m\"\u001b[39m)\n\u001b[0;32m   1046\u001b[0m \u001b[38;5;28;01mexcept\u001b[39;00m \u001b[38;5;167;01mTypeError\u001b[39;00m \u001b[38;5;28;01mas\u001b[39;00m e:\n\u001b[1;32m-> 1047\u001b[0m     \u001b[38;5;28;01mraise\u001b[39;00m \u001b[38;5;167;01mFileNotFoundError\u001b[39;00m(\n\u001b[0;32m   1048\u001b[0m         \u001b[38;5;124m\"\u001b[39m\u001b[38;5;124mNo such file or directory: \u001b[39m\u001b[38;5;124m'\u001b[39m\u001b[38;5;132;01m%s\u001b[39;00m\u001b[38;5;124m'\u001b[39m\u001b[38;5;124m\"\u001b[39m \u001b[38;5;241m%\u001b[39m (\u001b[38;5;28mself\u001b[39m\u001b[38;5;241m.\u001b[39mdata)) \u001b[38;5;28;01mfrom\u001b[39;00m \u001b[38;5;21;01me\u001b[39;00m\n\u001b[0;32m   1049\u001b[0m md \u001b[38;5;241m=\u001b[39m {}\n\u001b[0;32m   1050\u001b[0m \u001b[38;5;28;01mif\u001b[39;00m \u001b[38;5;28mself\u001b[39m\u001b[38;5;241m.\u001b[39mmetadata:\n",
      "\u001b[1;31mFileNotFoundError\u001b[0m: No such file or directory: 'minmax.png'"
     ]
    },
    {
     "ename": "FileNotFoundError",
     "evalue": "No such file or directory: 'minmax.png'",
     "output_type": "error",
     "traceback": [
      "\u001b[1;31m---------------------------------------------------------------------------\u001b[0m",
      "\u001b[1;31mTypeError\u001b[0m                                 Traceback (most recent call last)",
      "File \u001b[1;32mD:\\plant_pathology\\anaconda\\Lib\\site-packages\\IPython\\core\\display.py:1045\u001b[0m, in \u001b[0;36mImage._data_and_metadata\u001b[1;34m(self, always_both)\u001b[0m\n\u001b[0;32m   1044\u001b[0m \u001b[38;5;28;01mtry\u001b[39;00m:\n\u001b[1;32m-> 1045\u001b[0m     b64_data \u001b[38;5;241m=\u001b[39m b2a_base64(\u001b[38;5;28mself\u001b[39m\u001b[38;5;241m.\u001b[39mdata, newline\u001b[38;5;241m=\u001b[39m\u001b[38;5;28;01mFalse\u001b[39;00m)\u001b[38;5;241m.\u001b[39mdecode(\u001b[38;5;124m\"\u001b[39m\u001b[38;5;124mascii\u001b[39m\u001b[38;5;124m\"\u001b[39m)\n\u001b[0;32m   1046\u001b[0m \u001b[38;5;28;01mexcept\u001b[39;00m \u001b[38;5;167;01mTypeError\u001b[39;00m \u001b[38;5;28;01mas\u001b[39;00m e:\n",
      "\u001b[1;31mTypeError\u001b[0m: a bytes-like object is required, not 'str'",
      "\nThe above exception was the direct cause of the following exception:\n",
      "\u001b[1;31mFileNotFoundError\u001b[0m                         Traceback (most recent call last)",
      "File \u001b[1;32mD:\\plant_pathology\\anaconda\\Lib\\site-packages\\IPython\\core\\formatters.py:344\u001b[0m, in \u001b[0;36mBaseFormatter.__call__\u001b[1;34m(self, obj)\u001b[0m\n\u001b[0;32m    342\u001b[0m     method \u001b[38;5;241m=\u001b[39m get_real_method(obj, \u001b[38;5;28mself\u001b[39m\u001b[38;5;241m.\u001b[39mprint_method)\n\u001b[0;32m    343\u001b[0m     \u001b[38;5;28;01mif\u001b[39;00m method \u001b[38;5;129;01mis\u001b[39;00m \u001b[38;5;129;01mnot\u001b[39;00m \u001b[38;5;28;01mNone\u001b[39;00m:\n\u001b[1;32m--> 344\u001b[0m         \u001b[38;5;28;01mreturn\u001b[39;00m method()\n\u001b[0;32m    345\u001b[0m     \u001b[38;5;28;01mreturn\u001b[39;00m \u001b[38;5;28;01mNone\u001b[39;00m\n\u001b[0;32m    346\u001b[0m \u001b[38;5;28;01melse\u001b[39;00m:\n",
      "File \u001b[1;32mD:\\plant_pathology\\anaconda\\Lib\\site-packages\\IPython\\core\\display.py:1067\u001b[0m, in \u001b[0;36mImage._repr_png_\u001b[1;34m(self)\u001b[0m\n\u001b[0;32m   1065\u001b[0m \u001b[38;5;28;01mdef\u001b[39;00m \u001b[38;5;21m_repr_png_\u001b[39m(\u001b[38;5;28mself\u001b[39m):\n\u001b[0;32m   1066\u001b[0m     \u001b[38;5;28;01mif\u001b[39;00m \u001b[38;5;28mself\u001b[39m\u001b[38;5;241m.\u001b[39membed \u001b[38;5;129;01mand\u001b[39;00m \u001b[38;5;28mself\u001b[39m\u001b[38;5;241m.\u001b[39mformat \u001b[38;5;241m==\u001b[39m \u001b[38;5;28mself\u001b[39m\u001b[38;5;241m.\u001b[39m_FMT_PNG:\n\u001b[1;32m-> 1067\u001b[0m         \u001b[38;5;28;01mreturn\u001b[39;00m \u001b[38;5;28mself\u001b[39m\u001b[38;5;241m.\u001b[39m_data_and_metadata()\n",
      "File \u001b[1;32mD:\\plant_pathology\\anaconda\\Lib\\site-packages\\IPython\\core\\display.py:1047\u001b[0m, in \u001b[0;36mImage._data_and_metadata\u001b[1;34m(self, always_both)\u001b[0m\n\u001b[0;32m   1045\u001b[0m     b64_data \u001b[38;5;241m=\u001b[39m b2a_base64(\u001b[38;5;28mself\u001b[39m\u001b[38;5;241m.\u001b[39mdata, newline\u001b[38;5;241m=\u001b[39m\u001b[38;5;28;01mFalse\u001b[39;00m)\u001b[38;5;241m.\u001b[39mdecode(\u001b[38;5;124m\"\u001b[39m\u001b[38;5;124mascii\u001b[39m\u001b[38;5;124m\"\u001b[39m)\n\u001b[0;32m   1046\u001b[0m \u001b[38;5;28;01mexcept\u001b[39;00m \u001b[38;5;167;01mTypeError\u001b[39;00m \u001b[38;5;28;01mas\u001b[39;00m e:\n\u001b[1;32m-> 1047\u001b[0m     \u001b[38;5;28;01mraise\u001b[39;00m \u001b[38;5;167;01mFileNotFoundError\u001b[39;00m(\n\u001b[0;32m   1048\u001b[0m         \u001b[38;5;124m\"\u001b[39m\u001b[38;5;124mNo such file or directory: \u001b[39m\u001b[38;5;124m'\u001b[39m\u001b[38;5;132;01m%s\u001b[39;00m\u001b[38;5;124m'\u001b[39m\u001b[38;5;124m\"\u001b[39m \u001b[38;5;241m%\u001b[39m (\u001b[38;5;28mself\u001b[39m\u001b[38;5;241m.\u001b[39mdata)) \u001b[38;5;28;01mfrom\u001b[39;00m \u001b[38;5;21;01me\u001b[39;00m\n\u001b[0;32m   1049\u001b[0m md \u001b[38;5;241m=\u001b[39m {}\n\u001b[0;32m   1050\u001b[0m \u001b[38;5;28;01mif\u001b[39;00m \u001b[38;5;28mself\u001b[39m\u001b[38;5;241m.\u001b[39mmetadata:\n",
      "\u001b[1;31mFileNotFoundError\u001b[0m: No such file or directory: 'minmax.png'"
     ]
    },
    {
     "data": {
      "text/plain": [
       "<IPython.core.display.Image object>"
      ]
     },
     "execution_count": 150,
     "metadata": {},
     "output_type": "execute_result"
    }
   ],
   "source": [
    "from IPython.display import Image\n",
    "Image('minmax.png')"
   ]
  },
  {
   "cell_type": "code",
   "execution_count": 151,
   "id": "2c1bd5cb-59f1-4585-9100-3052cc1588dc",
   "metadata": {},
   "outputs": [],
   "source": [
    "from sklearn.preprocessing import MinMaxScaler\n",
    "import numpy as np"
   ]
  },
  {
   "cell_type": "markdown",
   "id": "b0092e54-88f3-4464-801a-1de8bb1077a3",
   "metadata": {},
   "source": [
    "## Generate some example data¶"
   ]
  },
  {
   "cell_type": "code",
   "execution_count": 152,
   "id": "c88e5c56-9cbf-489e-a5e9-1ba59befc809",
   "metadata": {},
   "outputs": [],
   "source": [
    "data = np.array([[1.0, 2.0, 3.0],\n",
    "                 [4.0, 5.0, 6.0],\n",
    "                 [7.0, 8.0, 9.0]])"
   ]
  },
  {
   "cell_type": "markdown",
   "id": "3ca0201c-8ed2-4dd5-b6ec-bdd5bf8bf5bc",
   "metadata": {},
   "source": [
    "## Create a MinMaxScaler instance"
   ]
  },
  {
   "cell_type": "code",
   "execution_count": 153,
   "id": "1b4100a6-41b7-40bb-91de-8d0ff26471f7",
   "metadata": {},
   "outputs": [],
   "source": [
    "scaler = MinMaxScaler()"
   ]
  },
  {
   "cell_type": "markdown",
   "id": "29f5e9f5-9240-4b46-9b74-923d2c72c689",
   "metadata": {},
   "source": [
    "## Fit the scaler to the data and transform it in one step"
   ]
  },
  {
   "cell_type": "code",
   "execution_count": 154,
   "id": "c307cebe-bd4e-4d22-928a-b30e96589acd",
   "metadata": {},
   "outputs": [
    {
     "data": {
      "text/plain": [
       "array([[0. , 0. , 0. ],\n",
       "       [0.5, 0.5, 0.5],\n",
       "       [1. , 1. , 1. ]])"
      ]
     },
     "execution_count": 154,
     "metadata": {},
     "output_type": "execute_result"
    }
   ],
   "source": [
    "data_transformed = scaler.fit_transform(data)\n",
    "data_transformed"
   ]
  },
  {
   "cell_type": "markdown",
   "id": "5ce884d7-518f-4ef0-b961-46594f26c71b",
   "metadata": {},
   "source": [
    "## Alternatively, you can use fit and transform separately¶"
   ]
  },
  {
   "cell_type": "code",
   "execution_count": 155,
   "id": "6509785d-a440-4971-bbff-fc28cc52c98c",
   "metadata": {},
   "outputs": [],
   "source": [
    "scaler.fit(data)\n",
    "data_transformed_separate = scaler.transform(data)"
   ]
  },
  {
   "cell_type": "markdown",
   "id": "0996c60c-a081-493f-948a-888be8a2c8bd",
   "metadata": {},
   "source": [
    "## Print the original data, transformed data using fit_transform, and transformed data using fit and transform separately¶"
   ]
  },
  {
   "cell_type": "code",
   "execution_count": 156,
   "id": "8579fcd0-c34a-463b-b3ed-4547f089d56b",
   "metadata": {},
   "outputs": [
    {
     "name": "stdout",
     "output_type": "stream",
     "text": [
      "Original Data:\n",
      "[[1. 2. 3.]\n",
      " [4. 5. 6.]\n",
      " [7. 8. 9.]]\n",
      "\n",
      "Transformed Data using fit_transform:\n",
      "[[0.  0.  0. ]\n",
      " [0.5 0.5 0.5]\n",
      " [1.  1.  1. ]]\n",
      "\n",
      "Transformed Data using fit and transform separately:\n",
      "[[0.  0.  0. ]\n",
      " [0.5 0.5 0.5]\n",
      " [1.  1.  1. ]]\n"
     ]
    }
   ],
   "source": [
    "print(\"Original Data:\")\n",
    "print(data)\n",
    "\n",
    "print(\"\\nTransformed Data using fit_transform:\")\n",
    "print(data_transformed)\n",
    "\n",
    "print(\"\\nTransformed Data using fit and transform separately:\")\n",
    "print(data_transformed_separate)\n"
   ]
  },
  {
   "cell_type": "markdown",
   "id": "734dda94-3fbc-4934-80fc-9432ff52ff22",
   "metadata": {},
   "source": [
    "## Fit and Transform Seperately¶"
   ]
  },
  {
   "cell_type": "code",
   "execution_count": 157,
   "id": "ac55e44b-561e-4904-9b0b-61f96d0aec18",
   "metadata": {},
   "outputs": [],
   "source": [
    "scaler.fit(data)\n",
    "data_transformed_separate = scaler.transform(data)"
   ]
  },
  {
   "cell_type": "code",
   "execution_count": 158,
   "id": "01e976ce-eee4-4f97-832a-1722cd84746f",
   "metadata": {},
   "outputs": [
    {
     "name": "stdout",
     "output_type": "stream",
     "text": [
      "Original Data:\n",
      "[[1. 2. 3.]\n",
      " [4. 5. 6.]\n",
      " [7. 8. 9.]]\n",
      "\n",
      "Transformed Data using fit and transform separately:\n",
      "[[0.  0.  0. ]\n",
      " [0.5 0.5 0.5]\n",
      " [1.  1.  1. ]]\n"
     ]
    }
   ],
   "source": [
    "print(\"Original Data:\")\n",
    "print(data)\n",
    "\n",
    "print(\"\\nTransformed Data using fit and transform separately:\")\n",
    "print(data_transformed_separate)"
   ]
  }
 ],
 "metadata": {
  "kernelspec": {
   "display_name": "Python 3 (ipykernel)",
   "language": "python",
   "name": "python3"
  },
  "language_info": {
   "codemirror_mode": {
    "name": "ipython",
    "version": 3
   },
   "file_extension": ".py",
   "mimetype": "text/x-python",
   "name": "python",
   "nbconvert_exporter": "python",
   "pygments_lexer": "ipython3",
   "version": "3.11.7"
  }
 },
 "nbformat": 4,
 "nbformat_minor": 5
}
