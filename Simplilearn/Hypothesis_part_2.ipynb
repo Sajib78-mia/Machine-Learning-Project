{
 "cells": [
  {
   "cell_type": "markdown",
   "id": "c9542fb5-67d1-4b5c-bcb7-31c2b8b9447c",
   "metadata": {},
   "source": [
    "## Compares sample mean(parametric) "
   ]
  },
  {
   "cell_type": "markdown",
   "id": "fb7e47cd-8b13-4b47-943d-153d11129200",
   "metadata": {},
   "source": [
    "Student t-test\n"
   ]
  },
  {
   "cell_type": "markdown",
   "id": "1c1a7ed8-64ae-41d2-aa47-e604d4c1c230",
   "metadata": {},
   "source": [
    "paired student's t-test\n"
   ]
  },
  {
   "cell_type": "markdown",
   "id": "5894f2db-519f-4f05-84d8-2601a1647105",
   "metadata": {},
   "source": [
    "Analysis of varience test(ANOVA)\n"
   ]
  },
  {
   "cell_type": "markdown",
   "id": "267dd403-ea33-4e78-978d-0300add36e6b",
   "metadata": {},
   "source": [
    "repeated meaures ANOVA test"
   ]
  },
  {
   "cell_type": "markdown",
   "id": "1268f152-0f1b-4922-aff2-59ae0bb3b0bf",
   "metadata": {},
   "source": [
    "## t-test"
   ]
  },
  {
   "cell_type": "markdown",
   "id": "c50c8683-3b8b-4acf-bbd8-7ecb87225ec3",
   "metadata": {},
   "source": [
    "it compares mean of two groups"
   ]
  },
  {
   "cell_type": "markdown",
   "id": "126b256d-86af-40c6-87a0-4ab9a08bbbb1",
   "metadata": {},
   "source": [
    "it's a parametric statistical test"
   ]
  },
  {
   "cell_type": "markdown",
   "id": "0561aedf-1128-432d-8192-1be12e2dc74c",
   "metadata": {},
   "source": [
    "it is used to study if there is statistical difference bteween two groups"
   ]
  },
  {
   "cell_type": "markdown",
   "id": "afbe083f-0ebc-4be5-ac93-55ac6f6187c7",
   "metadata": {},
   "source": [
    "## Type of t-test"
   ]
  },
  {
   "cell_type": "markdown",
   "id": "0e9dc4dd-c9b7-455b-9d65-15cc16311dfb",
   "metadata": {},
   "source": [
    "one sample t-test"
   ]
  },
  {
   "cell_type": "markdown",
   "id": "af817766-c3cb-4362-887f-ce3ec425fc44",
   "metadata": {},
   "source": [
    "paired t-test(dependent)"
   ]
  },
  {
   "cell_type": "markdown",
   "id": "09e922ee-e7ae-4c15-8a87-92c07458a228",
   "metadata": {},
   "source": [
    "unpaired t-test(independent)"
   ]
  },
  {
   "cell_type": "markdown",
   "id": "16e7eae9-0353-46a1-99c6-1329c637160d",
   "metadata": {},
   "source": [
    "## unpaired t-test have two categories"
   ]
  },
  {
   "cell_type": "markdown",
   "id": "7f6490ac-3b88-48ff-ae1e-de01f8e7e619",
   "metadata": {},
   "source": [
    "## Student t-test"
   ]
  },
  {
   "cell_type": "markdown",
   "id": "da95bd7c-2fb6-444e-b1e0-c900f0c546ea",
   "metadata": {},
   "source": [
    "Equal varience"
   ]
  },
  {
   "cell_type": "markdown",
   "id": "ae070a86-67b1-473a-bd4b-a423d2a19a1f",
   "metadata": {},
   "source": [
    "two sample t-test"
   ]
  },
  {
   "cell_type": "markdown",
   "id": "0b01db61-73db-4970-8e9f-0b0f8f4b74ed",
   "metadata": {},
   "source": [
    "## welch t-test"
   ]
  },
  {
   "cell_type": "markdown",
   "id": "0d0e63bf-9e24-4b84-8e54-11dcedc3a229",
   "metadata": {},
   "source": [
    "unequal varience"
   ]
  },
  {
   "cell_type": "markdown",
   "id": "233f4a55-31dc-4a13-90dd-98f28ca4bd70",
   "metadata": {},
   "source": [
    "unequal variencer t-test"
   ]
  },
  {
   "cell_type": "markdown",
   "id": "31a070cb-f8c3-4fd1-aa13-59f11aa66dd2",
   "metadata": {},
   "source": [
    "## Selection of t-tet"
   ]
  },
  {
   "cell_type": "markdown",
   "id": "99de0e98-f7b4-4ea2-9569-0d67c4119f45",
   "metadata": {},
   "source": [
    "one sample t-test(for one sample)"
   ]
  },
  {
   "cell_type": "markdown",
   "id": "5990279e-faa5-4711-978f-75695e1d523a",
   "metadata": {},
   "source": [
    "paired t-test (for dependent samples)"
   ]
  },
  {
   "cell_type": "markdown",
   "id": "6d586055-1d98-4b1f-ad29-76b4cca34008",
   "metadata": {},
   "source": [
    "Student t-test (when sample size and varience are equal)"
   ]
  },
  {
   "cell_type": "markdown",
   "id": "66795bf2-ccf6-4e15-9e84-2f2527f2ae8c",
   "metadata": {},
   "source": [
    "welch t-test (when sample size and varience are different)"
   ]
  },
  {
   "cell_type": "code",
   "execution_count": 1,
   "id": "d6af8b77-5c84-46f9-932b-3f685bf7401e",
   "metadata": {},
   "outputs": [],
   "source": [
    "import pandas as pd\n",
    "import numpy as np\n",
    "import matplotlib.pyplot as plt\n",
    "import seaborn as sns\n",
    "from scipy import stats\n",
    "sns.set(font_scale=2, palette=\"viridis\")"
   ]
  },
  {
   "cell_type": "code",
   "execution_count": 2,
   "id": "b249da8b-2fac-4c8c-82f6-eb57fa6481d2",
   "metadata": {},
   "outputs": [
    {
     "data": {
      "text/html": [
       "<div>\n",
       "<style scoped>\n",
       "    .dataframe tbody tr th:only-of-type {\n",
       "        vertical-align: middle;\n",
       "    }\n",
       "\n",
       "    .dataframe tbody tr th {\n",
       "        vertical-align: top;\n",
       "    }\n",
       "\n",
       "    .dataframe thead th {\n",
       "        text-align: right;\n",
       "    }\n",
       "</style>\n",
       "<table border=\"1\" class=\"dataframe\">\n",
       "  <thead>\n",
       "    <tr style=\"text-align: right;\">\n",
       "      <th></th>\n",
       "      <th>Height</th>\n",
       "      <th>Weight</th>\n",
       "      <th>Age</th>\n",
       "      <th>Gender</th>\n",
       "      <th>Smokes</th>\n",
       "      <th>Alcohol</th>\n",
       "      <th>Exercise</th>\n",
       "      <th>Ran</th>\n",
       "      <th>Pulse1</th>\n",
       "      <th>Pulse2</th>\n",
       "      <th>Year</th>\n",
       "    </tr>\n",
       "  </thead>\n",
       "  <tbody>\n",
       "    <tr>\n",
       "      <th>0</th>\n",
       "      <td>173</td>\n",
       "      <td>57.0</td>\n",
       "      <td>18</td>\n",
       "      <td>2</td>\n",
       "      <td>2</td>\n",
       "      <td>1</td>\n",
       "      <td>2</td>\n",
       "      <td>2</td>\n",
       "      <td>86.0</td>\n",
       "      <td>88.0</td>\n",
       "      <td>93</td>\n",
       "    </tr>\n",
       "    <tr>\n",
       "      <th>1</th>\n",
       "      <td>179</td>\n",
       "      <td>58.0</td>\n",
       "      <td>19</td>\n",
       "      <td>2</td>\n",
       "      <td>2</td>\n",
       "      <td>1</td>\n",
       "      <td>2</td>\n",
       "      <td>1</td>\n",
       "      <td>82.0</td>\n",
       "      <td>150.0</td>\n",
       "      <td>93</td>\n",
       "    </tr>\n",
       "    <tr>\n",
       "      <th>2</th>\n",
       "      <td>167</td>\n",
       "      <td>62.0</td>\n",
       "      <td>18</td>\n",
       "      <td>2</td>\n",
       "      <td>2</td>\n",
       "      <td>1</td>\n",
       "      <td>1</td>\n",
       "      <td>1</td>\n",
       "      <td>96.0</td>\n",
       "      <td>176.0</td>\n",
       "      <td>93</td>\n",
       "    </tr>\n",
       "    <tr>\n",
       "      <th>3</th>\n",
       "      <td>195</td>\n",
       "      <td>84.0</td>\n",
       "      <td>18</td>\n",
       "      <td>1</td>\n",
       "      <td>2</td>\n",
       "      <td>1</td>\n",
       "      <td>1</td>\n",
       "      <td>2</td>\n",
       "      <td>71.0</td>\n",
       "      <td>73.0</td>\n",
       "      <td>93</td>\n",
       "    </tr>\n",
       "    <tr>\n",
       "      <th>4</th>\n",
       "      <td>173</td>\n",
       "      <td>64.0</td>\n",
       "      <td>18</td>\n",
       "      <td>2</td>\n",
       "      <td>2</td>\n",
       "      <td>1</td>\n",
       "      <td>3</td>\n",
       "      <td>2</td>\n",
       "      <td>90.0</td>\n",
       "      <td>88.0</td>\n",
       "      <td>93</td>\n",
       "    </tr>\n",
       "    <tr>\n",
       "      <th>...</th>\n",
       "      <td>...</td>\n",
       "      <td>...</td>\n",
       "      <td>...</td>\n",
       "      <td>...</td>\n",
       "      <td>...</td>\n",
       "      <td>...</td>\n",
       "      <td>...</td>\n",
       "      <td>...</td>\n",
       "      <td>...</td>\n",
       "      <td>...</td>\n",
       "      <td>...</td>\n",
       "    </tr>\n",
       "    <tr>\n",
       "      <th>105</th>\n",
       "      <td>93</td>\n",
       "      <td>27.0</td>\n",
       "      <td>19</td>\n",
       "      <td>2</td>\n",
       "      <td>2</td>\n",
       "      <td>2</td>\n",
       "      <td>3</td>\n",
       "      <td>2</td>\n",
       "      <td>119.0</td>\n",
       "      <td>120.0</td>\n",
       "      <td>98</td>\n",
       "    </tr>\n",
       "    <tr>\n",
       "      <th>106</th>\n",
       "      <td>161</td>\n",
       "      <td>43.0</td>\n",
       "      <td>19</td>\n",
       "      <td>2</td>\n",
       "      <td>2</td>\n",
       "      <td>2</td>\n",
       "      <td>3</td>\n",
       "      <td>2</td>\n",
       "      <td>90.0</td>\n",
       "      <td>89.0</td>\n",
       "      <td>98</td>\n",
       "    </tr>\n",
       "    <tr>\n",
       "      <th>107</th>\n",
       "      <td>182</td>\n",
       "      <td>60.0</td>\n",
       "      <td>22</td>\n",
       "      <td>1</td>\n",
       "      <td>2</td>\n",
       "      <td>1</td>\n",
       "      <td>3</td>\n",
       "      <td>2</td>\n",
       "      <td>86.0</td>\n",
       "      <td>84.0</td>\n",
       "      <td>98</td>\n",
       "    </tr>\n",
       "    <tr>\n",
       "      <th>108</th>\n",
       "      <td>170</td>\n",
       "      <td>65.0</td>\n",
       "      <td>18</td>\n",
       "      <td>1</td>\n",
       "      <td>2</td>\n",
       "      <td>1</td>\n",
       "      <td>1</td>\n",
       "      <td>2</td>\n",
       "      <td>69.0</td>\n",
       "      <td>64.0</td>\n",
       "      <td>98</td>\n",
       "    </tr>\n",
       "    <tr>\n",
       "      <th>109</th>\n",
       "      <td>185</td>\n",
       "      <td>85.0</td>\n",
       "      <td>19</td>\n",
       "      <td>1</td>\n",
       "      <td>2</td>\n",
       "      <td>1</td>\n",
       "      <td>2</td>\n",
       "      <td>2</td>\n",
       "      <td>75.0</td>\n",
       "      <td>68.0</td>\n",
       "      <td>98</td>\n",
       "    </tr>\n",
       "  </tbody>\n",
       "</table>\n",
       "<p>110 rows × 11 columns</p>\n",
       "</div>"
      ],
      "text/plain": [
       "     Height  Weight  Age  Gender  Smokes  Alcohol  Exercise  Ran  Pulse1  \\\n",
       "0       173    57.0   18       2       2        1         2    2    86.0   \n",
       "1       179    58.0   19       2       2        1         2    1    82.0   \n",
       "2       167    62.0   18       2       2        1         1    1    96.0   \n",
       "3       195    84.0   18       1       2        1         1    2    71.0   \n",
       "4       173    64.0   18       2       2        1         3    2    90.0   \n",
       "..      ...     ...  ...     ...     ...      ...       ...  ...     ...   \n",
       "105      93    27.0   19       2       2        2         3    2   119.0   \n",
       "106     161    43.0   19       2       2        2         3    2    90.0   \n",
       "107     182    60.0   22       1       2        1         3    2    86.0   \n",
       "108     170    65.0   18       1       2        1         1    2    69.0   \n",
       "109     185    85.0   19       1       2        1         2    2    75.0   \n",
       "\n",
       "     Pulse2  Year  \n",
       "0      88.0    93  \n",
       "1     150.0    93  \n",
       "2     176.0    93  \n",
       "3      73.0    93  \n",
       "4      88.0    93  \n",
       "..      ...   ...  \n",
       "105   120.0    98  \n",
       "106    89.0    98  \n",
       "107    84.0    98  \n",
       "108    64.0    98  \n",
       "109    68.0    98  \n",
       "\n",
       "[110 rows x 11 columns]"
      ]
     },
     "execution_count": 2,
     "metadata": {},
     "output_type": "execute_result"
    }
   ],
   "source": [
    "df=pd.read_csv('pulse_rate.csv')\n",
    "df"
   ]
  },
  {
   "cell_type": "markdown",
   "id": "1cd4018d-44bd-44df-b07c-0dc9ba5777a4",
   "metadata": {},
   "source": [
    "## one sample t-test(for one sample)"
   ]
  },
  {
   "cell_type": "code",
   "execution_count": 3,
   "id": "03a3f3e0-ef90-4557-8c9d-18c36b36990a",
   "metadata": {},
   "outputs": [
    {
     "data": {
      "text/plain": [
       "count    110.000000\n",
       "mean     171.581818\n",
       "std       16.076869\n",
       "min       68.000000\n",
       "25%      165.250000\n",
       "50%      172.500000\n",
       "75%      180.000000\n",
       "max      195.000000\n",
       "Name: Height, dtype: float64"
      ]
     },
     "execution_count": 3,
     "metadata": {},
     "output_type": "execute_result"
    }
   ],
   "source": [
    "df.Height.describe()"
   ]
  },
  {
   "cell_type": "code",
   "execution_count": 4,
   "id": "d2e38a16-5a9a-4ee0-b1e7-8a7d7a7d8c8a",
   "metadata": {},
   "outputs": [
    {
     "data": {
      "text/plain": [
       "-3.4596813483410345"
      ]
     },
     "execution_count": 4,
     "metadata": {},
     "output_type": "execute_result"
    }
   ],
   "source": [
    "stats.skew(df['Height'])"
   ]
  },
  {
   "cell_type": "code",
   "execution_count": 5,
   "id": "3c506086-ec24-4c0b-9a06-c9c8ae18ea0f",
   "metadata": {},
   "outputs": [
    {
     "data": {
      "text/plain": [
       "18.72902540592068"
      ]
     },
     "execution_count": 5,
     "metadata": {},
     "output_type": "execute_result"
    }
   ],
   "source": [
    "stats.kurtosis(df['Height'])"
   ]
  },
  {
   "cell_type": "code",
   "execution_count": 6,
   "id": "73a4b756-6910-42dd-9ae7-ab1c84a8cc42",
   "metadata": {},
   "outputs": [
    {
     "name": "stderr",
     "output_type": "stream",
     "text": [
      "D:\\plant_pathology\\anaconda\\Lib\\site-packages\\seaborn\\_oldcore.py:1119: FutureWarning: use_inf_as_na option is deprecated and will be removed in a future version. Convert inf values to NaN before operating instead.\n",
      "  with pd.option_context('mode.use_inf_as_na', True):\n"
     ]
    },
    {
     "data": {
      "image/png": "[encoded data removed]",
      "text/plain": [
       "<Figure size 640x480 with 1 Axes>"
      ]
     },
     "metadata": {},
     "output_type": "display_data"
    }
   ],
   "source": [
    "sns.histplot(df['Height'],kde=True)\n",
    "plt.show()"
   ]
  },
  {
   "cell_type": "markdown",
   "id": "e345d8a5-0ab2-41e1-b1f0-50a639d25732",
   "metadata": {},
   "source": [
    "stat, p = stats.ttest_1samp(df['Height'],170)\n",
    "print(f\"stat={stat},p-value={p}\")\n",
    "alpha=0.05\n",
    "if p>alpha:\n",
    "    print(\" The aveerage height is 170  (fail to reject null hypothesis-the result is not significant)\")\n",
    "else:\n",
    "    print(\" The average height not 170 (reject null hypothesis-the result is significant)\")"
   ]
  },
  {
   "cell_type": "code",
   "execution_count": 7,
   "id": "7a5ffad4-9ba5-4411-b5c3-720f3cb2e1b8",
   "metadata": {},
   "outputs": [
    {
     "data": {
      "text/plain": [
       "count    110.000000\n",
       "mean      20.563636\n",
       "std        3.922476\n",
       "min       18.000000\n",
       "25%       19.000000\n",
       "50%       20.000000\n",
       "75%       21.000000\n",
       "max       45.000000\n",
       "Name: Age, dtype: float64"
      ]
     },
     "execution_count": 7,
     "metadata": {},
     "output_type": "execute_result"
    }
   ],
   "source": [
    "df.Age.describe()"
   ]
  },
  {
   "cell_type": "code",
   "execution_count": 8,
   "id": "95669c52-a967-4958-befb-6582a9f177c6",
   "metadata": {},
   "outputs": [
    {
     "name": "stdout",
     "output_type": "stream",
     "text": [
      "stat=1.5070754726984867,p-value=0.1346841207960362\n",
      " The aveerage Age is 20 (fail to reject null hypothesis-the result is not significant)\n"
     ]
    }
   ],
   "source": [
    "stat, p = stats.ttest_1samp(df['Age'],20)\n",
    "print(f\"stat={stat},p-value={p}\")\n",
    "alpha=0.05\n",
    "if p>alpha:\n",
    "    print(\" The aveerage Age is 20 (fail to reject null hypothesis-the result is not significant)\")\n",
    "else:\n",
    "    print(\" The average height not 20 (reject null hypothesis-the result is significant)\")"
   ]
  },
  {
   "cell_type": "markdown",
   "id": "effe952e-1a2e-49d6-8bc5-0e479f226d1e",
   "metadata": {},
   "source": [
    "## Student t-test¶"
   ]
  },
  {
   "cell_type": "markdown",
   "id": "ac8e9bf2-aaea-43df-b07a-7423471f2fe9",
   "metadata": {},
   "source": [
    " it compares the mean of two group"
   ]
  },
  {
   "cell_type": "markdown",
   "id": "412789b6-673a-42f0-8dca-38116536c8e2",
   "metadata": {},
   "source": [
    "equal varience"
   ]
  },
  {
   "cell_type": "markdown",
   "id": "6cd2e03c-5fad-4b11-9a87-e7078b2c5f43",
   "metadata": {},
   "source": [
    "Normally distributed"
   ]
  },
  {
   "cell_type": "markdown",
   "id": "042f1d26-1a27-4c94-b8c1-aee289f22ea2",
   "metadata": {},
   "source": [
    "Sample size should be equalSample size should be equal"
   ]
  },
  {
   "cell_type": "code",
   "execution_count": 9,
   "id": "e0c6eba1-4ed2-4d23-8c38-25cf26d25a47",
   "metadata": {},
   "outputs": [
    {
     "data": {
      "text/plain": [
       "array([2, 1], dtype=int64)"
      ]
     },
     "execution_count": 9,
     "metadata": {},
     "output_type": "execute_result"
    }
   ],
   "source": [
    "df['Gender'].unique()"
   ]
  },
  {
   "cell_type": "code",
   "execution_count": 10,
   "id": "0fc26537-6305-46c7-82ec-53263c567a3c",
   "metadata": {},
   "outputs": [
    {
     "data": {
      "text/plain": [
       "count    110.000000\n",
       "mean     171.581818\n",
       "std       16.076869\n",
       "min       68.000000\n",
       "25%      165.250000\n",
       "50%      172.500000\n",
       "75%      180.000000\n",
       "max      195.000000\n",
       "Name: Height, dtype: float64"
      ]
     },
     "execution_count": 10,
     "metadata": {},
     "output_type": "execute_result"
    }
   ],
   "source": [
    "df['Height'].describe()"
   ]
  },
  {
   "cell_type": "code",
   "execution_count": 11,
   "id": "1196c31e-cfbe-4768-9e5d-c4ca6c568585",
   "metadata": {},
   "outputs": [
    {
     "data": {
      "text/plain": [
       "(110, 11)"
      ]
     },
     "execution_count": 11,
     "metadata": {},
     "output_type": "execute_result"
    }
   ],
   "source": [
    "df.shape"
   ]
  },
  {
   "cell_type": "code",
   "execution_count": 12,
   "id": "102b2e87-2014-4cac-933b-b84bf01bce47",
   "metadata": {},
   "outputs": [
    {
     "data": {
      "text/html": [
       "<div>\n",
       "<style scoped>\n",
       "    .dataframe tbody tr th:only-of-type {\n",
       "        vertical-align: middle;\n",
       "    }\n",
       "\n",
       "    .dataframe tbody tr th {\n",
       "        vertical-align: top;\n",
       "    }\n",
       "\n",
       "    .dataframe thead th {\n",
       "        text-align: right;\n",
       "    }\n",
       "</style>\n",
       "<table border=\"1\" class=\"dataframe\">\n",
       "  <thead>\n",
       "    <tr style=\"text-align: right;\">\n",
       "      <th></th>\n",
       "      <th>count</th>\n",
       "      <th>mean</th>\n",
       "      <th>std</th>\n",
       "      <th>min</th>\n",
       "      <th>25%</th>\n",
       "      <th>50%</th>\n",
       "      <th>75%</th>\n",
       "      <th>max</th>\n",
       "    </tr>\n",
       "    <tr>\n",
       "      <th>Gender</th>\n",
       "      <th></th>\n",
       "      <th></th>\n",
       "      <th></th>\n",
       "      <th></th>\n",
       "      <th></th>\n",
       "      <th></th>\n",
       "      <th></th>\n",
       "      <th></th>\n",
       "    </tr>\n",
       "  </thead>\n",
       "  <tbody>\n",
       "    <tr>\n",
       "      <th>1</th>\n",
       "      <td>59.0</td>\n",
       "      <td>177.711864</td>\n",
       "      <td>16.273578</td>\n",
       "      <td>68.0</td>\n",
       "      <td>174.0</td>\n",
       "      <td>180.0</td>\n",
       "      <td>184.5</td>\n",
       "      <td>195.0</td>\n",
       "    </tr>\n",
       "    <tr>\n",
       "      <th>2</th>\n",
       "      <td>51.0</td>\n",
       "      <td>164.490196</td>\n",
       "      <td>12.673393</td>\n",
       "      <td>93.0</td>\n",
       "      <td>162.0</td>\n",
       "      <td>165.0</td>\n",
       "      <td>171.0</td>\n",
       "      <td>180.0</td>\n",
       "    </tr>\n",
       "  </tbody>\n",
       "</table>\n",
       "</div>"
      ],
      "text/plain": [
       "        count        mean        std   min    25%    50%    75%    max\n",
       "Gender                                                                \n",
       "1        59.0  177.711864  16.273578  68.0  174.0  180.0  184.5  195.0\n",
       "2        51.0  164.490196  12.673393  93.0  162.0  165.0  171.0  180.0"
      ]
     },
     "execution_count": 12,
     "metadata": {},
     "output_type": "execute_result"
    }
   ],
   "source": [
    "df.groupby('Gender')['Height'].describe()"
   ]
  },
  {
   "cell_type": "code",
   "execution_count": 13,
   "id": "bf8a412d-01c8-435f-a2e8-aec5f8ed8eee",
   "metadata": {},
   "outputs": [
    {
     "data": {
      "image/png": "[encoded data removed]",
      "text/plain": [
       "<Figure size 1000x800 with 1 Axes>"
      ]
     },
     "metadata": {},
     "output_type": "display_data"
    }
   ],
   "source": [
    "plt.figure(figsize=(10,8))\n",
    "sns.boxplot(data=df, x=\"Gender\",y=\"Height\")\n",
    "plt.show() "
   ]
  },
  {
   "cell_type": "code",
   "execution_count": 14,
   "id": "b4350120-9ee8-4346-8ec5-da30332426cc",
   "metadata": {},
   "outputs": [],
   "source": [
    "## subset od data\n",
    "sample_1= df[(df['Gender']==1)]\n",
    "sample_2= df[(df['Gender']==2)]"
   ]
  },
  {
   "cell_type": "code",
   "execution_count": 15,
   "id": "eb3c4888-df3e-4088-acb1-d2d7e6f9d1e1",
   "metadata": {},
   "outputs": [
    {
     "data": {
      "text/plain": [
       "((59, 11), (51, 11))"
      ]
     },
     "execution_count": 15,
     "metadata": {},
     "output_type": "execute_result"
    }
   ],
   "source": [
    "sample_1.shape,sample_2.shape"
   ]
  },
  {
   "cell_type": "code",
   "execution_count": 16,
   "id": "0da6f293-b98a-40c4-98a2-74ed1cef1f83",
   "metadata": {},
   "outputs": [
    {
     "data": {
      "text/plain": [
       "((50, 11), (51, 11))"
      ]
     },
     "execution_count": 16,
     "metadata": {},
     "output_type": "execute_result"
    }
   ],
   "source": [
    "## Sample size should be equal\n",
    "sample_1= sample_1.sample(50)\n",
    "sample_1.shape,sample_2.shape"
   ]
  },
  {
   "cell_type": "markdown",
   "id": "ec29ff02-f7c7-4362-9d00-df5d897ea44f",
   "metadata": {},
   "source": [
    "## varience test"
   ]
  },
  {
   "cell_type": "code",
   "execution_count": 17,
   "id": "85d97119-0ea4-48d4-aaf2-3f5fee5c3c03",
   "metadata": {},
   "outputs": [
    {
     "data": {
      "text/plain": [
       "LeveneResult(statistic=0.0917709076125954, pvalue=0.7625734027365595)"
      ]
     },
     "execution_count": 17,
     "metadata": {},
     "output_type": "execute_result"
    }
   ],
   "source": [
    "stats.levene(sample_1['Height'],sample_2['Height'])"
   ]
  },
  {
   "cell_type": "code",
   "execution_count": 18,
   "id": "da11d2c7-26ae-4b84-9e25-7efba789d78e",
   "metadata": {},
   "outputs": [
    {
     "name": "stdout",
     "output_type": "stream",
     "text": [
      "stat=0.0917709076125954,p-value=0.7625734027365595\n",
      " The varience are equal between two groups (fail to reject null hypothesis-the result is not significant)\n"
     ]
    }
   ],
   "source": [
    "stat, p = stats.levene(sample_1['Height'],sample_2['Height'])\n",
    "print(f\"stat={stat},p-value={p}\")\n",
    "alpha=0.05\n",
    "if p>alpha:\n",
    "    print(\" The varience are equal between two groups (fail to reject null hypothesis-the result is not significant)\")\n",
    "else:\n",
    "    print(\" The varience are not equal between two groups  (reject null hypothesis-the result is significant)\")"
   ]
  },
  {
   "cell_type": "markdown",
   "id": "02535f5a-73a7-4437-84ba-c02909ccdbea",
   "metadata": {},
   "source": [
    "## If the test were to be significant a viable alternative would be to conduct a Welch's t-test"
   ]
  },
  {
   "cell_type": "code",
   "execution_count": 19,
   "id": "bd3e347f-49df-4e93-8f16-434d33e99e55",
   "metadata": {},
   "outputs": [
    {
     "name": "stderr",
     "output_type": "stream",
     "text": [
      "D:\\plant_pathology\\anaconda\\Lib\\site-packages\\seaborn\\_oldcore.py:1119: FutureWarning: use_inf_as_na option is deprecated and will be removed in a future version. Convert inf values to NaN before operating instead.\n",
      "  with pd.option_context('mode.use_inf_as_na', True):\n"
     ]
    },
    {
     "data": {
      "image/png": "[encoded data removed]",
      "text/plain": [
       "<Figure size 1000x800 with 1 Axes>"
      ]
     },
     "metadata": {},
     "output_type": "display_data"
    }
   ],
   "source": [
    "plt.figure(figsize=(10,8))\n",
    "sns.histplot(sample_1[\"Height\"],kde=True)\n",
    "plt.show()"
   ]
  },
  {
   "cell_type": "code",
   "execution_count": 20,
   "id": "76bd5610-c189-4cdd-9b7c-3f6cb1860158",
   "metadata": {},
   "outputs": [
    {
     "data": {
      "image/png": "[encoded data removed]",
      "text/plain": [
       "<Figure size 1000x800 with 1 Axes>"
      ]
     },
     "metadata": {},
     "output_type": "display_data"
    }
   ],
   "source": [
    "plt.figure(figsize=(10,8))\n",
    "stats.probplot(sample_1[\"Height\"],plot=plt,dist=\"norm\")\n",
    "plt.show()"
   ]
  },
  {
   "cell_type": "markdown",
   "id": "12c5c41e-6693-4b76-9a95-6e7649eaf067",
   "metadata": {},
   "source": [
    "## Checking normal distribution"
   ]
  },
  {
   "cell_type": "code",
   "execution_count": 22,
   "id": "5b208c6d-1392-4240-9766-48a34529ab83",
   "metadata": {},
   "outputs": [
    {
     "name": "stdout",
     "output_type": "stream",
     "text": [
      "statistic=0.48936259746551514,p-value=6.052771131526136e-12\n",
      "The sample is not normally distributed(reject null hypothesis-the result is significant)\n"
     ]
    }
   ],
   "source": [
    "stat, p_value= stats.shapiro(sample_1[\"Height\"])\n",
    "print(f\"statistic={stat},p-value={p_value}\")\n",
    "alpha=0.05\n",
    "if p_value>alpha:\n",
    "    printr(\"The sample is normally distributed(fail to reject null hypothesis-the result is not significant)\")\n",
    "else:\n",
    "    print(\"The sample is not normally distributed(reject null hypothesis-the result is significant)\")"
   ]
  },
  {
   "cell_type": "code",
   "execution_count": 23,
   "id": "9c1e50a0-bf6f-4385-98aa-c13b888b9e83",
   "metadata": {},
   "outputs": [
    {
     "name": "stdout",
     "output_type": "stream",
     "text": [
      "statistic=0.6713067293167114,p-value=2.0564547842383263e-09\n",
      "The sample is not normally distributed(reject null hypothesis-the result is significant)\n"
     ]
    }
   ],
   "source": [
    "stat, p_value= stats.shapiro(sample_2[\"Height\"])\n",
    "print(f\"statistic={stat},p-value={p_value}\")\n",
    "alpha=0.05\n",
    "if p_value>alpha:\n",
    "    printr(\"The sample is normally distributed(fail to reject null hypothesis-the result is not significant)\")\n",
    "else:\n",
    "    print(\"The sample is not normally distributed(reject null hypothesis-the result is significant)\")"
   ]
  },
  {
   "cell_type": "code",
   "execution_count": 24,
   "id": "ea515123-502c-4825-a3a1-55ba03598fa9",
   "metadata": {},
   "outputs": [
    {
     "data": {
      "text/plain": [
       "TtestResult(statistic=4.1582633944682454, pvalue=6.829414329121301e-05, df=99.0)"
      ]
     },
     "execution_count": 24,
     "metadata": {},
     "output_type": "execute_result"
    }
   ],
   "source": [
    "stats.ttest_ind(sample_1[\"Height\"],sample_2[\"Height\"])"
   ]
  },
  {
   "cell_type": "code",
   "execution_count": 41,
   "id": "e2b5c61f-2a8e-4766-b45f-e095d797496a",
   "metadata": {},
   "outputs": [
    {
     "name": "stdout",
     "output_type": "stream",
     "text": [
      "statistic=4.145931366324661,p-value=7.64312680769643e-05\n",
      "Reject null hypothesis and the means are not equal between two group)\n"
     ]
    }
   ],
   "source": [
    "stat, p_value= stats.ttest_ind(sample_1[\"Height\"],sample_2[\"Height\"])\n",
    "print(f\"statistic={stat},p-value={p_value}\")\n",
    "alpha=0.05\n",
    "if p_value>alpha:\n",
    "    printr(\" accept null hypothesis and the means are equal between two group\")\n",
    "else:\n",
    "    print(\"Reject null hypothesis and the means are not equal between two group)\")"
   ]
  },
  {
   "cell_type": "markdown",
   "id": "0b53aa21-a4a4-46a8-aee3-22bcec7f3c17",
   "metadata": {},
   "source": [
    "## Welch's test"
   ]
  },
  {
   "cell_type": "code",
   "execution_count": 42,
   "id": "dc001128-41f5-457f-ac63-f6e481dd5d84",
   "metadata": {},
   "outputs": [
    {
     "name": "stdout",
     "output_type": "stream",
     "text": [
      "statistic=4.145931366324661,p-value=7.64312680769643e-05\n",
      "Reject null hypothesis and the means are not equal between two group)\n"
     ]
    }
   ],
   "source": [
    "stat, p_value= stats.ttest_ind(sample_1[\"Height\"],sample_2[\"Height\"],equal_var=False)\n",
    "print(f\"statistic={stat},p-value={p_value}\")\n",
    "alpha=0.05\n",
    "if p_value>alpha:\n",
    "    printr(\" accept null hypothesis and the means are equal between two group\")\n",
    "else:\n",
    "    print(\"Reject null hypothesis and the means are not equal between two group)\")\n"
   ]
  },
  {
   "cell_type": "code",
   "execution_count": 38,
   "id": "8a72e293-fa07-48c5-bd04-3ad54802e71e",
   "metadata": {},
   "outputs": [
    {
     "ename": "ModuleNotFoundError",
     "evalue": "No module named 'researchpy'",
     "output_type": "error",
     "traceback": [
      "\u001b[1;31m---------------------------------------------------------------------------\u001b[0m",
      "\u001b[1;31mModuleNotFoundError\u001b[0m                       Traceback (most recent call last)",
      "Cell \u001b[1;32mIn[38], line 1\u001b[0m\n\u001b[1;32m----> 1\u001b[0m \u001b[38;5;28;01mimport\u001b[39;00m \u001b[38;5;21;01mresearchpy\u001b[39;00m \n\u001b[0;32m      2\u001b[0m Descriptives, results\u001b[38;5;241m=\u001b[39m rp\u001b[38;5;241m.\u001b[39mttest(sample_1[\u001b[38;5;124m\"\u001b[39m\u001b[38;5;124mHeight\u001b[39m\u001b[38;5;124m\"\u001b[39m],sample_2[\u001b[38;5;124m\"\u001b[39m\u001b[38;5;124mHeight\u001b[39m\u001b[38;5;124m\"\u001b[39m])\n",
      "\u001b[1;31mModuleNotFoundError\u001b[0m: No module named 'researchpy'"
     ]
    }
   ],
   "source": [
    "import researchpy \n",
    "Descriptives, results= rp.ttest(sample_1[\"Height\"],sample_2[\"Height\"])"
   ]
  }
 ],
 "metadata": {
  "kernelspec": {
   "display_name": "Python 3 (ipykernel)",
   "language": "python",
   "name": "python3"
  },
  "language_info": {
   "codemirror_mode": {
    "name": "ipython",
    "version": 3
   },
   "file_extension": ".py",
   "mimetype": "text/x-python",
   "name": "python",
   "nbconvert_exporter": "python",
   "pygments_lexer": "ipython3",
   "version": "3.11.7"
  }
 },
 "nbformat": 4,
 "nbformat_minor": 5
}
